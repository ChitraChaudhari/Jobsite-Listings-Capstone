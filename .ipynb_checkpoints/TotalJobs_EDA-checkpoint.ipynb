{
 "cells": [
  {
   "cell_type": "markdown",
   "id": "ae0370f0",
   "metadata": {},
   "source": [
    "# EDA for all the data from from three job sites, Dice , Indeed and SimplyHired"
   ]
  },
  {
   "cell_type": "markdown",
   "id": "8228830f",
   "metadata": {},
   "source": [
    "## Import New Data (sep 2022)"
   ]
  },
  {
   "cell_type": "code",
   "execution_count": 1,
   "id": "58a04132",
   "metadata": {},
   "outputs": [],
   "source": [
    "import numpy as np\n",
    "import pandas as pd\n",
    "import os\n",
    "import re"
   ]
  },
  {
   "cell_type": "code",
   "execution_count": 5,
   "id": "be4e20cd",
   "metadata": {},
   "outputs": [
    {
     "ename": "FileNotFoundError",
     "evalue": "[Errno 2] No such file or directory: 'users/rajpa/gc-march-2022/data'",
     "output_type": "error",
     "traceback": [
      "\u001b[0;31m---------------------------------------------------------------------------\u001b[0m",
      "\u001b[0;31mFileNotFoundError\u001b[0m                         Traceback (most recent call last)",
      "Input \u001b[0;32mIn [5]\u001b[0m, in \u001b[0;36m<cell line: 1>\u001b[0;34m()\u001b[0m\n\u001b[0;32m----> 1\u001b[0m \u001b[43mos\u001b[49m\u001b[38;5;241;43m.\u001b[39;49m\u001b[43mchdir\u001b[49m\u001b[43m(\u001b[49m\u001b[38;5;124;43mr\u001b[39;49m\u001b[38;5;124;43m'\u001b[39;49m\u001b[38;5;124;43musers/rajpa/gc-march-2022/data\u001b[39;49m\u001b[38;5;124;43m'\u001b[39;49m\u001b[43m)\u001b[49m\n",
      "\u001b[0;31mFileNotFoundError\u001b[0m: [Errno 2] No such file or directory: 'users/rajpa/gc-march-2022/data'"
     ]
    }
   ],
   "source": [
    "os.chdir(r'users/rajpa/gc-march-2022/data')"
   ]
  },
  {
   "cell_type": "code",
   "execution_count": null,
   "id": "b682be15",
   "metadata": {},
   "outputs": [],
   "source": [
    "dice_da = pd.read_csv('dice_DataAnalyst_2022.csv')\n",
    "dice_de = pd.read_csv('dice_DataEngineer_2022.csv')\n",
    "dice_ds = pd.read_csv('dice_Datascientist_2022.csv')\n",
    "\n",
    "id_da = pd.read_csv('Indeed_DataAnalyst_2022.csv')\n",
    "id_de = pd.read_csv('Indeed_DataEngineer_2022.csv')\n",
    "id_ds = pd.read_csv('Indeed_DataScience_2022.csv')\n",
    "\n",
    "sh_de = pd.read_csv('simplyhired-DE-2022.csv')\n",
    "sh_da = pd.read_csv('simplyhired-DA-2022.csv')\n",
    "sh_ds = pd.read_csv('simplyhired-DS-2022.csv')\n",
    "\n",
    "df = pd.concat([dice_da,dice_de,dice_ds,id_da,id_de,id_ds,sh_da,sh_de,sh_ds], ignore_index=True)\n",
    "df.info()"
   ]
  },
  {
   "cell_type": "code",
   "execution_count": null,
   "id": "bcb0b1ec",
   "metadata": {
    "scrolled": true
   },
   "outputs": [],
   "source": [
    "df"
   ]
  },
  {
   "cell_type": "markdown",
   "id": "479625b3",
   "metadata": {},
   "source": [
    "### Data cleaning"
   ]
  },
  {
   "cell_type": "code",
   "execution_count": null,
   "id": "d7bef1a7",
   "metadata": {},
   "outputs": [],
   "source": [
    "df= df.drop(columns=['Unnamed: 0'])\n",
    "df = df.drop_duplicates(ignore_index=True)\n",
    "df.info()"
   ]
  },
  {
   "cell_type": "code",
   "execution_count": null,
   "id": "3eb3199e",
   "metadata": {},
   "outputs": [],
   "source": [
    "df['title'] = df['title'].str.lower()\n",
    "df['company'] = df['company'].str.lower()\n",
    "df['description'] = df['description'].str.lower()\n",
    "df['location'] = df['location'].str.lower()"
   ]
  },
  {
   "cell_type": "code",
   "execution_count": null,
   "id": "76a67cf7",
   "metadata": {
    "scrolled": true
   },
   "outputs": [],
   "source": [
    "df['is_remote'] = np.where(df['location'].str.contains('remote'),1,0)\n",
    "df"
   ]
  },
  {
   "cell_type": "code",
   "execution_count": null,
   "id": "db772fc9",
   "metadata": {},
   "outputs": [],
   "source": [
    "skills=['python','java','sql','spark','hadoop','bigdata','machine learning','hive','pig','git','nosql','aws','azure', 'power bi', 'tableau','etl','agile','relational databases','postgres','matlab','graphql','data analysis','excel','data modeling','shell scripting','gcp','cloud computing','deep learning','nlp','flask','eda','data transformation','informatica']\n",
    "\n",
    "df['skills'] = np.nan\n",
    "\n",
    "for ind in df.index:\n",
    "    desc=df['description'][ind]\n",
    " \n",
    "    desc = re.sub(\"[^a-zA-Z]\",  # Search for all non-letters\n",
    "                          \" \",          # Replace all non-letters with spaces\n",
    "                          str(desc))\n",
    "    lst = ''\n",
    "    for skill in skills:\n",
    "        if  re.search(skill,desc):\n",
    "            lst=lst+skill+','\n",
    "    lst = lst[:-1]\n",
    "   \n",
    "    if ind < len(df):\n",
    "        df['skills'].iloc[ind]=lst\n",
    "\n",
    "df.head(10)"
   ]
  },
  {
   "cell_type": "code",
   "execution_count": null,
   "id": "6c9d36f8",
   "metadata": {},
   "outputs": [],
   "source": [
    "df['job_type'] = np.where(df['title'].str.contains('analy'),'Data Analyst','0')\n",
    "df['job_type'] = np.where(df['title'].str.contains('engineer'),'Data Engineer',df['job_type'])\n",
    "df['job_type'] = np.where(df['title'].str.contains('scien'),'Data Scientist',df['job_type'])\n",
    "df['job_type'] = np.where(df['job_type'] == '0','Other',df['job_type'])\n",
    "df"
   ]
  },
  {
   "cell_type": "code",
   "execution_count": null,
   "id": "0f70b9dc",
   "metadata": {},
   "outputs": [],
   "source": [
    "df.to_csv(r'C:\\Users\\chitr\\gc-march-2022\\Cleaned_New_Data.csv', index=False)"
   ]
  },
  {
   "cell_type": "markdown",
   "id": "d09cf2f0",
   "metadata": {},
   "source": [
    "### Import old data for comparison"
   ]
  },
  {
   "cell_type": "code",
   "execution_count": null,
   "id": "5bdbd25e",
   "metadata": {
    "scrolled": true
   },
   "outputs": [],
   "source": [
    "old_dice_df = pd.read_csv('dice.csv')\n",
    "old_id_df = pd.read_csv('indeed_jobs.csv')\n",
    "old_sh_df = pd.read_csv('simplyhired.csv')\n",
    "\n",
    "old_df = pd.concat([old_dice_df, old_id_df, old_sh_df], ignore_index=True)\n",
    "old_df.info()"
   ]
  },
  {
   "cell_type": "code",
   "execution_count": null,
   "id": "e9bebac2",
   "metadata": {
    "scrolled": false
   },
   "outputs": [],
   "source": [
    "old_df"
   ]
  },
  {
   "cell_type": "code",
   "execution_count": null,
   "id": "ff64c9fb",
   "metadata": {
    "scrolled": true
   },
   "outputs": [],
   "source": [
    "old_df= old_df.drop(columns=['Unnamed: 0','jobtype'])\n",
    "old_df = old_df.drop_duplicates(ignore_index=True)\n",
    "old_df.info()"
   ]
  },
  {
   "cell_type": "code",
   "execution_count": null,
   "id": "6c982682",
   "metadata": {},
   "outputs": [],
   "source": [
    "old_df['title'] = old_df['title'].str.lower()\n",
    "old_df['company'] = old_df['company'].str.lower()\n",
    "old_df['description'] = old_df['description'].str.lower()\n",
    "old_df['location'] = old_df['location'].str.lower()"
   ]
  },
  {
   "cell_type": "code",
   "execution_count": null,
   "id": "a63fb4ff",
   "metadata": {
    "scrolled": true
   },
   "outputs": [],
   "source": [
    "old_df['is_remote'] = np.where(old_df['location'].str.contains('remote'),1,0)\n",
    "old_df"
   ]
  },
  {
   "cell_type": "code",
   "execution_count": null,
   "id": "c4a09016",
   "metadata": {},
   "outputs": [],
   "source": [
    "old_df.to_csv(r'C:\\Users\\chitr\\gc-march-2022\\Cleaned_Old_Data.csv', index=False)"
   ]
  },
  {
   "cell_type": "markdown",
   "id": "a552dfb2",
   "metadata": {},
   "source": [
    "## What is remote Job trend in past year?"
   ]
  },
  {
   "cell_type": "code",
   "execution_count": null,
   "id": "5561dda9",
   "metadata": {
    "scrolled": false
   },
   "outputs": [],
   "source": [
    "df.is_remote.value_counts()"
   ]
  },
  {
   "cell_type": "code",
   "execution_count": null,
   "id": "5db6ffce",
   "metadata": {},
   "outputs": [],
   "source": [
    "separate = [0, 0.05]\n",
    "pie = df['is_remote'].value_counts().plot.pie(\n",
    "            explode=separate,\n",
    "            autopct=(lambda p : '{:.2f}%'.format(p)),\n",
    "            fontsize=20,label='Remote', pctdistance=0.5,\n",
    "            figsize=(6, 6))"
   ]
  },
  {
   "cell_type": "code",
   "execution_count": null,
   "id": "770acf25",
   "metadata": {},
   "outputs": [],
   "source": [
    "old_df.is_remote.value_counts()"
   ]
  },
  {
   "cell_type": "code",
   "execution_count": null,
   "id": "c97d05ee",
   "metadata": {
    "scrolled": true
   },
   "outputs": [],
   "source": [
    "separate = [0, 0.05]\n",
    "pie = old_df['is_remote'].value_counts().plot.pie(\n",
    "            explode=separate,\n",
    "            autopct=(lambda p : '{:.2f}%'.format(p)),\n",
    "            fontsize=20,label='Remote', pctdistance=0.5,\n",
    "            figsize=(6, 6))"
   ]
  },
  {
   "cell_type": "code",
   "execution_count": null,
   "id": "c43f9698",
   "metadata": {},
   "outputs": [],
   "source": [
    "import matplotlib.pyplot as plt\n",
    "year = ['2021','2022']\n",
    "plt.title(\"US Remote jobs\")\n",
    "plt.xlabel(\"year\")\n",
    "plt.ylabel(\"#jobs\")\n",
    "xpos=np.arange(len(year))\n",
    "plt.xticks(xpos, year)\n",
    "\n",
    "plt.bar(xpos-0.2,[old_df['is_remote'].value_counts(normalize=True)[1], df['is_remote'].value_counts(normalize=True)[1]],width=0.4,label='remote')\n",
    "plt.bar(xpos+0.2,[old_df['is_remote'].value_counts(normalize=True)[0], df['is_remote'].value_counts(normalize=True)[0]],width=0.4,label='InPerson')\n",
    "plt.legend()"
   ]
  },
  {
   "cell_type": "code",
   "execution_count": null,
   "id": "648ecdbc",
   "metadata": {},
   "outputs": [],
   "source": [
    "plt.xlabel('Year')\n",
    "plt.ylabel('Avrage job count')\n",
    "plt.title('Average jobs per year')\n",
    "\n",
    "plt.plot(year,[old_df['is_remote'].value_counts(normalize=True)[1], df['is_remote'].value_counts(normalize=True)[1]],label = 'remote')\n",
    "plt.plot(year,[old_df['is_remote'].value_counts(normalize=True)[0], df['is_remote'].value_counts(normalize=True)[0]],label = 'in-person')\n",
    "\n",
    "plt.legend(loc='best',shadow=True, fontsize = 'large')\n",
    "\n",
    "#plt.grid()"
   ]
  },
  {
   "cell_type": "code",
   "execution_count": null,
   "id": "f686617c",
   "metadata": {},
   "outputs": [],
   "source": [
    "remote_jobs = pd.DataFrame([['2021', old_df['is_remote'].value_counts(normalize=True)[1], 'Yes'],\n",
    "                            ['2021', old_df['is_remote'].value_counts(normalize=True)[0], 'No'],\n",
    "                            ['2022', df['is_remote'].value_counts(normalize=True)[1], 'Yes'],\n",
    "                            ['2022', df['is_remote'].value_counts(normalize=True)[0], 'No']],\n",
    "            columns=['Year','Average Jobs','Remote'])\n",
    "remote_jobs"
   ]
  },
  {
   "cell_type": "code",
   "execution_count": null,
   "id": "efdebe4c",
   "metadata": {
    "scrolled": true
   },
   "outputs": [],
   "source": [
    "import plotly.express as px\n",
    "\n",
    "testdf = remote_jobs.query(\"Remote == 'Yes'\")\n",
    "\n",
    "#testdf\n",
    "\n",
    "fig = px.line(testdf, x=\"Year\", y=\"Average Jobs\", title='Average Remote Jobs Per Year', markers=True)\n",
    "fig.show()"
   ]
  },
  {
   "cell_type": "markdown",
   "id": "b5ca920e",
   "metadata": {},
   "source": [
    "## What are latest top 10 skills required ?"
   ]
  },
  {
   "cell_type": "code",
   "execution_count": null,
   "id": "848f36bc",
   "metadata": {},
   "outputs": [],
   "source": [
    "result = df.skills.str.split(',',expand=True).stack().value_counts().reset_index()\n",
    "result.columns = ['Word','Frequency']\n",
    "result = result[1:]\n",
    "result"
   ]
  },
  {
   "cell_type": "code",
   "execution_count": null,
   "id": "775b8a3e",
   "metadata": {
    "scrolled": true
   },
   "outputs": [],
   "source": [
    "fig = px.funnel( x=result.Frequency.values[1:11], y=result.Word.values[1:11])\n",
    "fig.show()"
   ]
  },
  {
   "cell_type": "code",
   "execution_count": null,
   "id": "006d5d73",
   "metadata": {},
   "outputs": [],
   "source": [
    "result = old_df.skills.str.split(',',expand=True).stack().value_counts().reset_index()\n",
    "result.columns = ['Word','Frequency']\n",
    "result = result[1:]\n",
    "result"
   ]
  },
  {
   "cell_type": "markdown",
   "id": "f05bc87b",
   "metadata": {},
   "source": [
    "# Which job category got most jobs? Data engineering, Data Analyst or Data Science?"
   ]
  },
  {
   "cell_type": "code",
   "execution_count": null,
   "id": "57e7a79e",
   "metadata": {
    "scrolled": false
   },
   "outputs": [],
   "source": [
    "fig = plt.figure(figsize = (10,5))\n",
    "df.job_type.value_counts(ascending=True).plot.barh()\n",
    "plt.title('Jobs By Category')\n",
    "plt.xlabel(\"# jobs\")\n",
    "plt.ylabel(\"Job Type\")\n",
    "plt.show()"
   ]
  },
  {
   "cell_type": "code",
   "execution_count": null,
   "id": "154fbb39",
   "metadata": {},
   "outputs": [],
   "source": [
    "result=df.job_type.value_counts()"
   ]
  },
  {
   "cell_type": "code",
   "execution_count": null,
   "id": "bc162fd4",
   "metadata": {
    "scrolled": true
   },
   "outputs": [],
   "source": [
    "fig = px.pie(df, values=df.job_type.value_counts(), names=df.job_type.value_counts().index)\n",
    "fig.show()\n"
   ]
  },
  {
   "cell_type": "markdown",
   "id": "c44766aa",
   "metadata": {},
   "source": [
    "## What is the overall job avaibility aross USA?"
   ]
  },
  {
   "cell_type": "code",
   "execution_count": null,
   "id": "61f4c718",
   "metadata": {},
   "outputs": [],
   "source": []
  },
  {
   "cell_type": "code",
   "execution_count": null,
   "id": "acc9d3a6",
   "metadata": {},
   "outputs": [],
   "source": []
  },
  {
   "cell_type": "code",
   "execution_count": null,
   "id": "a607eb2f",
   "metadata": {},
   "outputs": [],
   "source": []
  }
 ],
 "metadata": {
  "kernelspec": {
   "display_name": "Python 3 (ipykernel)",
   "language": "python",
   "name": "python3"
  },
  "language_info": {
   "codemirror_mode": {
    "name": "ipython",
    "version": 3
   },
   "file_extension": ".py",
   "mimetype": "text/x-python",
   "name": "python",
   "nbconvert_exporter": "python",
   "pygments_lexer": "ipython3",
   "version": "3.9.12"
  }
 },
 "nbformat": 4,
 "nbformat_minor": 5
}
