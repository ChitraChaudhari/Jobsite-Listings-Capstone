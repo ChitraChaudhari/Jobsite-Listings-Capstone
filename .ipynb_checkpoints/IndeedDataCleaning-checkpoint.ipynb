{
 "cells": [
  {
   "cell_type": "code",
   "execution_count": 1,
   "id": "541608c7",
   "metadata": {
    "ExecuteTime": {
     "end_time": "2022-08-31T01:34:22.100654Z",
     "start_time": "2022-08-31T01:34:21.734287Z"
    }
   },
   "outputs": [],
   "source": [
    "import pandas as pd \n",
    "import os\n",
    "import pyspark \n",
    "from pyspark.sql import SparkSession"
   ]
  },
  {
   "cell_type": "code",
   "execution_count": 2,
   "id": "361c7282",
   "metadata": {
    "ExecuteTime": {
     "end_time": "2022-08-31T01:34:22.107111Z",
     "start_time": "2022-08-31T01:34:22.102111Z"
    }
   },
   "outputs": [],
   "source": [
    "#replace with correct directory where data files are located \n",
    "os.chdir(r'C:\\Users\\Nicho\\gc-march-2022\\data')"
   ]
  },
  {
   "cell_type": "code",
   "execution_count": 3,
   "id": "de499e6a",
   "metadata": {
    "ExecuteTime": {
     "end_time": "2022-08-31T01:34:22.145381Z",
     "start_time": "2022-08-31T01:34:22.108094Z"
    }
   },
   "outputs": [],
   "source": [
    "da = pd.read_csv('Indeed_DataAnalyst_2022.csv')\n",
    "de = pd.read_csv('Indeed_DataEngineer_2022.csv')\n",
    "ds = pd.read_csv('Indeed_DataScience_2022.csv')"
   ]
  },
  {
   "cell_type": "code",
   "execution_count": 4,
   "id": "42056813",
   "metadata": {
    "ExecuteTime": {
     "end_time": "2022-08-31T01:34:22.169982Z",
     "start_time": "2022-08-31T01:34:22.146040Z"
    }
   },
   "outputs": [
    {
     "name": "stdout",
     "output_type": "stream",
     "text": [
      "<class 'pandas.core.frame.DataFrame'>\n",
      "RangeIndex: 1155 entries, 0 to 1154\n",
      "Data columns (total 6 columns):\n",
      " #   Column       Non-Null Count  Dtype \n",
      "---  ------       --------------  ----- \n",
      " 0   Unnamed: 0   1155 non-null   int64 \n",
      " 1   title        1155 non-null   object\n",
      " 2   company      1153 non-null   object\n",
      " 3   salary       388 non-null    object\n",
      " 4   description  1153 non-null   object\n",
      " 5   location     1153 non-null   object\n",
      "dtypes: int64(1), object(5)\n",
      "memory usage: 54.3+ KB\n",
      "<class 'pandas.core.frame.DataFrame'>\n",
      "RangeIndex: 4504 entries, 0 to 4503\n",
      "Data columns (total 6 columns):\n",
      " #   Column       Non-Null Count  Dtype \n",
      "---  ------       --------------  ----- \n",
      " 0   Unnamed: 0   4504 non-null   int64 \n",
      " 1   title        4504 non-null   object\n",
      " 2   company      4504 non-null   object\n",
      " 3   salary       1256 non-null   object\n",
      " 4   description  4504 non-null   object\n",
      " 5   location     4504 non-null   object\n",
      "dtypes: int64(1), object(5)\n",
      "memory usage: 211.2+ KB\n",
      "<class 'pandas.core.frame.DataFrame'>\n",
      "RangeIndex: 1153 entries, 0 to 1152\n",
      "Data columns (total 6 columns):\n",
      " #   Column       Non-Null Count  Dtype \n",
      "---  ------       --------------  ----- \n",
      " 0   Unnamed: 0   1153 non-null   int64 \n",
      " 1   title        1153 non-null   object\n",
      " 2   company      1153 non-null   object\n",
      " 3   salary       341 non-null    object\n",
      " 4   description  1153 non-null   object\n",
      " 5   location     1153 non-null   object\n",
      "dtypes: int64(1), object(5)\n",
      "memory usage: 54.2+ KB\n"
     ]
    }
   ],
   "source": [
    "da.info()\n",
    "de.info()\n",
    "ds.info()"
   ]
  },
  {
   "cell_type": "markdown",
   "id": "12106447",
   "metadata": {},
   "source": [
    "There is a lot more rows in the engineering data than the other two sites. Only the salary column contains null values."
   ]
  },
  {
   "cell_type": "code",
   "execution_count": 5,
   "id": "eaa8f23e",
   "metadata": {
    "ExecuteTime": {
     "end_time": "2022-08-31T01:34:22.196943Z",
     "start_time": "2022-08-31T01:34:22.170975Z"
    }
   },
   "outputs": [
    {
     "name": "stdout",
     "output_type": "stream",
     "text": [
      "<class 'pandas.core.frame.DataFrame'>\n",
      "Int64Index: 4504 entries, 0 to 4503\n",
      "Data columns (total 6 columns):\n",
      " #   Column       Non-Null Count  Dtype \n",
      "---  ------       --------------  ----- \n",
      " 0   Unnamed: 0   4504 non-null   int64 \n",
      " 1   title        4504 non-null   object\n",
      " 2   company      4504 non-null   object\n",
      " 3   salary       1256 non-null   object\n",
      " 4   description  4504 non-null   object\n",
      " 5   location     4504 non-null   object\n",
      "dtypes: int64(1), object(5)\n",
      "memory usage: 246.3+ KB\n"
     ]
    },
    {
     "data": {
      "text/html": [
       "<div>\n",
       "<style scoped>\n",
       "    .dataframe tbody tr th:only-of-type {\n",
       "        vertical-align: middle;\n",
       "    }\n",
       "\n",
       "    .dataframe tbody tr th {\n",
       "        vertical-align: top;\n",
       "    }\n",
       "\n",
       "    .dataframe thead th {\n",
       "        text-align: right;\n",
       "    }\n",
       "</style>\n",
       "<table border=\"1\" class=\"dataframe\">\n",
       "  <thead>\n",
       "    <tr style=\"text-align: right;\">\n",
       "      <th></th>\n",
       "      <th>Unnamed: 0</th>\n",
       "      <th>title</th>\n",
       "      <th>company</th>\n",
       "      <th>salary</th>\n",
       "      <th>description</th>\n",
       "      <th>location</th>\n",
       "    </tr>\n",
       "  </thead>\n",
       "  <tbody>\n",
       "    <tr>\n",
       "      <th>0</th>\n",
       "      <td>0</td>\n",
       "      <td>Data Engineer</td>\n",
       "      <td>Computer Enterprises, Inc. (CEI)</td>\n",
       "      <td>$84.55 an hour</td>\n",
       "      <td>Proficient with relational data modeling.Big d...</td>\n",
       "      <td>+3 locationsRemote</td>\n",
       "    </tr>\n",
       "    <tr>\n",
       "      <th>1</th>\n",
       "      <td>1</td>\n",
       "      <td>Junior Data Engineer</td>\n",
       "      <td>Pepsico</td>\n",
       "      <td>$90,000 - $100,000 a year</td>\n",
       "      <td>Manage and scale data pipelines from internal ...</td>\n",
       "      <td>+10 locationsRemote</td>\n",
       "    </tr>\n",
       "    <tr>\n",
       "      <th>2</th>\n",
       "      <td>2</td>\n",
       "      <td>Data Engineer</td>\n",
       "      <td>Nter</td>\n",
       "      <td>$60 - $100 an hour</td>\n",
       "      <td>Must have a thorough knowledge of data structu...</td>\n",
       "      <td>Remote</td>\n",
       "    </tr>\n",
       "    <tr>\n",
       "      <th>3</th>\n",
       "      <td>3</td>\n",
       "      <td>Data Engineer</td>\n",
       "      <td>Global IT</td>\n",
       "      <td>$70 - $80 an hour</td>\n",
       "      <td>Experience building and optimizing ‘big data’ ...</td>\n",
       "      <td>Remote in San Diego, CA</td>\n",
       "    </tr>\n",
       "    <tr>\n",
       "      <th>4</th>\n",
       "      <td>4</td>\n",
       "      <td>Data Engineer –with Kendra</td>\n",
       "      <td>Precision Technology</td>\n",
       "      <td>$60 - $62 an hour</td>\n",
       "      <td>Data engineer: 9 years (Required).Working Hour...</td>\n",
       "      <td>+1 locationRemote</td>\n",
       "    </tr>\n",
       "    <tr>\n",
       "      <th>...</th>\n",
       "      <td>...</td>\n",
       "      <td>...</td>\n",
       "      <td>...</td>\n",
       "      <td>...</td>\n",
       "      <td>...</td>\n",
       "      <td>...</td>\n",
       "    </tr>\n",
       "    <tr>\n",
       "      <th>4499</th>\n",
       "      <td>4499</td>\n",
       "      <td>Data Engineer (Mid-Level)</td>\n",
       "      <td>Kforce</td>\n",
       "      <td>NaN</td>\n",
       "      <td>As a Mid-Level Data Engineer, this role focuse...</td>\n",
       "      <td>McLean, VA 22102+5 locations</td>\n",
       "    </tr>\n",
       "    <tr>\n",
       "      <th>4500</th>\n",
       "      <td>4500</td>\n",
       "      <td>Staff Software Engineer - SASE Data Plane</td>\n",
       "      <td>CyberCoders</td>\n",
       "      <td>$120,000 - $215,000 a year</td>\n",
       "      <td>It is our mission to secure and protect your d...</td>\n",
       "      <td>San Francisco, CA 94111 (Financial District ar...</td>\n",
       "    </tr>\n",
       "    <tr>\n",
       "      <th>4501</th>\n",
       "      <td>4501</td>\n",
       "      <td>Sr. Data Engineer/Sr. Database Developer</td>\n",
       "      <td>Kelly</td>\n",
       "      <td>NaN</td>\n",
       "      <td>The Sr. Data Engineer is responsible for desig...</td>\n",
       "      <td>Hybrid remote in Houston, TX 77002</td>\n",
       "    </tr>\n",
       "    <tr>\n",
       "      <th>4502</th>\n",
       "      <td>4502</td>\n",
       "      <td>Software Engineer, Data Engineering</td>\n",
       "      <td>Eastridge Workforce Solutions</td>\n",
       "      <td>$75 - $88 an hour</td>\n",
       "      <td>Owner of the core company data pipeline, respo...</td>\n",
       "      <td>San Francisco, CA</td>\n",
       "    </tr>\n",
       "    <tr>\n",
       "      <th>4503</th>\n",
       "      <td>4503</td>\n",
       "      <td>Data Engineer</td>\n",
       "      <td>ITAC Solutions</td>\n",
       "      <td>NaN</td>\n",
       "      <td>Strong background and competency in data analy...</td>\n",
       "      <td>St. Louis, MO</td>\n",
       "    </tr>\n",
       "  </tbody>\n",
       "</table>\n",
       "<p>4504 rows × 6 columns</p>\n",
       "</div>"
      ],
      "text/plain": [
       "      Unnamed: 0                                      title  \\\n",
       "0              0                              Data Engineer   \n",
       "1              1                       Junior Data Engineer   \n",
       "2              2                              Data Engineer   \n",
       "3              3                              Data Engineer   \n",
       "4              4                 Data Engineer –with Kendra   \n",
       "...          ...                                        ...   \n",
       "4499        4499                  Data Engineer (Mid-Level)   \n",
       "4500        4500  Staff Software Engineer - SASE Data Plane   \n",
       "4501        4501   Sr. Data Engineer/Sr. Database Developer   \n",
       "4502        4502        Software Engineer, Data Engineering   \n",
       "4503        4503                              Data Engineer   \n",
       "\n",
       "                               company                      salary  \\\n",
       "0     Computer Enterprises, Inc. (CEI)              $84.55 an hour   \n",
       "1                              Pepsico   $90,000 - $100,000 a year   \n",
       "2                                 Nter          $60 - $100 an hour   \n",
       "3                            Global IT           $70 - $80 an hour   \n",
       "4                 Precision Technology           $60 - $62 an hour   \n",
       "...                                ...                         ...   \n",
       "4499                            Kforce                         NaN   \n",
       "4500                       CyberCoders  $120,000 - $215,000 a year   \n",
       "4501                             Kelly                         NaN   \n",
       "4502     Eastridge Workforce Solutions           $75 - $88 an hour   \n",
       "4503                    ITAC Solutions                         NaN   \n",
       "\n",
       "                                            description  \\\n",
       "0     Proficient with relational data modeling.Big d...   \n",
       "1     Manage and scale data pipelines from internal ...   \n",
       "2     Must have a thorough knowledge of data structu...   \n",
       "3     Experience building and optimizing ‘big data’ ...   \n",
       "4     Data engineer: 9 years (Required).Working Hour...   \n",
       "...                                                 ...   \n",
       "4499  As a Mid-Level Data Engineer, this role focuse...   \n",
       "4500  It is our mission to secure and protect your d...   \n",
       "4501  The Sr. Data Engineer is responsible for desig...   \n",
       "4502  Owner of the core company data pipeline, respo...   \n",
       "4503  Strong background and competency in data analy...   \n",
       "\n",
       "                                               location  \n",
       "0                                    +3 locationsRemote  \n",
       "1                                   +10 locationsRemote  \n",
       "2                                                Remote  \n",
       "3                               Remote in San Diego, CA  \n",
       "4                                     +1 locationRemote  \n",
       "...                                                 ...  \n",
       "4499                       McLean, VA 22102+5 locations  \n",
       "4500  San Francisco, CA 94111 (Financial District ar...  \n",
       "4501                 Hybrid remote in Houston, TX 77002  \n",
       "4502                                  San Francisco, CA  \n",
       "4503                                      St. Louis, MO  \n",
       "\n",
       "[4504 rows x 6 columns]"
      ]
     },
     "execution_count": 5,
     "metadata": {},
     "output_type": "execute_result"
    }
   ],
   "source": [
    "de = de.drop_duplicates()\n",
    "de.info()\n",
    "de"
   ]
  },
  {
   "cell_type": "code",
   "execution_count": 6,
   "id": "b8ff91dc",
   "metadata": {
    "ExecuteTime": {
     "end_time": "2022-08-31T01:34:22.216882Z",
     "start_time": "2022-08-31T01:34:22.197934Z"
    }
   },
   "outputs": [
    {
     "name": "stdout",
     "output_type": "stream",
     "text": [
      "<class 'pandas.core.frame.DataFrame'>\n",
      "Int64Index: 6812 entries, 0 to 1152\n",
      "Data columns (total 6 columns):\n",
      " #   Column       Non-Null Count  Dtype \n",
      "---  ------       --------------  ----- \n",
      " 0   Unnamed: 0   6812 non-null   int64 \n",
      " 1   title        6812 non-null   object\n",
      " 2   company      6810 non-null   object\n",
      " 3   salary       1985 non-null   object\n",
      " 4   description  6810 non-null   object\n",
      " 5   location     6810 non-null   object\n",
      "dtypes: int64(1), object(5)\n",
      "memory usage: 372.5+ KB\n"
     ]
    }
   ],
   "source": [
    "indeed_df = pd.concat([da,de,ds])\n",
    "indeed_df.drop_duplicates(inplace=True)\n",
    "indeed_df.info()"
   ]
  },
  {
   "cell_type": "code",
   "execution_count": 7,
   "id": "96f11c21",
   "metadata": {
    "ExecuteTime": {
     "end_time": "2022-08-31T01:34:22.228850Z",
     "start_time": "2022-08-31T01:34:22.217883Z"
    }
   },
   "outputs": [
    {
     "data": {
      "text/html": [
       "<div>\n",
       "<style scoped>\n",
       "    .dataframe tbody tr th:only-of-type {\n",
       "        vertical-align: middle;\n",
       "    }\n",
       "\n",
       "    .dataframe tbody tr th {\n",
       "        vertical-align: top;\n",
       "    }\n",
       "\n",
       "    .dataframe thead th {\n",
       "        text-align: right;\n",
       "    }\n",
       "</style>\n",
       "<table border=\"1\" class=\"dataframe\">\n",
       "  <thead>\n",
       "    <tr style=\"text-align: right;\">\n",
       "      <th></th>\n",
       "      <th>Unnamed: 0</th>\n",
       "      <th>title</th>\n",
       "      <th>company</th>\n",
       "      <th>salary</th>\n",
       "      <th>description</th>\n",
       "      <th>location</th>\n",
       "    </tr>\n",
       "  </thead>\n",
       "  <tbody>\n",
       "    <tr>\n",
       "      <th>0</th>\n",
       "      <td>0</td>\n",
       "      <td>Data Science Analyst- Marketing</td>\n",
       "      <td>Indeed</td>\n",
       "      <td>$100,000 - $140,000 a year</td>\n",
       "      <td>Work across a wide range of data engineering t...</td>\n",
       "      <td>Remote in Texas+1 location</td>\n",
       "    </tr>\n",
       "    <tr>\n",
       "      <th>1</th>\n",
       "      <td>1</td>\n",
       "      <td>Data Analyst/Statistician</td>\n",
       "      <td>US Department of Veterans Affairs</td>\n",
       "      <td>$51,980 - $103,518 a year</td>\n",
       "      <td>Create processes for assessing quality and acc...</td>\n",
       "      <td>Hybrid remote in Ann Arbor, MI 48105</td>\n",
       "    </tr>\n",
       "    <tr>\n",
       "      <th>2</th>\n",
       "      <td>2</td>\n",
       "      <td>Departmental Analyst 9-P11 - Data Analytics</td>\n",
       "      <td>State of Michigan</td>\n",
       "      <td>NaN</td>\n",
       "      <td>And reporting, including biannual reports to t...</td>\n",
       "      <td>Dimondale, MI</td>\n",
       "    </tr>\n",
       "    <tr>\n",
       "      <th>3</th>\n",
       "      <td>3</td>\n",
       "      <td>CRM Data Analyst</td>\n",
       "      <td>Zeiss Industrial Quality Solutions</td>\n",
       "      <td>$60,000 - $70,000 a year</td>\n",
       "      <td>Responsible for maintaining SAP/CRM business p...</td>\n",
       "      <td>Wixom, MI 48393+1 location</td>\n",
       "    </tr>\n",
       "    <tr>\n",
       "      <th>4</th>\n",
       "      <td>4</td>\n",
       "      <td>Data Analyst</td>\n",
       "      <td>Winwire Technologies</td>\n",
       "      <td>NaN</td>\n",
       "      <td>Providing resource to add/delete/amend data wi...</td>\n",
       "      <td>Remote</td>\n",
       "    </tr>\n",
       "  </tbody>\n",
       "</table>\n",
       "</div>"
      ],
      "text/plain": [
       "   Unnamed: 0                                        title  \\\n",
       "0           0              Data Science Analyst- Marketing   \n",
       "1           1                    Data Analyst/Statistician   \n",
       "2           2  Departmental Analyst 9-P11 - Data Analytics   \n",
       "3           3                             CRM Data Analyst   \n",
       "4           4                                 Data Analyst   \n",
       "\n",
       "                              company                      salary  \\\n",
       "0                              Indeed  $100,000 - $140,000 a year   \n",
       "1   US Department of Veterans Affairs   $51,980 - $103,518 a year   \n",
       "2                   State of Michigan                         NaN   \n",
       "3  Zeiss Industrial Quality Solutions    $60,000 - $70,000 a year   \n",
       "4                Winwire Technologies                         NaN   \n",
       "\n",
       "                                         description  \\\n",
       "0  Work across a wide range of data engineering t...   \n",
       "1  Create processes for assessing quality and acc...   \n",
       "2  And reporting, including biannual reports to t...   \n",
       "3  Responsible for maintaining SAP/CRM business p...   \n",
       "4  Providing resource to add/delete/amend data wi...   \n",
       "\n",
       "                               location  \n",
       "0            Remote in Texas+1 location  \n",
       "1  Hybrid remote in Ann Arbor, MI 48105  \n",
       "2                         Dimondale, MI  \n",
       "3            Wixom, MI 48393+1 location  \n",
       "4                                Remote  "
      ]
     },
     "execution_count": 7,
     "metadata": {},
     "output_type": "execute_result"
    }
   ],
   "source": [
    "indeed_df.head(5)"
   ]
  },
  {
   "cell_type": "code",
   "execution_count": 8,
   "id": "5093751a",
   "metadata": {
    "ExecuteTime": {
     "end_time": "2022-08-31T01:34:22.250795Z",
     "start_time": "2022-08-31T01:34:22.229856Z"
    }
   },
   "outputs": [
    {
     "name": "stderr",
     "output_type": "stream",
     "text": [
      "C:\\Users\\Nicho\\AppData\\Local\\Temp/ipykernel_8564/1282624251.py:5: FutureWarning: The default value of regex will change from True to False in a future version. In addition, single character regular expressions will *not* be treated as literal strings when regex=True.\n",
      "  indeed_df['salary'] = indeed_df['salary'].str.replace('$',' ')\n",
      "C:\\Users\\Nicho\\AppData\\Local\\Temp/ipykernel_8564/1282624251.py:6: FutureWarning: The default value of regex will change from True to False in a future version.\n",
      "  indeed_df['salary'] = indeed_df['salary'].str.replace(\"[a-z]\",\"\")\n"
     ]
    }
   ],
   "source": [
    "import re\n",
    "indeed_df['salary'] = indeed_df['salary'].str.lower()\n",
    "indeed_df['salary'] = indeed_df['salary'].str.replace(',','')\n",
    "indeed_df['salary'] = indeed_df['salary'].str.replace('-',' ')\n",
    "indeed_df['salary'] = indeed_df['salary'].str.replace('$',' ')\n",
    "indeed_df['salary'] = indeed_df['salary'].str.replace(\"[a-z]\",\"\")   \n",
    "indeed_df['jobid'] = str(indeed_df['title']) + str(indeed_df['company']) + str(indeed_df['company'])\n"
   ]
  },
  {
   "cell_type": "code",
   "execution_count": 9,
   "id": "82f4a01c",
   "metadata": {
    "ExecuteTime": {
     "end_time": "2022-08-31T01:34:22.266749Z",
     "start_time": "2022-08-31T01:34:22.251803Z"
    }
   },
   "outputs": [],
   "source": [
    "income_split = indeed_df['salary'].str.split(expand = True)\n",
    "indeed_df['salary_lower_range'] =  income_split[0]\n",
    "indeed_df['salary_upper_range'] =  income_split[1]\n",
    "indeed_df.drop('salary',axis = 1,inplace=True)"
   ]
  },
  {
   "cell_type": "code",
   "execution_count": 10,
   "id": "67b0356a",
   "metadata": {
    "ExecuteTime": {
     "end_time": "2022-08-31T01:34:22.280713Z",
     "start_time": "2022-08-31T01:34:22.268744Z"
    }
   },
   "outputs": [],
   "source": [
    "\n",
    "indeed_df['company'].dropna(axis=0,inplace=True)\n",
    "indeed_df['salary_lower_range'].fillna(0,inplace=True)\n",
    "indeed_df['salary_upper_range'].fillna(0,inplace=True)\n",
    "indeed_df['salary_lower_range'] = indeed_df['salary_lower_range'].astype(float)\n",
    "indeed_df['salary_upper_range']  = indeed_df['salary_upper_range'].astype(float)\n",
    "hourly_salaries = indeed_df[indeed_df['salary_lower_range'] < 100]\n",
    "indeed_df = indeed_df[indeed_df['salary_lower_range'] > 100]"
   ]
  },
  {
   "cell_type": "code",
   "execution_count": 11,
   "id": "cb60747c",
   "metadata": {
    "ExecuteTime": {
     "end_time": "2022-08-31T01:34:22.288690Z",
     "start_time": "2022-08-31T01:34:22.281709Z"
    }
   },
   "outputs": [],
   "source": [
    "hourly_salaries['salary_lower_range']  = (hourly_salaries['salary_lower_range'] * 40) * 52\n",
    "hourly_salaries['salary_upper_range'] = (hourly_salaries['salary_upper_range'] * 40) * 52"
   ]
  },
  {
   "cell_type": "code",
   "execution_count": 12,
   "id": "f405874c",
   "metadata": {
    "ExecuteTime": {
     "end_time": "2022-08-31T01:34:22.294674Z",
     "start_time": "2022-08-31T01:34:22.289688Z"
    }
   },
   "outputs": [],
   "source": [
    "indeed_df = pd.concat([indeed_df,hourly_salaries])"
   ]
  },
  {
   "cell_type": "code",
   "execution_count": 23,
   "id": "52685973",
   "metadata": {
    "ExecuteTime": {
     "end_time": "2022-08-31T01:42:00.632532Z",
     "start_time": "2022-08-31T01:42:00.626549Z"
    }
   },
   "outputs": [
    {
     "data": {
      "text/plain": [
       "6812"
      ]
     },
     "execution_count": 23,
     "metadata": {},
     "output_type": "execute_result"
    }
   ],
   "source": [
    "indeed_df\n",
    "    \n",
    "    "
   ]
  },
  {
   "cell_type": "code",
   "execution_count": 27,
   "id": "7a186a46",
   "metadata": {
    "ExecuteTime": {
     "end_time": "2022-08-31T01:46:00.892427Z",
     "start_time": "2022-08-31T01:46:00.868574Z"
    }
   },
   "outputs": [
    {
     "data": {
      "text/html": [
       "<div>\n",
       "<style scoped>\n",
       "    .dataframe tbody tr th:only-of-type {\n",
       "        vertical-align: middle;\n",
       "    }\n",
       "\n",
       "    .dataframe tbody tr th {\n",
       "        vertical-align: top;\n",
       "    }\n",
       "\n",
       "    .dataframe thead th {\n",
       "        text-align: right;\n",
       "    }\n",
       "</style>\n",
       "<table border=\"1\" class=\"dataframe\">\n",
       "  <thead>\n",
       "    <tr style=\"text-align: right;\">\n",
       "      <th></th>\n",
       "      <th>Unnamed: 0</th>\n",
       "      <th>title</th>\n",
       "      <th>company</th>\n",
       "      <th>description</th>\n",
       "      <th>location</th>\n",
       "      <th>jobid</th>\n",
       "      <th>salary_lower_range</th>\n",
       "      <th>salary_upper_range</th>\n",
       "    </tr>\n",
       "  </thead>\n",
       "  <tbody>\n",
       "    <tr>\n",
       "      <th>0</th>\n",
       "      <td>0</td>\n",
       "      <td>Data Science Analyst- Marketing</td>\n",
       "      <td>Indeed</td>\n",
       "      <td>Work across a wide range of data engineering t...</td>\n",
       "      <td>Remote in Texas+1 location</td>\n",
       "      <td>44819fba-990e-493c-8c15-ef147247cc74</td>\n",
       "      <td>100000.0</td>\n",
       "      <td>140000.0</td>\n",
       "    </tr>\n",
       "    <tr>\n",
       "      <th>1</th>\n",
       "      <td>1</td>\n",
       "      <td>Data Analyst/Statistician</td>\n",
       "      <td>US Department of Veterans Affairs</td>\n",
       "      <td>Create processes for assessing quality and acc...</td>\n",
       "      <td>Hybrid remote in Ann Arbor, MI 48105</td>\n",
       "      <td>44819fba-990e-493c-8c15-ef147247cc74</td>\n",
       "      <td>51980.0</td>\n",
       "      <td>103518.0</td>\n",
       "    </tr>\n",
       "    <tr>\n",
       "      <th>3</th>\n",
       "      <td>3</td>\n",
       "      <td>CRM Data Analyst</td>\n",
       "      <td>Zeiss Industrial Quality Solutions</td>\n",
       "      <td>Responsible for maintaining SAP/CRM business p...</td>\n",
       "      <td>Wixom, MI 48393+1 location</td>\n",
       "      <td>44819fba-990e-493c-8c15-ef147247cc74</td>\n",
       "      <td>60000.0</td>\n",
       "      <td>70000.0</td>\n",
       "    </tr>\n",
       "    <tr>\n",
       "      <th>7</th>\n",
       "      <td>7</td>\n",
       "      <td>Entry Level Data Analyst</td>\n",
       "      <td>Antra, Inc</td>\n",
       "      <td>Secure access to data sources Determine data a...</td>\n",
       "      <td>+1 locationRemote</td>\n",
       "      <td>44819fba-990e-493c-8c15-ef147247cc74</td>\n",
       "      <td>60000.0</td>\n",
       "      <td>0.0</td>\n",
       "    </tr>\n",
       "    <tr>\n",
       "      <th>9</th>\n",
       "      <td>9</td>\n",
       "      <td>Business Data Analyst (Remote)</td>\n",
       "      <td>Digital Strategy LLC</td>\n",
       "      <td>Supports data efforts in system modernization ...</td>\n",
       "      <td>Remote</td>\n",
       "      <td>44819fba-990e-493c-8c15-ef147247cc74</td>\n",
       "      <td>90000.0</td>\n",
       "      <td>100000.0</td>\n",
       "    </tr>\n",
       "    <tr>\n",
       "      <th>...</th>\n",
       "      <td>...</td>\n",
       "      <td>...</td>\n",
       "      <td>...</td>\n",
       "      <td>...</td>\n",
       "      <td>...</td>\n",
       "      <td>...</td>\n",
       "      <td>...</td>\n",
       "      <td>...</td>\n",
       "    </tr>\n",
       "    <tr>\n",
       "      <th>1147</th>\n",
       "      <td>1147</td>\n",
       "      <td>Sr. Machine Learning Ops Engineer</td>\n",
       "      <td>Food Management Search</td>\n",
       "      <td>Knowledge of ML Ops elements and architectures...</td>\n",
       "      <td>San Francisco, CA</td>\n",
       "      <td>44819fba-990e-493c-8c15-ef147247cc74</td>\n",
       "      <td>0.0</td>\n",
       "      <td>0.0</td>\n",
       "    </tr>\n",
       "    <tr>\n",
       "      <th>1148</th>\n",
       "      <td>1148</td>\n",
       "      <td>Sr. Lead Analytics Engineer, Smart Restaurant</td>\n",
       "      <td>Chick-fil-A, Inc.</td>\n",
       "      <td>Degree in data science, engineering, or simila...</td>\n",
       "      <td>Atlanta, GA 30349</td>\n",
       "      <td>44819fba-990e-493c-8c15-ef147247cc74</td>\n",
       "      <td>0.0</td>\n",
       "      <td>0.0</td>\n",
       "    </tr>\n",
       "    <tr>\n",
       "      <th>1149</th>\n",
       "      <td>1149</td>\n",
       "      <td>Service Management Data Analyst - Staff/Senior</td>\n",
       "      <td>Intermountain Healthcare</td>\n",
       "      <td>Bachelor's degree in computer science, informa...</td>\n",
       "      <td>West Valley City, UT</td>\n",
       "      <td>44819fba-990e-493c-8c15-ef147247cc74</td>\n",
       "      <td>71947.2</td>\n",
       "      <td>113297.6</td>\n",
       "    </tr>\n",
       "    <tr>\n",
       "      <th>1150</th>\n",
       "      <td>1150</td>\n",
       "      <td>Senior Software Dev Engineer</td>\n",
       "      <td>Tandym Group</td>\n",
       "      <td>Lead the development and delivery of proprieta...</td>\n",
       "      <td>New York, NY 10001 (Chelsea area)</td>\n",
       "      <td>44819fba-990e-493c-8c15-ef147247cc74</td>\n",
       "      <td>0.0</td>\n",
       "      <td>0.0</td>\n",
       "    </tr>\n",
       "    <tr>\n",
       "      <th>1152</th>\n",
       "      <td>1152</td>\n",
       "      <td>Senior Financial Analyst</td>\n",
       "      <td>Vaco</td>\n",
       "      <td>We are on the hunt for a motivated, meticulous...</td>\n",
       "      <td>Charlotte, NC</td>\n",
       "      <td>44819fba-990e-493c-8c15-ef147247cc74</td>\n",
       "      <td>0.0</td>\n",
       "      <td>0.0</td>\n",
       "    </tr>\n",
       "  </tbody>\n",
       "</table>\n",
       "<p>6812 rows × 8 columns</p>\n",
       "</div>"
      ],
      "text/plain": [
       "      Unnamed: 0                                           title  \\\n",
       "0              0                 Data Science Analyst- Marketing   \n",
       "1              1                       Data Analyst/Statistician   \n",
       "3              3                                CRM Data Analyst   \n",
       "7              7                        Entry Level Data Analyst   \n",
       "9              9                  Business Data Analyst (Remote)   \n",
       "...          ...                                             ...   \n",
       "1147        1147               Sr. Machine Learning Ops Engineer   \n",
       "1148        1148   Sr. Lead Analytics Engineer, Smart Restaurant   \n",
       "1149        1149  Service Management Data Analyst - Staff/Senior   \n",
       "1150        1150                    Senior Software Dev Engineer   \n",
       "1152        1152                        Senior Financial Analyst   \n",
       "\n",
       "                                 company  \\\n",
       "0                                 Indeed   \n",
       "1      US Department of Veterans Affairs   \n",
       "3     Zeiss Industrial Quality Solutions   \n",
       "7                             Antra, Inc   \n",
       "9                   Digital Strategy LLC   \n",
       "...                                  ...   \n",
       "1147              Food Management Search   \n",
       "1148                   Chick-fil-A, Inc.   \n",
       "1149            Intermountain Healthcare   \n",
       "1150                        Tandym Group   \n",
       "1152                                Vaco   \n",
       "\n",
       "                                            description  \\\n",
       "0     Work across a wide range of data engineering t...   \n",
       "1     Create processes for assessing quality and acc...   \n",
       "3     Responsible for maintaining SAP/CRM business p...   \n",
       "7     Secure access to data sources Determine data a...   \n",
       "9     Supports data efforts in system modernization ...   \n",
       "...                                                 ...   \n",
       "1147  Knowledge of ML Ops elements and architectures...   \n",
       "1148  Degree in data science, engineering, or simila...   \n",
       "1149  Bachelor's degree in computer science, informa...   \n",
       "1150  Lead the development and delivery of proprieta...   \n",
       "1152  We are on the hunt for a motivated, meticulous...   \n",
       "\n",
       "                                  location  \\\n",
       "0               Remote in Texas+1 location   \n",
       "1     Hybrid remote in Ann Arbor, MI 48105   \n",
       "3               Wixom, MI 48393+1 location   \n",
       "7                        +1 locationRemote   \n",
       "9                                   Remote   \n",
       "...                                    ...   \n",
       "1147                     San Francisco, CA   \n",
       "1148                     Atlanta, GA 30349   \n",
       "1149                  West Valley City, UT   \n",
       "1150     New York, NY 10001 (Chelsea area)   \n",
       "1152                         Charlotte, NC   \n",
       "\n",
       "                                     jobid  salary_lower_range  \\\n",
       "0     44819fba-990e-493c-8c15-ef147247cc74            100000.0   \n",
       "1     44819fba-990e-493c-8c15-ef147247cc74             51980.0   \n",
       "3     44819fba-990e-493c-8c15-ef147247cc74             60000.0   \n",
       "7     44819fba-990e-493c-8c15-ef147247cc74             60000.0   \n",
       "9     44819fba-990e-493c-8c15-ef147247cc74             90000.0   \n",
       "...                                    ...                 ...   \n",
       "1147  44819fba-990e-493c-8c15-ef147247cc74                 0.0   \n",
       "1148  44819fba-990e-493c-8c15-ef147247cc74                 0.0   \n",
       "1149  44819fba-990e-493c-8c15-ef147247cc74             71947.2   \n",
       "1150  44819fba-990e-493c-8c15-ef147247cc74                 0.0   \n",
       "1152  44819fba-990e-493c-8c15-ef147247cc74                 0.0   \n",
       "\n",
       "      salary_upper_range  \n",
       "0               140000.0  \n",
       "1               103518.0  \n",
       "3                70000.0  \n",
       "7                    0.0  \n",
       "9               100000.0  \n",
       "...                  ...  \n",
       "1147                 0.0  \n",
       "1148                 0.0  \n",
       "1149            113297.6  \n",
       "1150                 0.0  \n",
       "1152                 0.0  \n",
       "\n",
       "[6812 rows x 8 columns]"
      ]
     },
     "execution_count": 27,
     "metadata": {},
     "output_type": "execute_result"
    }
   ],
   "source": []
  },
  {
   "cell_type": "code",
   "execution_count": null,
   "id": "43539744",
   "metadata": {},
   "outputs": [],
   "source": []
  }
 ],
 "metadata": {
  "kernelspec": {
   "display_name": "Python 3 (ipykernel)",
   "language": "python",
   "name": "python3"
  },
  "language_info": {
   "codemirror_mode": {
    "name": "ipython",
    "version": 3
   },
   "file_extension": ".py",
   "mimetype": "text/x-python",
   "name": "python",
   "nbconvert_exporter": "python",
   "pygments_lexer": "ipython3",
   "version": "3.9.12"
  }
 },
 "nbformat": 4,
 "nbformat_minor": 5
}
