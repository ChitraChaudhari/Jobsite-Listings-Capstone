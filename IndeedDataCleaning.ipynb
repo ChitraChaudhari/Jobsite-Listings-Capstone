{
 "cells": [
  {
   "cell_type": "code",
   "execution_count": 1,
   "id": "541608c7",
   "metadata": {
    "ExecuteTime": {
     "end_time": "2022-09-09T22:43:28.107743Z",
     "start_time": "2022-09-09T22:43:27.742123Z"
    }
   },
   "outputs": [],
   "source": [
    "import pandas as pd \n",
    "import numpy as np\n",
    "import os\n",
    "import pyspark \n",
    "from pyspark.sql import SparkSession"
   ]
  },
  {
   "cell_type": "code",
   "execution_count": 2,
   "id": "361c7282",
   "metadata": {
    "ExecuteTime": {
     "end_time": "2022-09-09T22:43:28.113682Z",
     "start_time": "2022-09-09T22:43:28.109718Z"
    }
   },
   "outputs": [],
   "source": [
    "#replace with correct directory where data files are located \n",
    "os.chdir(r'C:\\Users\\Nicho\\gc-march-2022\\data')"
   ]
  },
  {
   "cell_type": "code",
   "execution_count": 3,
   "id": "de499e6a",
   "metadata": {
    "ExecuteTime": {
     "end_time": "2022-09-09T22:43:28.154606Z",
     "start_time": "2022-09-09T22:43:28.114679Z"
    }
   },
   "outputs": [],
   "source": [
    "da = pd.read_csv('Indeed_DataAnalyst_2022.csv')\n",
    "de = pd.read_csv('Indeed_DataEngineer_2022.csv')\n",
    "ds = pd.read_csv('Indeed_DataScience_2022.csv')\n",
    "\n",
    "indeed_historic = pd.read_csv('indeed_jobs.csv')\n",
    "indeed_historic['datadate'] = 'Fall 2021'\n"
   ]
  },
  {
   "cell_type": "code",
   "execution_count": 4,
   "id": "42056813",
   "metadata": {
    "ExecuteTime": {
     "end_time": "2022-09-09T22:43:28.182498Z",
     "start_time": "2022-09-09T22:43:28.156567Z"
    }
   },
   "outputs": [
    {
     "name": "stdout",
     "output_type": "stream",
     "text": [
      "<class 'pandas.core.frame.DataFrame'>\n",
      "RangeIndex: 1155 entries, 0 to 1154\n",
      "Data columns (total 6 columns):\n",
      " #   Column       Non-Null Count  Dtype \n",
      "---  ------       --------------  ----- \n",
      " 0   Unnamed: 0   1155 non-null   int64 \n",
      " 1   title        1155 non-null   object\n",
      " 2   company      1153 non-null   object\n",
      " 3   salary       388 non-null    object\n",
      " 4   description  1153 non-null   object\n",
      " 5   location     1153 non-null   object\n",
      "dtypes: int64(1), object(5)\n",
      "memory usage: 54.3+ KB\n",
      "<class 'pandas.core.frame.DataFrame'>\n",
      "RangeIndex: 1155 entries, 0 to 1154\n",
      "Data columns (total 6 columns):\n",
      " #   Column       Non-Null Count  Dtype \n",
      "---  ------       --------------  ----- \n",
      " 0   Unnamed: 0   1155 non-null   int64 \n",
      " 1   title        1155 non-null   object\n",
      " 2   company      1155 non-null   object\n",
      " 3   salary       398 non-null    object\n",
      " 4   description  1155 non-null   object\n",
      " 5   location     1155 non-null   object\n",
      "dtypes: int64(1), object(5)\n",
      "memory usage: 54.3+ KB\n",
      "<class 'pandas.core.frame.DataFrame'>\n",
      "RangeIndex: 1153 entries, 0 to 1152\n",
      "Data columns (total 6 columns):\n",
      " #   Column       Non-Null Count  Dtype \n",
      "---  ------       --------------  ----- \n",
      " 0   Unnamed: 0   1153 non-null   int64 \n",
      " 1   title        1153 non-null   object\n",
      " 2   company      1153 non-null   object\n",
      " 3   salary       341 non-null    object\n",
      " 4   description  1153 non-null   object\n",
      " 5   location     1153 non-null   object\n",
      "dtypes: int64(1), object(5)\n",
      "memory usage: 54.2+ KB\n",
      "<class 'pandas.core.frame.DataFrame'>\n",
      "RangeIndex: 2270 entries, 0 to 2269\n",
      "Data columns (total 7 columns):\n",
      " #   Column       Non-Null Count  Dtype \n",
      "---  ------       --------------  ----- \n",
      " 0   Unnamed: 0   2270 non-null   int64 \n",
      " 1   title        2270 non-null   object\n",
      " 2   salary       193 non-null    object\n",
      " 3   jobtype      452 non-null    object\n",
      " 4   description  2251 non-null   object\n",
      " 5   location     2270 non-null   object\n",
      " 6   datadate     2270 non-null   object\n",
      "dtypes: int64(1), object(6)\n",
      "memory usage: 124.3+ KB\n"
     ]
    }
   ],
   "source": [
    "da.info()\n",
    "de.info()\n",
    "ds.info()\n",
    "indeed_historic.info()"
   ]
  },
  {
   "cell_type": "markdown",
   "id": "12106447",
   "metadata": {},
   "source": [
    "There is a lot more rows in the engineering data than the other two sites. Only the salary column contains null values."
   ]
  },
  {
   "cell_type": "code",
   "execution_count": 5,
   "id": "b8ff91dc",
   "metadata": {
    "ExecuteTime": {
     "end_time": "2022-09-09T22:43:28.204462Z",
     "start_time": "2022-09-09T22:43:28.183495Z"
    }
   },
   "outputs": [
    {
     "name": "stdout",
     "output_type": "stream",
     "text": [
      "<class 'pandas.core.frame.DataFrame'>\n",
      "Int64Index: 3262 entries, 0 to 2269\n",
      "Data columns (total 6 columns):\n",
      " #   Column       Non-Null Count  Dtype \n",
      "---  ------       --------------  ----- \n",
      " 0   title        3262 non-null   object\n",
      " 1   company      2346 non-null   object\n",
      " 2   salary       842 non-null    object\n",
      " 3   description  3254 non-null   object\n",
      " 4   location     3260 non-null   object\n",
      " 5   datadate     3262 non-null   object\n",
      "dtypes: object(6)\n",
      "memory usage: 178.4+ KB\n"
     ]
    }
   ],
   "source": [
    "indeed_df = pd.concat([da,de,ds])\n",
    "indeed_df['datadate'] = 'Spring 2022'\n",
    "indeed_df = pd.concat([indeed_df,indeed_historic])\n",
    "indeed_df = indeed_df[['title','company','salary','description','location','datadate']]\n",
    "indeed_df.drop_duplicates(inplace=True)\n",
    "indeed_df.info()"
   ]
  },
  {
   "cell_type": "code",
   "execution_count": 6,
   "id": "451807e9",
   "metadata": {
    "ExecuteTime": {
     "end_time": "2022-09-09T22:43:28.218402Z",
     "start_time": "2022-09-09T22:43:28.206433Z"
    }
   },
   "outputs": [],
   "source": [
    "indeed_df['salary'] = indeed_df['salary'].str.lower()\n",
    "indeed_df['description'] = indeed_df['description'].str.lower()\n",
    "indeed_df['location'] = indeed_df['location'].str.lower()"
   ]
  },
  {
   "cell_type": "code",
   "execution_count": 7,
   "id": "96f11c21",
   "metadata": {
    "ExecuteTime": {
     "end_time": "2022-09-09T22:43:28.236354Z",
     "start_time": "2022-09-09T22:43:28.219398Z"
    }
   },
   "outputs": [
    {
     "data": {
      "text/html": [
       "<div>\n",
       "<style scoped>\n",
       "    .dataframe tbody tr th:only-of-type {\n",
       "        vertical-align: middle;\n",
       "    }\n",
       "\n",
       "    .dataframe tbody tr th {\n",
       "        vertical-align: top;\n",
       "    }\n",
       "\n",
       "    .dataframe thead th {\n",
       "        text-align: right;\n",
       "    }\n",
       "</style>\n",
       "<table border=\"1\" class=\"dataframe\">\n",
       "  <thead>\n",
       "    <tr style=\"text-align: right;\">\n",
       "      <th></th>\n",
       "      <th>title</th>\n",
       "      <th>company</th>\n",
       "      <th>salary</th>\n",
       "      <th>description</th>\n",
       "      <th>location</th>\n",
       "      <th>datadate</th>\n",
       "    </tr>\n",
       "  </thead>\n",
       "  <tbody>\n",
       "    <tr>\n",
       "      <th>0</th>\n",
       "      <td>Data Science Analyst- Marketing</td>\n",
       "      <td>Indeed</td>\n",
       "      <td>$100,000 - $140,000 a year</td>\n",
       "      <td>work across a wide range of data engineering t...</td>\n",
       "      <td>remote in texas+1 location</td>\n",
       "      <td>Spring 2022</td>\n",
       "    </tr>\n",
       "    <tr>\n",
       "      <th>1</th>\n",
       "      <td>Data Analyst/Statistician</td>\n",
       "      <td>US Department of Veterans Affairs</td>\n",
       "      <td>$51,980 - $103,518 a year</td>\n",
       "      <td>create processes for assessing quality and acc...</td>\n",
       "      <td>hybrid remote in ann arbor, mi 48105</td>\n",
       "      <td>Spring 2022</td>\n",
       "    </tr>\n",
       "    <tr>\n",
       "      <th>2</th>\n",
       "      <td>Departmental Analyst 9-P11 - Data Analytics</td>\n",
       "      <td>State of Michigan</td>\n",
       "      <td>NaN</td>\n",
       "      <td>and reporting, including biannual reports to t...</td>\n",
       "      <td>dimondale, mi</td>\n",
       "      <td>Spring 2022</td>\n",
       "    </tr>\n",
       "    <tr>\n",
       "      <th>3</th>\n",
       "      <td>CRM Data Analyst</td>\n",
       "      <td>Zeiss Industrial Quality Solutions</td>\n",
       "      <td>$60,000 - $70,000 a year</td>\n",
       "      <td>responsible for maintaining sap/crm business p...</td>\n",
       "      <td>wixom, mi 48393+1 location</td>\n",
       "      <td>Spring 2022</td>\n",
       "    </tr>\n",
       "    <tr>\n",
       "      <th>4</th>\n",
       "      <td>Data Analyst</td>\n",
       "      <td>Winwire Technologies</td>\n",
       "      <td>NaN</td>\n",
       "      <td>providing resource to add/delete/amend data wi...</td>\n",
       "      <td>remote</td>\n",
       "      <td>Spring 2022</td>\n",
       "    </tr>\n",
       "  </tbody>\n",
       "</table>\n",
       "</div>"
      ],
      "text/plain": [
       "                                         title  \\\n",
       "0              Data Science Analyst- Marketing   \n",
       "1                    Data Analyst/Statistician   \n",
       "2  Departmental Analyst 9-P11 - Data Analytics   \n",
       "3                             CRM Data Analyst   \n",
       "4                                 Data Analyst   \n",
       "\n",
       "                              company                      salary  \\\n",
       "0                              Indeed  $100,000 - $140,000 a year   \n",
       "1   US Department of Veterans Affairs   $51,980 - $103,518 a year   \n",
       "2                   State of Michigan                         NaN   \n",
       "3  Zeiss Industrial Quality Solutions    $60,000 - $70,000 a year   \n",
       "4                Winwire Technologies                         NaN   \n",
       "\n",
       "                                         description  \\\n",
       "0  work across a wide range of data engineering t...   \n",
       "1  create processes for assessing quality and acc...   \n",
       "2  and reporting, including biannual reports to t...   \n",
       "3  responsible for maintaining sap/crm business p...   \n",
       "4  providing resource to add/delete/amend data wi...   \n",
       "\n",
       "                               location     datadate  \n",
       "0            remote in texas+1 location  Spring 2022  \n",
       "1  hybrid remote in ann arbor, mi 48105  Spring 2022  \n",
       "2                         dimondale, mi  Spring 2022  \n",
       "3            wixom, mi 48393+1 location  Spring 2022  \n",
       "4                                remote  Spring 2022  "
      ]
     },
     "execution_count": 7,
     "metadata": {},
     "output_type": "execute_result"
    }
   ],
   "source": [
    "indeed_df.head(5)"
   ]
  },
  {
   "cell_type": "code",
   "execution_count": 8,
   "id": "5093751a",
   "metadata": {
    "ExecuteTime": {
     "end_time": "2022-09-09T22:43:28.248321Z",
     "start_time": "2022-09-09T22:43:28.237350Z"
    }
   },
   "outputs": [
    {
     "name": "stderr",
     "output_type": "stream",
     "text": [
      "C:\\Users\\Nicho\\AppData\\Local\\Temp/ipykernel_2420/4190113625.py:4: FutureWarning: The default value of regex will change from True to False in a future version. In addition, single character regular expressions will *not* be treated as literal strings when regex=True.\n",
      "  indeed_df['salary'] = indeed_df['salary'].str.replace('$',' ')\n",
      "C:\\Users\\Nicho\\AppData\\Local\\Temp/ipykernel_2420/4190113625.py:5: FutureWarning: The default value of regex will change from True to False in a future version.\n",
      "  indeed_df['salary'] = indeed_df['salary'].str.replace(\"[a-z]\",\"\")\n"
     ]
    }
   ],
   "source": [
    "import re\n",
    "indeed_df['salary'] = indeed_df['salary'].str.replace(',','')\n",
    "indeed_df['salary'] = indeed_df['salary'].str.replace('-',' ')\n",
    "indeed_df['salary'] = indeed_df['salary'].str.replace('$',' ')\n",
    "indeed_df['salary'] = indeed_df['salary'].str.replace(\"[a-z]\",\"\")   \n"
   ]
  },
  {
   "cell_type": "code",
   "execution_count": 9,
   "id": "82f4a01c",
   "metadata": {
    "ExecuteTime": {
     "end_time": "2022-09-09T22:43:28.262284Z",
     "start_time": "2022-09-09T22:43:28.250322Z"
    }
   },
   "outputs": [],
   "source": [
    "income_split = indeed_df['salary'].str.split(expand = True)\n",
    "indeed_df['salary_lower_range'] =  income_split[0]\n",
    "indeed_df['salary_upper_range'] =  income_split[1]\n",
    "indeed_df.drop('salary',axis = 1,inplace=True)"
   ]
  },
  {
   "cell_type": "code",
   "execution_count": 10,
   "id": "67b0356a",
   "metadata": {
    "ExecuteTime": {
     "end_time": "2022-09-09T22:43:28.276247Z",
     "start_time": "2022-09-09T22:43:28.264278Z"
    }
   },
   "outputs": [],
   "source": [
    "\n",
    "indeed_df['company'].dropna(axis=0,inplace=True)\n",
    "indeed_df['salary_lower_range'].fillna(0,inplace=True)\n",
    "indeed_df['salary_upper_range'].fillna(0,inplace=True)\n",
    "indeed_df['salary_lower_range'] = indeed_df['salary_lower_range'].astype(float)\n",
    "indeed_df['salary_upper_range']  = indeed_df['salary_upper_range'].astype(float)\n",
    "hourly_salaries = indeed_df[indeed_df['salary_lower_range'] < 100]\n",
    "indeed_df = indeed_df[indeed_df['salary_lower_range'] > 100]"
   ]
  },
  {
   "cell_type": "code",
   "execution_count": 11,
   "id": "cb60747c",
   "metadata": {
    "ExecuteTime": {
     "end_time": "2022-09-09T22:43:28.284225Z",
     "start_time": "2022-09-09T22:43:28.278240Z"
    }
   },
   "outputs": [],
   "source": [
    "hourly_salaries['salary_lower_range']  = (hourly_salaries['salary_lower_range'] * 40) * 52\n",
    "hourly_salaries['salary_upper_range'] = (hourly_salaries['salary_upper_range'] * 40) * 52\n",
    "indeed_df['salary_lower_range'] = indeed_df['salary_lower_range'].astype(int)\n",
    "indeed_df['salary_upper_range']  = indeed_df['salary_upper_range'].astype(int)"
   ]
  },
  {
   "cell_type": "code",
   "execution_count": 12,
   "id": "f405874c",
   "metadata": {
    "ExecuteTime": {
     "end_time": "2022-09-09T22:43:28.290209Z",
     "start_time": "2022-09-09T22:43:28.285222Z"
    }
   },
   "outputs": [],
   "source": [
    "indeed_df = pd.concat([hourly_salaries,indeed_df])"
   ]
  },
  {
   "cell_type": "code",
   "execution_count": 13,
   "id": "52685973",
   "metadata": {
    "ExecuteTime": {
     "end_time": "2022-09-09T22:43:28.317649Z",
     "start_time": "2022-09-09T22:43:28.291207Z"
    }
   },
   "outputs": [
    {
     "data": {
      "text/html": [
       "<div>\n",
       "<style scoped>\n",
       "    .dataframe tbody tr th:only-of-type {\n",
       "        vertical-align: middle;\n",
       "    }\n",
       "\n",
       "    .dataframe tbody tr th {\n",
       "        vertical-align: top;\n",
       "    }\n",
       "\n",
       "    .dataframe thead th {\n",
       "        text-align: right;\n",
       "    }\n",
       "</style>\n",
       "<table border=\"1\" class=\"dataframe\">\n",
       "  <thead>\n",
       "    <tr style=\"text-align: right;\">\n",
       "      <th></th>\n",
       "      <th>title</th>\n",
       "      <th>company</th>\n",
       "      <th>description</th>\n",
       "      <th>location</th>\n",
       "      <th>datadate</th>\n",
       "      <th>salary_lower_range</th>\n",
       "      <th>salary_upper_range</th>\n",
       "      <th>is_remote</th>\n",
       "    </tr>\n",
       "  </thead>\n",
       "  <tbody>\n",
       "    <tr>\n",
       "      <th>4</th>\n",
       "      <td>Data Analyst</td>\n",
       "      <td>Winwire Technologies</td>\n",
       "      <td>providing resource to add/delete/amend data wi...</td>\n",
       "      <td>remote</td>\n",
       "      <td>Spring 2022</td>\n",
       "      <td>0.0</td>\n",
       "      <td>0.0</td>\n",
       "      <td>1</td>\n",
       "    </tr>\n",
       "    <tr>\n",
       "      <th>5</th>\n",
       "      <td>Junior Data Analyst - DAL22-033349999999</td>\n",
       "      <td>Evergreen Technologies, LLC.</td>\n",
       "      <td>experience with data wrangling, data cleaning ...</td>\n",
       "      <td>remote in detroit, mi+7 locations</td>\n",
       "      <td>Spring 2022</td>\n",
       "      <td>0.0</td>\n",
       "      <td>0.0</td>\n",
       "      <td>1</td>\n",
       "    </tr>\n",
       "    <tr>\n",
       "      <th>6</th>\n",
       "      <td>Junior Data Analyst</td>\n",
       "      <td>Teamson</td>\n",
       "      <td>at least two years of experience as an analyst...</td>\n",
       "      <td>remote</td>\n",
       "      <td>Spring 2022</td>\n",
       "      <td>0.0</td>\n",
       "      <td>0.0</td>\n",
       "      <td>1</td>\n",
       "    </tr>\n",
       "    <tr>\n",
       "      <th>8</th>\n",
       "      <td>Senior Data Analyst, IT Remote</td>\n",
       "      <td>U.S. Medical Management</td>\n",
       "      <td>perform data cleansing to identify erroneous d...</td>\n",
       "      <td>remote in troy, mi 48084</td>\n",
       "      <td>Spring 2022</td>\n",
       "      <td>0.0</td>\n",
       "      <td>0.0</td>\n",
       "      <td>1</td>\n",
       "    </tr>\n",
       "    <tr>\n",
       "      <th>12</th>\n",
       "      <td>Data Analyst</td>\n",
       "      <td>Spokeo</td>\n",
       "      <td>we collect data from a wide variety of public ...</td>\n",
       "      <td>remote in pasadena, ca 91101</td>\n",
       "      <td>Spring 2022</td>\n",
       "      <td>0.0</td>\n",
       "      <td>0.0</td>\n",
       "      <td>1</td>\n",
       "    </tr>\n",
       "    <tr>\n",
       "      <th>...</th>\n",
       "      <td>...</td>\n",
       "      <td>...</td>\n",
       "      <td>...</td>\n",
       "      <td>...</td>\n",
       "      <td>...</td>\n",
       "      <td>...</td>\n",
       "      <td>...</td>\n",
       "      <td>...</td>\n",
       "    </tr>\n",
       "    <tr>\n",
       "      <th>492</th>\n",
       "      <td>Fraud Business Intelligence Data Analyst - Car...</td>\n",
       "      <td>NaN</td>\n",
       "      <td>provide concise data reports and clear data vi...</td>\n",
       "      <td>remote•remote</td>\n",
       "      <td>Fall 2021</td>\n",
       "      <td>90000.0</td>\n",
       "      <td>100000.0</td>\n",
       "      <td>1</td>\n",
       "    </tr>\n",
       "    <tr>\n",
       "      <th>1347</th>\n",
       "      <td>Senior Program &amp; Engagement Officer, Data Scie...</td>\n",
       "      <td>NaN</td>\n",
       "      <td>deep knowledge of data science, collections me...</td>\n",
       "      <td>united states•remote</td>\n",
       "      <td>Fall 2021</td>\n",
       "      <td>80000.0</td>\n",
       "      <td>100000.0</td>\n",
       "      <td>1</td>\n",
       "    </tr>\n",
       "    <tr>\n",
       "      <th>1360</th>\n",
       "      <td>Vice President, Data Science/Advanced Analytics</td>\n",
       "      <td>NaN</td>\n",
       "      <td>lead rdna's data strategy including data stora...</td>\n",
       "      <td>maryland•remote</td>\n",
       "      <td>Fall 2021</td>\n",
       "      <td>139000.0</td>\n",
       "      <td>191000.0</td>\n",
       "      <td>1</td>\n",
       "    </tr>\n",
       "    <tr>\n",
       "      <th>1369</th>\n",
       "      <td>Manager, Data Science &amp; Analytics</td>\n",
       "      <td>NaN</td>\n",
       "      <td>expert knowledge in data analysis and preparat...</td>\n",
       "      <td>remote•remote</td>\n",
       "      <td>Fall 2021</td>\n",
       "      <td>110700.0</td>\n",
       "      <td>135300.0</td>\n",
       "      <td>1</td>\n",
       "    </tr>\n",
       "    <tr>\n",
       "      <th>1458</th>\n",
       "      <td>Lead Data Engineer (Remote/Home-Based Opportun...</td>\n",
       "      <td>NaN</td>\n",
       "      <td>development of enterprise data assets, informa...</td>\n",
       "      <td>northbrook, il•remote</td>\n",
       "      <td>Fall 2021</td>\n",
       "      <td>103000.0</td>\n",
       "      <td>0.0</td>\n",
       "      <td>1</td>\n",
       "    </tr>\n",
       "  </tbody>\n",
       "</table>\n",
       "<p>1494 rows × 8 columns</p>\n",
       "</div>"
      ],
      "text/plain": [
       "                                                  title  \\\n",
       "4                                          Data Analyst   \n",
       "5              Junior Data Analyst - DAL22-033349999999   \n",
       "6                                   Junior Data Analyst   \n",
       "8                        Senior Data Analyst, IT Remote   \n",
       "12                                         Data Analyst   \n",
       "...                                                 ...   \n",
       "492   Fraud Business Intelligence Data Analyst - Car...   \n",
       "1347  Senior Program & Engagement Officer, Data Scie...   \n",
       "1360    Vice President, Data Science/Advanced Analytics   \n",
       "1369                  Manager, Data Science & Analytics   \n",
       "1458  Lead Data Engineer (Remote/Home-Based Opportun...   \n",
       "\n",
       "                           company  \\\n",
       "4             Winwire Technologies   \n",
       "5     Evergreen Technologies, LLC.   \n",
       "6                          Teamson   \n",
       "8          U.S. Medical Management   \n",
       "12                          Spokeo   \n",
       "...                            ...   \n",
       "492                            NaN   \n",
       "1347                           NaN   \n",
       "1360                           NaN   \n",
       "1369                           NaN   \n",
       "1458                           NaN   \n",
       "\n",
       "                                            description  \\\n",
       "4     providing resource to add/delete/amend data wi...   \n",
       "5     experience with data wrangling, data cleaning ...   \n",
       "6     at least two years of experience as an analyst...   \n",
       "8     perform data cleansing to identify erroneous d...   \n",
       "12    we collect data from a wide variety of public ...   \n",
       "...                                                 ...   \n",
       "492   provide concise data reports and clear data vi...   \n",
       "1347  deep knowledge of data science, collections me...   \n",
       "1360  lead rdna's data strategy including data stora...   \n",
       "1369  expert knowledge in data analysis and preparat...   \n",
       "1458  development of enterprise data assets, informa...   \n",
       "\n",
       "                               location     datadate  salary_lower_range  \\\n",
       "4                                remote  Spring 2022                 0.0   \n",
       "5     remote in detroit, mi+7 locations  Spring 2022                 0.0   \n",
       "6                                remote  Spring 2022                 0.0   \n",
       "8              remote in troy, mi 48084  Spring 2022                 0.0   \n",
       "12         remote in pasadena, ca 91101  Spring 2022                 0.0   \n",
       "...                                 ...          ...                 ...   \n",
       "492                       remote•remote    Fall 2021             90000.0   \n",
       "1347               united states•remote    Fall 2021             80000.0   \n",
       "1360                    maryland•remote    Fall 2021            139000.0   \n",
       "1369                      remote•remote    Fall 2021            110700.0   \n",
       "1458              northbrook, il•remote    Fall 2021            103000.0   \n",
       "\n",
       "      salary_upper_range  is_remote  \n",
       "4                    0.0          1  \n",
       "5                    0.0          1  \n",
       "6                    0.0          1  \n",
       "8                    0.0          1  \n",
       "12                   0.0          1  \n",
       "...                  ...        ...  \n",
       "492             100000.0          1  \n",
       "1347            100000.0          1  \n",
       "1360            191000.0          1  \n",
       "1369            135300.0          1  \n",
       "1458                 0.0          1  \n",
       "\n",
       "[1494 rows x 8 columns]"
      ]
     },
     "execution_count": 13,
     "metadata": {},
     "output_type": "execute_result"
    }
   ],
   "source": [
    "indeed_df['is_remote'] = np.where(indeed_df['description'].str.contains('remote') | indeed_df['location'].str.contains('remote') ,1,0)\n",
    "indeed_df[indeed_df['is_remote'] == 1]"
   ]
  },
  {
   "cell_type": "code",
   "execution_count": 14,
   "id": "7a186a46",
   "metadata": {
    "ExecuteTime": {
     "end_time": "2022-09-09T22:43:28.337595Z",
     "start_time": "2022-09-09T22:43:28.318645Z"
    }
   },
   "outputs": [
    {
     "data": {
      "text/html": [
       "<div>\n",
       "<style scoped>\n",
       "    .dataframe tbody tr th:only-of-type {\n",
       "        vertical-align: middle;\n",
       "    }\n",
       "\n",
       "    .dataframe tbody tr th {\n",
       "        vertical-align: top;\n",
       "    }\n",
       "\n",
       "    .dataframe thead th {\n",
       "        text-align: right;\n",
       "    }\n",
       "</style>\n",
       "<table border=\"1\" class=\"dataframe\">\n",
       "  <thead>\n",
       "    <tr style=\"text-align: right;\">\n",
       "      <th></th>\n",
       "      <th>title</th>\n",
       "      <th>company</th>\n",
       "      <th>description</th>\n",
       "      <th>location</th>\n",
       "      <th>datadate</th>\n",
       "      <th>salary_lower_range</th>\n",
       "      <th>salary_upper_range</th>\n",
       "    </tr>\n",
       "    <tr>\n",
       "      <th>is_remote</th>\n",
       "      <th></th>\n",
       "      <th></th>\n",
       "      <th></th>\n",
       "      <th></th>\n",
       "      <th></th>\n",
       "      <th></th>\n",
       "      <th></th>\n",
       "    </tr>\n",
       "  </thead>\n",
       "  <tbody>\n",
       "    <tr>\n",
       "      <th>0</th>\n",
       "      <td>1766</td>\n",
       "      <td>1031</td>\n",
       "      <td>1758</td>\n",
       "      <td>1764</td>\n",
       "      <td>1766</td>\n",
       "      <td>1766</td>\n",
       "      <td>1766</td>\n",
       "    </tr>\n",
       "    <tr>\n",
       "      <th>1</th>\n",
       "      <td>1494</td>\n",
       "      <td>1313</td>\n",
       "      <td>1494</td>\n",
       "      <td>1494</td>\n",
       "      <td>1494</td>\n",
       "      <td>1494</td>\n",
       "      <td>1494</td>\n",
       "    </tr>\n",
       "  </tbody>\n",
       "</table>\n",
       "</div>"
      ],
      "text/plain": [
       "           title  company  description  location  datadate  \\\n",
       "is_remote                                                    \n",
       "0           1766     1031         1758      1764      1766   \n",
       "1           1494     1313         1494      1494      1494   \n",
       "\n",
       "           salary_lower_range  salary_upper_range  \n",
       "is_remote                                          \n",
       "0                        1766                1766  \n",
       "1                        1494                1494  "
      ]
     },
     "execution_count": 14,
     "metadata": {},
     "output_type": "execute_result"
    }
   ],
   "source": [
    "indeed_df['location'] = indeed_df['location'].str.replace('remote','')\n",
    "indeed_df['location'] = indeed_df['location'].str.replace('in','')\n",
    "indeed_df.groupby('is_remote').count()"
   ]
  },
  {
   "cell_type": "code",
   "execution_count": 15,
   "id": "43539744",
   "metadata": {
    "ExecuteTime": {
     "end_time": "2022-09-09T22:43:28.357543Z",
     "start_time": "2022-09-09T22:43:28.338592Z"
    }
   },
   "outputs": [
    {
     "name": "stderr",
     "output_type": "stream",
     "text": [
      "C:\\Users\\Nicho\\AppData\\Local\\Temp/ipykernel_2420/730417472.py:1: FutureWarning: The default value of regex will change from True to False in a future version.\n",
      "  indeed_df['zipcode'] = indeed_df['location'].str.replace(r'\\D+','')\n"
     ]
    }
   ],
   "source": [
    "indeed_df['zipcode'] = indeed_df['location'].str.replace(r'\\D+','')\n",
    "indeed_df['zipcode'] = np.where(indeed_df['zipcode'] == '',0,indeed_df['zipcode'])\n",
    "indeed_df['zipcode'] = indeed_df['zipcode'].fillna(0)\n",
    "indeed_df['zipcode'] = indeed_df['zipcode'].astype('int')\n",
    "indeed_df['zipcode'] = np.where(indeed_df['zipcode'] < 1000,0,indeed_df['zipcode'])\n",
    "indeed_df.drop_duplicates(inplace = True)"
   ]
  },
  {
   "cell_type": "code",
   "execution_count": 16,
   "id": "9c57f625",
   "metadata": {
    "ExecuteTime": {
     "end_time": "2022-09-09T22:43:28.369510Z",
     "start_time": "2022-09-09T22:43:28.358540Z"
    },
    "scrolled": true
   },
   "outputs": [
    {
     "name": "stderr",
     "output_type": "stream",
     "text": [
      "C:\\Users\\Nicho\\AppData\\Local\\Temp/ipykernel_2420/1525615495.py:1: FutureWarning: The default value of regex will change from True to False in a future version.\n",
      "  indeed_df['location'] = indeed_df['location'].str.replace(\"[0-9]\",'')\n"
     ]
    }
   ],
   "source": [
    "indeed_df['location'] = indeed_df['location'].str.replace(\"[0-9]\",'')"
   ]
  },
  {
   "cell_type": "code",
   "execution_count": 17,
   "id": "deec1c7e",
   "metadata": {
    "ExecuteTime": {
     "end_time": "2022-09-09T22:43:28.379484Z",
     "start_time": "2022-09-09T22:43:28.370508Z"
    }
   },
   "outputs": [],
   "source": [
    "indeed_df['location'] = indeed_df['location'].str.strip()\n",
    "indeed_df['location'] = indeed_df['location'].str.split(',')"
   ]
  },
  {
   "cell_type": "code",
   "execution_count": 18,
   "id": "ba8acdcd",
   "metadata": {
    "ExecuteTime": {
     "end_time": "2022-09-09T22:43:28.401425Z",
     "start_time": "2022-09-09T22:43:28.381479Z"
    }
   },
   "outputs": [
    {
     "name": "stderr",
     "output_type": "stream",
     "text": [
      "C:\\Users\\Nicho\\AppData\\Local\\Temp/ipykernel_2420/3846399863.py:2: FutureWarning: The default value of regex will change from True to False in a future version.\n",
      "  indeed_df['city'] = indeed_df['city'].str.replace(\"[0-9+()-]\",' ')\n",
      "C:\\Users\\Nicho\\AppData\\Local\\Temp/ipykernel_2420/3846399863.py:6: FutureWarning: The default value of regex will change from True to False in a future version.\n",
      "  indeed_df['state'] = indeed_df['state'].str.replace(\"[0-9+()-]\",'')\n"
     ]
    }
   ],
   "source": [
    "indeed_df['city'] = indeed_df['location'].str[0]\n",
    "indeed_df['city'] = indeed_df['city'].str.replace(\"[0-9+()-]\",' ')\n",
    "indeed_df['state'] = indeed_df['location'].str[1]\n",
    "indeed_df['state'] = indeed_df['state'].str.split()\n",
    "indeed_df['state'] = indeed_df['state'].str[0]\n",
    "indeed_df['state'] = indeed_df['state'].str.replace(\"[0-9+()-]\",'')"
   ]
  },
  {
   "cell_type": "code",
   "execution_count": 19,
   "id": "3cff51d6",
   "metadata": {
    "ExecuteTime": {
     "end_time": "2022-09-09T22:43:28.421428Z",
     "start_time": "2022-09-09T22:43:28.402422Z"
    }
   },
   "outputs": [],
   "source": [
    "indeed_df['city'] = np.where(indeed_df['city'].str.contains('location'),'Remote',indeed_df['city'])\n",
    "indeed_df.groupby('state').count()\n",
    "indeed_df.groupby('city').count()           \n",
    "indeed_df.drop('location',axis = 1,inplace=True)"
   ]
  },
  {
   "cell_type": "code",
   "execution_count": 20,
   "id": "034ca0b3",
   "metadata": {
    "ExecuteTime": {
     "end_time": "2022-09-09T22:43:28.431344Z",
     "start_time": "2022-09-09T22:43:28.423366Z"
    }
   },
   "outputs": [
    {
     "name": "stderr",
     "output_type": "stream",
     "text": [
      "C:\\Users\\Nicho\\AppData\\Local\\Temp/ipykernel_2420/1637865698.py:1: FutureWarning: The default value of regex will change from True to False in a future version.\n",
      "  indeed_df['title'] = indeed_df['title'].str.replace('[0-9]','')\n"
     ]
    }
   ],
   "source": [
    "indeed_df['title'] = indeed_df['title'].str.replace('[0-9]','')"
   ]
  },
  {
   "cell_type": "code",
   "execution_count": 21,
   "id": "7b6a47b0",
   "metadata": {
    "ExecuteTime": {
     "end_time": "2022-09-09T22:43:28.449296Z",
     "start_time": "2022-09-09T22:43:28.432342Z"
    }
   },
   "outputs": [],
   "source": [
    "indeed_df['title_temp'] = indeed_df['title'].str.lower()\n",
    "indeed_df['job_type'] = np.where(indeed_df['title_temp'].str.contains('analy'),'Data Analyst','0')\n",
    "indeed_df['job_type'] = np.where(indeed_df['title_temp'].str.contains('engineer'),'Data Engineer',indeed_df['job_type'])\n",
    "indeed_df['job_type'] = np.where(indeed_df['title_temp'].str.contains('scien'),'Data Scientist',indeed_df['job_type'])\n",
    "indeed_df['job_type'] = np.where(indeed_df['job_type'] == '0','Other',indeed_df['job_type'])"
   ]
  },
  {
   "cell_type": "code",
   "execution_count": 22,
   "id": "a84e2e28",
   "metadata": {
    "ExecuteTime": {
     "end_time": "2022-09-09T22:43:28.471238Z",
     "start_time": "2022-09-09T22:43:28.450294Z"
    }
   },
   "outputs": [
    {
     "data": {
      "text/html": [
       "<div>\n",
       "<style scoped>\n",
       "    .dataframe tbody tr th:only-of-type {\n",
       "        vertical-align: middle;\n",
       "    }\n",
       "\n",
       "    .dataframe tbody tr th {\n",
       "        vertical-align: top;\n",
       "    }\n",
       "\n",
       "    .dataframe thead th {\n",
       "        text-align: right;\n",
       "    }\n",
       "</style>\n",
       "<table border=\"1\" class=\"dataframe\">\n",
       "  <thead>\n",
       "    <tr style=\"text-align: right;\">\n",
       "      <th></th>\n",
       "      <th>title</th>\n",
       "      <th>company</th>\n",
       "      <th>description</th>\n",
       "      <th>datadate</th>\n",
       "      <th>salary_lower_range</th>\n",
       "      <th>salary_upper_range</th>\n",
       "      <th>is_remote</th>\n",
       "      <th>zipcode</th>\n",
       "      <th>city</th>\n",
       "      <th>state</th>\n",
       "      <th>title_temp</th>\n",
       "      <th>job_type</th>\n",
       "    </tr>\n",
       "  </thead>\n",
       "  <tbody>\n",
       "    <tr>\n",
       "      <th>39</th>\n",
       "      <td>Data Research Master</td>\n",
       "      <td>ucd</td>\n",
       "      <td>we need a researcher to help gather, organize,...</td>\n",
       "      <td>Spring 2022</td>\n",
       "      <td>45760.0</td>\n",
       "      <td>0.0</td>\n",
       "      <td>1</td>\n",
       "      <td>0</td>\n",
       "      <td></td>\n",
       "      <td>NaN</td>\n",
       "      <td>data research master</td>\n",
       "      <td>Other</td>\n",
       "    </tr>\n",
       "    <tr>\n",
       "      <th>431</th>\n",
       "      <td>Data Specialist</td>\n",
       "      <td>Relation Insurance</td>\n",
       "      <td>responsible for data conversion and merger act...</td>\n",
       "      <td>Spring 2022</td>\n",
       "      <td>0.0</td>\n",
       "      <td>0.0</td>\n",
       "      <td>1</td>\n",
       "      <td>0</td>\n",
       "      <td>Remote</td>\n",
       "      <td>NaN</td>\n",
       "      <td>data specialist</td>\n",
       "      <td>Other</td>\n",
       "    </tr>\n",
       "    <tr>\n",
       "      <th>805</th>\n",
       "      <td>Data Reporting Specialist</td>\n",
       "      <td>Michigan Public Health Institute (MPHI)</td>\n",
       "      <td>the data reporting analyst will also provide s...</td>\n",
       "      <td>Spring 2022</td>\n",
       "      <td>66580.8</td>\n",
       "      <td>87380.8</td>\n",
       "      <td>1</td>\n",
       "      <td>0</td>\n",
       "      <td>lansg</td>\n",
       "      <td>mi</td>\n",
       "      <td>data reporting specialist</td>\n",
       "      <td>Other</td>\n",
       "    </tr>\n",
       "    <tr>\n",
       "      <th>924</th>\n",
       "      <td>Reporting and Data Specialist</td>\n",
       "      <td>Greater Nevada Credit Union</td>\n",
       "      <td>in-depth understanding of underlying data and ...</td>\n",
       "      <td>Spring 2022</td>\n",
       "      <td>0.0</td>\n",
       "      <td>0.0</td>\n",
       "      <td>1</td>\n",
       "      <td>0</td>\n",
       "      <td>united states</td>\n",
       "      <td>NaN</td>\n",
       "      <td>reporting and data specialist</td>\n",
       "      <td>Other</td>\n",
       "    </tr>\n",
       "    <tr>\n",
       "      <th>966</th>\n",
       "      <td>part-time Information Systems Specialist - Bus...</td>\n",
       "      <td>Oregon Youth Authority</td>\n",
       "      <td>strong ability to analyze and qa data, identif...</td>\n",
       "      <td>Spring 2022</td>\n",
       "      <td>70616.0</td>\n",
       "      <td>106724.8</td>\n",
       "      <td>0</td>\n",
       "      <td>973012</td>\n",
       "      <td>salem</td>\n",
       "      <td>or</td>\n",
       "      <td>part-time information systems specialist - bus...</td>\n",
       "      <td>Other</td>\n",
       "    </tr>\n",
       "    <tr>\n",
       "      <th>...</th>\n",
       "      <td>...</td>\n",
       "      <td>...</td>\n",
       "      <td>...</td>\n",
       "      <td>...</td>\n",
       "      <td>...</td>\n",
       "      <td>...</td>\n",
       "      <td>...</td>\n",
       "      <td>...</td>\n",
       "      <td>...</td>\n",
       "      <td>...</td>\n",
       "      <td>...</td>\n",
       "      <td>...</td>\n",
       "    </tr>\n",
       "    <tr>\n",
       "      <th>1264</th>\n",
       "      <td>Postdoctoral Researcher</td>\n",
       "      <td>NaN</td>\n",
       "      <td>demonstrated experience performing data analys...</td>\n",
       "      <td>Fall 2021</td>\n",
       "      <td>57000.0</td>\n",
       "      <td>59000.0</td>\n",
       "      <td>0</td>\n",
       "      <td>0</td>\n",
       "      <td>fort colls</td>\n",
       "      <td>co</td>\n",
       "      <td>postdoctoral researcher</td>\n",
       "      <td>Other</td>\n",
       "    </tr>\n",
       "    <tr>\n",
       "      <th>1737</th>\n",
       "      <td>Postdoctoral Research Associate IDRT</td>\n",
       "      <td>NaN</td>\n",
       "      <td>recent peer-reviewed publications in computer ...</td>\n",
       "      <td>Fall 2021</td>\n",
       "      <td>3000.0</td>\n",
       "      <td>0.0</td>\n",
       "      <td>0</td>\n",
       "      <td>77554</td>\n",
       "      <td>galveston</td>\n",
       "      <td>tx</td>\n",
       "      <td>postdoctoral research associate idrt</td>\n",
       "      <td>Other</td>\n",
       "    </tr>\n",
       "    <tr>\n",
       "      <th>1755</th>\n",
       "      <td>Statistician (Operations and Administration)</td>\n",
       "      <td>NaN</td>\n",
       "      <td>analyze difficult statistics and other qualita...</td>\n",
       "      <td>Fall 2021</td>\n",
       "      <td>72750.0</td>\n",
       "      <td>94581.0</td>\n",
       "      <td>0</td>\n",
       "      <td>20415</td>\n",
       "      <td>washgton</td>\n",
       "      <td>dc</td>\n",
       "      <td>statistician (operations and administration)</td>\n",
       "      <td>Other</td>\n",
       "    </tr>\n",
       "    <tr>\n",
       "      <th>1766</th>\n",
       "      <td>Interdisciplinary Senior Mathematical Statisti...</td>\n",
       "      <td>NaN</td>\n",
       "      <td>contributing to primary data collection.advisi...</td>\n",
       "      <td>Fall 2021</td>\n",
       "      <td>97481.0</td>\n",
       "      <td>136749.0</td>\n",
       "      <td>0</td>\n",
       "      <td>0</td>\n",
       "      <td>washgton</td>\n",
       "      <td>dc</td>\n",
       "      <td>interdisciplinary senior mathematical statisti...</td>\n",
       "      <td>Other</td>\n",
       "    </tr>\n",
       "    <tr>\n",
       "      <th>1870</th>\n",
       "      <td>Postdoctoral Scholar</td>\n",
       "      <td>NaN</td>\n",
       "      <td>research design and data analysis.our mids pro...</td>\n",
       "      <td>Fall 2021</td>\n",
       "      <td>60000.0</td>\n",
       "      <td>65000.0</td>\n",
       "      <td>0</td>\n",
       "      <td>94720</td>\n",
       "      <td>berkeley</td>\n",
       "      <td>ca</td>\n",
       "      <td>postdoctoral scholar</td>\n",
       "      <td>Other</td>\n",
       "    </tr>\n",
       "  </tbody>\n",
       "</table>\n",
       "<p>272 rows × 12 columns</p>\n",
       "</div>"
      ],
      "text/plain": [
       "                                                  title  \\\n",
       "39                                 Data Research Master   \n",
       "431                                     Data Specialist   \n",
       "805                           Data Reporting Specialist   \n",
       "924                       Reporting and Data Specialist   \n",
       "966   part-time Information Systems Specialist - Bus...   \n",
       "...                                                 ...   \n",
       "1264                            Postdoctoral Researcher   \n",
       "1737               Postdoctoral Research Associate IDRT   \n",
       "1755       Statistician (Operations and Administration)   \n",
       "1766  Interdisciplinary Senior Mathematical Statisti...   \n",
       "1870                               Postdoctoral Scholar   \n",
       "\n",
       "                                      company  \\\n",
       "39                                        ucd   \n",
       "431                        Relation Insurance   \n",
       "805   Michigan Public Health Institute (MPHI)   \n",
       "924               Greater Nevada Credit Union   \n",
       "966                    Oregon Youth Authority   \n",
       "...                                       ...   \n",
       "1264                                      NaN   \n",
       "1737                                      NaN   \n",
       "1755                                      NaN   \n",
       "1766                                      NaN   \n",
       "1870                                      NaN   \n",
       "\n",
       "                                            description     datadate  \\\n",
       "39    we need a researcher to help gather, organize,...  Spring 2022   \n",
       "431   responsible for data conversion and merger act...  Spring 2022   \n",
       "805   the data reporting analyst will also provide s...  Spring 2022   \n",
       "924   in-depth understanding of underlying data and ...  Spring 2022   \n",
       "966   strong ability to analyze and qa data, identif...  Spring 2022   \n",
       "...                                                 ...          ...   \n",
       "1264  demonstrated experience performing data analys...    Fall 2021   \n",
       "1737  recent peer-reviewed publications in computer ...    Fall 2021   \n",
       "1755  analyze difficult statistics and other qualita...    Fall 2021   \n",
       "1766  contributing to primary data collection.advisi...    Fall 2021   \n",
       "1870  research design and data analysis.our mids pro...    Fall 2021   \n",
       "\n",
       "      salary_lower_range  salary_upper_range  is_remote  zipcode  \\\n",
       "39               45760.0                 0.0          1        0   \n",
       "431                  0.0                 0.0          1        0   \n",
       "805              66580.8             87380.8          1        0   \n",
       "924                  0.0                 0.0          1        0   \n",
       "966              70616.0            106724.8          0   973012   \n",
       "...                  ...                 ...        ...      ...   \n",
       "1264             57000.0             59000.0          0        0   \n",
       "1737              3000.0                 0.0          0    77554   \n",
       "1755             72750.0             94581.0          0    20415   \n",
       "1766             97481.0            136749.0          0        0   \n",
       "1870             60000.0             65000.0          0    94720   \n",
       "\n",
       "               city state                                         title_temp  \\\n",
       "39                    NaN                               data research master   \n",
       "431          Remote   NaN                                    data specialist   \n",
       "805           lansg    mi                          data reporting specialist   \n",
       "924   united states   NaN                      reporting and data specialist   \n",
       "966           salem    or  part-time information systems specialist - bus...   \n",
       "...             ...   ...                                                ...   \n",
       "1264     fort colls    co                            postdoctoral researcher   \n",
       "1737      galveston    tx               postdoctoral research associate idrt   \n",
       "1755       washgton    dc       statistician (operations and administration)   \n",
       "1766       washgton    dc  interdisciplinary senior mathematical statisti...   \n",
       "1870       berkeley    ca                               postdoctoral scholar   \n",
       "\n",
       "     job_type  \n",
       "39      Other  \n",
       "431     Other  \n",
       "805     Other  \n",
       "924     Other  \n",
       "966     Other  \n",
       "...       ...  \n",
       "1264    Other  \n",
       "1737    Other  \n",
       "1755    Other  \n",
       "1766    Other  \n",
       "1870    Other  \n",
       "\n",
       "[272 rows x 12 columns]"
      ]
     },
     "execution_count": 22,
     "metadata": {},
     "output_type": "execute_result"
    }
   ],
   "source": [
    "indeed_df[indeed_df['job_type'] == 'Other']"
   ]
  },
  {
   "cell_type": "code",
   "execution_count": 23,
   "id": "df8433a2",
   "metadata": {
    "ExecuteTime": {
     "end_time": "2022-09-09T22:43:28.511135Z",
     "start_time": "2022-09-09T22:43:28.472235Z"
    }
   },
   "outputs": [],
   "source": [
    "experience_levels = ['associate','senior','intern','staff','principal',\n",
    "                  'director','leader','manager','specialist','entry level','machine learning'\n",
    "                    ,'junior','jr','sr']\n",
    "\n",
    "indeed_df['experience_level'] = '0'\n",
    "for index,level in enumerate(experience_levels):\n",
    "    indeed_df['experience_level'] = np.where(indeed_df['title_temp'].str.contains(level),level,indeed_df['experience_level'])\n",
    "            \n",
    "            "
   ]
  },
  {
   "cell_type": "code",
   "execution_count": 24,
   "id": "676fb076",
   "metadata": {
    "ExecuteTime": {
     "end_time": "2022-09-09T22:43:28.522101Z",
     "start_time": "2022-09-09T22:43:28.512143Z"
    }
   },
   "outputs": [
    {
     "data": {
      "text/plain": [
       "0                   2367\n",
       "senior               244\n",
       "machine learning     131\n",
       "sr                   130\n",
       "associate            103\n",
       "manager               66\n",
       "junior                61\n",
       "specialist            34\n",
       "director              31\n",
       "principal             26\n",
       "jr                    21\n",
       "entry level           20\n",
       "staff                 16\n",
       "leader                 7\n",
       "intern                 3\n",
       "Name: experience_level, dtype: int64"
      ]
     },
     "execution_count": 24,
     "metadata": {},
     "output_type": "execute_result"
    }
   ],
   "source": [
    "indeed_df['experience_level'].value_counts()"
   ]
  },
  {
   "cell_type": "code",
   "execution_count": 25,
   "id": "f0e732ad",
   "metadata": {
    "ExecuteTime": {
     "end_time": "2022-09-09T22:43:28.529084Z",
     "start_time": "2022-09-09T22:43:28.524096Z"
    }
   },
   "outputs": [],
   "source": [
    "indeed_df.drop('title_temp', axis = 1, inplace = True)"
   ]
  },
  {
   "cell_type": "code",
   "execution_count": 26,
   "id": "e202d2d9",
   "metadata": {
    "ExecuteTime": {
     "end_time": "2022-09-09T22:43:28.572970Z",
     "start_time": "2022-09-09T22:43:28.530081Z"
    }
   },
   "outputs": [],
   "source": [
    "indeed_df.drop_duplicates(inplace=True)\n",
    "indeed_df.to_csv(r'C:\\Users\\Nicho\\gc-march-2022\\data\\IndeedCleanedData.csv', index=False)"
   ]
  }
 ],
 "metadata": {
  "kernelspec": {
   "display_name": "Python 3 (ipykernel)",
   "language": "python",
   "name": "python3"
  },
  "language_info": {
   "codemirror_mode": {
    "name": "ipython",
    "version": 3
   },
   "file_extension": ".py",
   "mimetype": "text/x-python",
   "name": "python",
   "nbconvert_exporter": "python",
   "pygments_lexer": "ipython3",
   "version": "3.9.7"
  }
 },
 "nbformat": 4,
 "nbformat_minor": 5
}
