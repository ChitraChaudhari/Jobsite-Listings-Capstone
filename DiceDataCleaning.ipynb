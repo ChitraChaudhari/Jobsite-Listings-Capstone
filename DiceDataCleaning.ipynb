{
 "cells": [
  {
   "cell_type": "code",
   "execution_count": 1,
   "id": "6de7a4a9",
   "metadata": {},
   "outputs": [],
   "source": [
    "import pandas as pd\n",
    "import os"
   ]
  },
  {
   "cell_type": "markdown",
   "id": "e3fde31a",
   "metadata": {},
   "source": [
    "## Importing data"
   ]
  },
  {
   "cell_type": "code",
   "execution_count": 4,
   "id": "982a5ac6",
   "metadata": {},
   "outputs": [],
   "source": [
    "os.chdir(r'C:\\Users\\chitr\\gc-march-2022\\data')"
   ]
  },
  {
   "cell_type": "code",
   "execution_count": null,
   "id": "f997c236",
   "metadata": {},
   "outputs": [],
   "source": [
    "df_da = pd.read_csv('dice_DataAnalyst_2022.csv')\n",
    "df_da.head(5)"
   ]
  },
  {
   "cell_type": "code",
   "execution_count": null,
   "id": "4c117760",
   "metadata": {},
   "outputs": [],
   "source": [
    "df_da.info()"
   ]
  },
  {
   "cell_type": "code",
   "execution_count": null,
   "id": "04b8285c",
   "metadata": {},
   "outputs": [],
   "source": [
    "df_de = pd.read_csv('dice_DataEngineer_2022.csv')"
   ]
  },
  {
   "cell_type": "code",
   "execution_count": null,
   "id": "cb77d52f",
   "metadata": {},
   "outputs": [],
   "source": [
    "df_de.head(5)"
   ]
  },
  {
   "cell_type": "code",
   "execution_count": null,
   "id": "538b2630",
   "metadata": {},
   "outputs": [],
   "source": [
    "df_de.info()"
   ]
  },
  {
   "cell_type": "code",
   "execution_count": 5,
   "id": "1be2c5f3",
   "metadata": {},
   "outputs": [],
   "source": [
    "df_ds = pd.read_csv('dice_Datascientist_2022.csv')"
   ]
  },
  {
   "cell_type": "code",
   "execution_count": 6,
   "id": "36483ca2",
   "metadata": {},
   "outputs": [
    {
     "data": {
      "text/html": [
       "<div>\n",
       "<style scoped>\n",
       "    .dataframe tbody tr th:only-of-type {\n",
       "        vertical-align: middle;\n",
       "    }\n",
       "\n",
       "    .dataframe tbody tr th {\n",
       "        vertical-align: top;\n",
       "    }\n",
       "\n",
       "    .dataframe thead th {\n",
       "        text-align: right;\n",
       "    }\n",
       "</style>\n",
       "<table border=\"1\" class=\"dataframe\">\n",
       "  <thead>\n",
       "    <tr style=\"text-align: right;\">\n",
       "      <th></th>\n",
       "      <th>Unnamed: 0</th>\n",
       "      <th>title</th>\n",
       "      <th>company</th>\n",
       "      <th>description</th>\n",
       "      <th>location</th>\n",
       "    </tr>\n",
       "  </thead>\n",
       "  <tbody>\n",
       "    <tr>\n",
       "      <th>0</th>\n",
       "      <td>0</td>\n",
       "      <td>Data Science Architect</td>\n",
       "      <td>Randstad Technologies</td>\n",
       "      <td>job summary:  The Data Science Architect works...</td>\n",
       "      <td>North Chicago, IL, USA</td>\n",
       "    </tr>\n",
       "    <tr>\n",
       "      <th>1</th>\n",
       "      <td>1</td>\n",
       "      <td>Data Science Trainee</td>\n",
       "      <td>HStechnologies LLC</td>\n",
       "      <td>HS Technologies, is an Equal Opportunity Emplo...</td>\n",
       "      <td>Remote</td>\n",
       "    </tr>\n",
       "    <tr>\n",
       "      <th>2</th>\n",
       "      <td>2</td>\n",
       "      <td>Data Science</td>\n",
       "      <td>Ventures Unlimited</td>\n",
       "      <td>Position:- Data Science ,   Location:- Austin,...</td>\n",
       "      <td>Austin, TX, USA</td>\n",
       "    </tr>\n",
       "    <tr>\n",
       "      <th>3</th>\n",
       "      <td>3</td>\n",
       "      <td>Urgent Opening | Product Manager Data Science...</td>\n",
       "      <td>SunRay Enterprise Inc</td>\n",
       "      <td>Hi All,Hope you are doing well!  Please see th...</td>\n",
       "      <td>Remote</td>\n",
       "    </tr>\n",
       "    <tr>\n",
       "      <th>4</th>\n",
       "      <td>4</td>\n",
       "      <td>Project Manager (With Data Science Experience )</td>\n",
       "      <td>WB Solutions LLC</td>\n",
       "      <td>Greetings from WB Solutions!   We have the Urg...</td>\n",
       "      <td>Santa Clara, CA, USA</td>\n",
       "    </tr>\n",
       "  </tbody>\n",
       "</table>\n",
       "</div>"
      ],
      "text/plain": [
       "   Unnamed: 0                                              title  \\\n",
       "0           0                            Data Science Architect    \n",
       "1           1                              Data Science Trainee    \n",
       "2           2                                      Data Science    \n",
       "3           3   Urgent Opening | Product Manager Data Science...   \n",
       "4           4   Project Manager (With Data Science Experience )    \n",
       "\n",
       "                   company                                        description  \\\n",
       "0   Randstad Technologies   job summary:  The Data Science Architect works...   \n",
       "1      HStechnologies LLC   HS Technologies, is an Equal Opportunity Emplo...   \n",
       "2      Ventures Unlimited   Position:- Data Science ,   Location:- Austin,...   \n",
       "3   SunRay Enterprise Inc   Hi All,Hope you are doing well!  Please see th...   \n",
       "4        WB Solutions LLC   Greetings from WB Solutions!   We have the Urg...   \n",
       "\n",
       "                   location  \n",
       "0   North Chicago, IL, USA   \n",
       "1                   Remote   \n",
       "2          Austin, TX, USA   \n",
       "3                   Remote   \n",
       "4     Santa Clara, CA, USA   "
      ]
     },
     "execution_count": 6,
     "metadata": {},
     "output_type": "execute_result"
    }
   ],
   "source": [
    "df_ds.head()"
   ]
  },
  {
   "cell_type": "code",
   "execution_count": 7,
   "id": "19d7e94c",
   "metadata": {
    "scrolled": true
   },
   "outputs": [
    {
     "name": "stdout",
     "output_type": "stream",
     "text": [
      "<class 'pandas.core.frame.DataFrame'>\n",
      "RangeIndex: 1990 entries, 0 to 1989\n",
      "Data columns (total 5 columns):\n",
      " #   Column       Non-Null Count  Dtype \n",
      "---  ------       --------------  ----- \n",
      " 0   Unnamed: 0   1990 non-null   int64 \n",
      " 1   title        1990 non-null   object\n",
      " 2   company      1990 non-null   object\n",
      " 3   description  1990 non-null   object\n",
      " 4   location     1990 non-null   object\n",
      "dtypes: int64(1), object(4)\n",
      "memory usage: 77.9+ KB\n"
     ]
    }
   ],
   "source": [
    "df_ds.info()"
   ]
  },
  {
   "cell_type": "markdown",
   "id": "1e335d55",
   "metadata": {},
   "source": [
    "None of the columns from all three files contains null value."
   ]
  },
  {
   "cell_type": "markdown",
   "id": "9e77a3d3",
   "metadata": {},
   "source": [
    "## Data cleaning"
   ]
  },
  {
   "cell_type": "markdown",
   "id": "f40270e8",
   "metadata": {},
   "source": [
    "###  Checking and dropping any duplicate rows"
   ]
  },
  {
   "cell_type": "code",
   "execution_count": null,
   "id": "06dd8ea8",
   "metadata": {},
   "outputs": [],
   "source": [
    "df_da = df_da.drop_duplicates()\n",
    "df_da.info()"
   ]
  },
  {
   "cell_type": "code",
   "execution_count": null,
   "id": "93ef0606",
   "metadata": {
    "scrolled": false
   },
   "outputs": [],
   "source": [
    "df_de = df_de.drop_duplicates()\n",
    "df_de.info()"
   ]
  },
  {
   "cell_type": "code",
   "execution_count": 9,
   "id": "dcafd7c1",
   "metadata": {},
   "outputs": [
    {
     "name": "stdout",
     "output_type": "stream",
     "text": [
      "<class 'pandas.core.frame.DataFrame'>\n",
      "Int64Index: 1561 entries, 0 to 1987\n",
      "Data columns (total 4 columns):\n",
      " #   Column       Non-Null Count  Dtype \n",
      "---  ------       --------------  ----- \n",
      " 0   title        1561 non-null   object\n",
      " 1   company      1561 non-null   object\n",
      " 2   description  1561 non-null   object\n",
      " 3   location     1561 non-null   object\n",
      "dtypes: object(4)\n",
      "memory usage: 61.0+ KB\n"
     ]
    }
   ],
   "source": [
    "df_ds= df_ds.drop(columns=['Unnamed: 0'])\n",
    "df_ds = df_ds.drop_duplicates()\n",
    "df_ds.info()"
   ]
  },
  {
   "cell_type": "markdown",
   "id": "f46301e2",
   "metadata": {},
   "source": [
    "#### Merging all the data into one dataframe"
   ]
  },
  {
   "cell_type": "code",
   "execution_count": null,
   "id": "748fcb00",
   "metadata": {},
   "outputs": [],
   "source": [
    "df_dice = pd.concat([df_da,df_de,df_ds])\n",
    "df_dice.info()"
   ]
  },
  {
   "cell_type": "code",
   "execution_count": null,
   "id": "790d3418",
   "metadata": {},
   "outputs": [],
   "source": [
    "df_dice.head()"
   ]
  },
  {
   "cell_type": "code",
   "execution_count": null,
   "id": "69bd04d2",
   "metadata": {},
   "outputs": [],
   "source": [
    "df_dice.tail()"
   ]
  },
  {
   "cell_type": "code",
   "execution_count": null,
   "id": "e0555156",
   "metadata": {},
   "outputs": [],
   "source": [
    "df_dice= df_dice.drop(columns=['Unnamed: 0'])\n",
    "df_dice = df_dice.drop_duplicates()\n",
    "df_dice.info()"
   ]
  },
  {
   "cell_type": "markdown",
   "id": "779c1d0a",
   "metadata": {},
   "source": [
    "## It seems there is lot of duplicate data got captured while scraping the data. Before dropping duplicate rows their were more than 3000 rows of data, but after that only 31 rows left. So Data scraping step needs to be performed again."
   ]
  },
  {
   "cell_type": "code",
   "execution_count": null,
   "id": "659fb99b",
   "metadata": {},
   "outputs": [],
   "source": [
    "df_dice"
   ]
  },
  {
   "cell_type": "code",
   "execution_count": null,
   "id": "1ae1c3d9",
   "metadata": {},
   "outputs": [],
   "source": []
  }
 ],
 "metadata": {
  "kernelspec": {
   "display_name": "Python 3 (ipykernel)",
   "language": "python",
   "name": "python3"
  },
  "language_info": {
   "codemirror_mode": {
    "name": "ipython",
    "version": 3
   },
   "file_extension": ".py",
   "mimetype": "text/x-python",
   "name": "python",
   "nbconvert_exporter": "python",
   "pygments_lexer": "ipython3",
   "version": "3.9.12"
  }
 },
 "nbformat": 4,
 "nbformat_minor": 5
}
