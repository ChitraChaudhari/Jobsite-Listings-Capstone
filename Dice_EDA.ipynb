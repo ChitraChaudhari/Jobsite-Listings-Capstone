{
 "cells": [
  {
   "cell_type": "markdown",
   "id": "e3fde31a",
   "metadata": {},
   "source": [
    "# Dice.com EDA\n",
    "\n",
    "\n",
    "## Importing data\n",
    "\n",
    "Currently we have 3 different data files each for data analyst, data engineer and data science. "
   ]
  },
  {
   "cell_type": "code",
   "execution_count": 39,
   "id": "6de7a4a9",
   "metadata": {},
   "outputs": [],
   "source": [
    "import pandas as pd\n",
    "import matplotlib.pyplot as plt\n",
    "import os"
   ]
  },
  {
   "cell_type": "code",
   "execution_count": 2,
   "id": "982a5ac6",
   "metadata": {},
   "outputs": [],
   "source": [
    "os.chdir(r'C:\\Users\\chitr\\gc-march-2022\\data')"
   ]
  },
  {
   "cell_type": "code",
   "execution_count": 3,
   "id": "f997c236",
   "metadata": {},
   "outputs": [
    {
     "data": {
      "text/html": [
       "<div>\n",
       "<style scoped>\n",
       "    .dataframe tbody tr th:only-of-type {\n",
       "        vertical-align: middle;\n",
       "    }\n",
       "\n",
       "    .dataframe tbody tr th {\n",
       "        vertical-align: top;\n",
       "    }\n",
       "\n",
       "    .dataframe thead th {\n",
       "        text-align: right;\n",
       "    }\n",
       "</style>\n",
       "<table border=\"1\" class=\"dataframe\">\n",
       "  <thead>\n",
       "    <tr style=\"text-align: right;\">\n",
       "      <th></th>\n",
       "      <th>Unnamed: 0</th>\n",
       "      <th>title</th>\n",
       "      <th>company</th>\n",
       "      <th>description</th>\n",
       "      <th>location</th>\n",
       "    </tr>\n",
       "  </thead>\n",
       "  <tbody>\n",
       "    <tr>\n",
       "      <th>0</th>\n",
       "      <td>0</td>\n",
       "      <td>Data Analyst</td>\n",
       "      <td>3K Technologies</td>\n",
       "      <td>Data Analyst Eden Prairie, MN (Remote) 1 Year ...</td>\n",
       "      <td>Remote</td>\n",
       "    </tr>\n",
       "    <tr>\n",
       "      <th>1</th>\n",
       "      <td>1</td>\n",
       "      <td>Data Analyst</td>\n",
       "      <td>IDC Technologies</td>\n",
       "      <td>Data Analyst  100% remote Contract   Job Descr...</td>\n",
       "      <td>Remote</td>\n",
       "    </tr>\n",
       "    <tr>\n",
       "      <th>2</th>\n",
       "      <td>2</td>\n",
       "      <td>Data Analyst</td>\n",
       "      <td>AIMIC Inc.</td>\n",
       "      <td>Data Analyst Reston, VA (Remote to start but M...</td>\n",
       "      <td>Remote</td>\n",
       "    </tr>\n",
       "    <tr>\n",
       "      <th>3</th>\n",
       "      <td>3</td>\n",
       "      <td>Data Analyst</td>\n",
       "      <td>Vaco Technology</td>\n",
       "      <td>Job Title: Data Analyst  Location: New York/ R...</td>\n",
       "      <td>New York, NY, USA</td>\n",
       "    </tr>\n",
       "    <tr>\n",
       "      <th>4</th>\n",
       "      <td>4</td>\n",
       "      <td>Data Analyst</td>\n",
       "      <td>Nivid InfoTech Inc.</td>\n",
       "      <td>Data Analyst  Atlanta, GA ( Remote to start ) ...</td>\n",
       "      <td>Remote or Atlanta, GA, USA</td>\n",
       "    </tr>\n",
       "  </tbody>\n",
       "</table>\n",
       "</div>"
      ],
      "text/plain": [
       "   Unnamed: 0           title                company  \\\n",
       "0           0   Data Analyst        3K Technologies    \n",
       "1           1   Data Analyst       IDC Technologies    \n",
       "2           2   Data Analyst             AIMIC Inc.    \n",
       "3           3   Data Analyst        Vaco Technology    \n",
       "4           4   Data Analyst    Nivid InfoTech Inc.    \n",
       "\n",
       "                                         description  \\\n",
       "0  Data Analyst Eden Prairie, MN (Remote) 1 Year ...   \n",
       "1  Data Analyst  100% remote Contract   Job Descr...   \n",
       "2  Data Analyst Reston, VA (Remote to start but M...   \n",
       "3  Job Title: Data Analyst  Location: New York/ R...   \n",
       "4  Data Analyst  Atlanta, GA ( Remote to start ) ...   \n",
       "\n",
       "                       location  \n",
       "0                       Remote   \n",
       "1                       Remote   \n",
       "2                       Remote   \n",
       "3            New York, NY, USA   \n",
       "4   Remote or Atlanta, GA, USA   "
      ]
     },
     "execution_count": 3,
     "metadata": {},
     "output_type": "execute_result"
    }
   ],
   "source": [
    "df_da = pd.read_csv('dice_DataAnalyst_2022.csv')\n",
    "df_da.head(5)"
   ]
  },
  {
   "cell_type": "code",
   "execution_count": 4,
   "id": "4c117760",
   "metadata": {},
   "outputs": [
    {
     "name": "stdout",
     "output_type": "stream",
     "text": [
      "<class 'pandas.core.frame.DataFrame'>\n",
      "RangeIndex: 921 entries, 0 to 920\n",
      "Data columns (total 5 columns):\n",
      " #   Column       Non-Null Count  Dtype \n",
      "---  ------       --------------  ----- \n",
      " 0   Unnamed: 0   921 non-null    int64 \n",
      " 1   title        921 non-null    object\n",
      " 2   company      921 non-null    object\n",
      " 3   description  921 non-null    object\n",
      " 4   location     921 non-null    object\n",
      "dtypes: int64(1), object(4)\n",
      "memory usage: 36.1+ KB\n"
     ]
    }
   ],
   "source": [
    "df_da.info()"
   ]
  },
  {
   "cell_type": "code",
   "execution_count": 5,
   "id": "04b8285c",
   "metadata": {},
   "outputs": [],
   "source": [
    "df_de = pd.read_csv('dice_DataEngineer_2022.csv')"
   ]
  },
  {
   "cell_type": "code",
   "execution_count": 6,
   "id": "cb77d52f",
   "metadata": {},
   "outputs": [
    {
     "data": {
      "text/html": [
       "<div>\n",
       "<style scoped>\n",
       "    .dataframe tbody tr th:only-of-type {\n",
       "        vertical-align: middle;\n",
       "    }\n",
       "\n",
       "    .dataframe tbody tr th {\n",
       "        vertical-align: top;\n",
       "    }\n",
       "\n",
       "    .dataframe thead th {\n",
       "        text-align: right;\n",
       "    }\n",
       "</style>\n",
       "<table border=\"1\" class=\"dataframe\">\n",
       "  <thead>\n",
       "    <tr style=\"text-align: right;\">\n",
       "      <th></th>\n",
       "      <th>Unnamed: 0</th>\n",
       "      <th>title</th>\n",
       "      <th>company</th>\n",
       "      <th>description</th>\n",
       "      <th>location</th>\n",
       "    </tr>\n",
       "  </thead>\n",
       "  <tbody>\n",
       "    <tr>\n",
       "      <th>0</th>\n",
       "      <td>0</td>\n",
       "      <td>Data Engineer 3 (Technical)</td>\n",
       "      <td>Northwest Permanente, PC</td>\n",
       "      <td>The Data Engineer 3 position provides the oppo...</td>\n",
       "      <td>Portland, OR, USA</td>\n",
       "    </tr>\n",
       "    <tr>\n",
       "      <th>1</th>\n",
       "      <td>1</td>\n",
       "      <td>Data &amp; Automation Engineer</td>\n",
       "      <td>ClearBridge Investments, LLC</td>\n",
       "      <td>ClearBridge Investments is a leading global eq...</td>\n",
       "      <td>New York, NY, USA</td>\n",
       "    </tr>\n",
       "    <tr>\n",
       "      <th>2</th>\n",
       "      <td>2</td>\n",
       "      <td>Data Engineer</td>\n",
       "      <td>The Ascent Services Group</td>\n",
       "      <td>Title: Data Engineer  Location: Denver, CO  Ty...</td>\n",
       "      <td>Glendale, CO, USA</td>\n",
       "    </tr>\n",
       "    <tr>\n",
       "      <th>3</th>\n",
       "      <td>3</td>\n",
       "      <td>Data Engineer</td>\n",
       "      <td>Softpath System, LLC.</td>\n",
       "      <td>Job Details: Job Title  : Data Engineer Work L...</td>\n",
       "      <td>Shawnee, KS, USA</td>\n",
       "    </tr>\n",
       "    <tr>\n",
       "      <th>4</th>\n",
       "      <td>4</td>\n",
       "      <td>Data Engineer</td>\n",
       "      <td>Mastech Digital</td>\n",
       "      <td>Mastech Digital provides digital and mainstrea...</td>\n",
       "      <td>Remote or Pittsburgh, PA, USA</td>\n",
       "    </tr>\n",
       "  </tbody>\n",
       "</table>\n",
       "</div>"
      ],
      "text/plain": [
       "   Unnamed: 0                          title                         company  \\\n",
       "0           0   Data Engineer 3 (Technical)        Northwest Permanente, PC    \n",
       "1           1    Data & Automation Engineer    ClearBridge Investments, LLC    \n",
       "2           2                 Data Engineer       The Ascent Services Group    \n",
       "3           3                 Data Engineer           Softpath System, LLC.    \n",
       "4           4                 Data Engineer                 Mastech Digital    \n",
       "\n",
       "                                         description  \\\n",
       "0  The Data Engineer 3 position provides the oppo...   \n",
       "1  ClearBridge Investments is a leading global eq...   \n",
       "2  Title: Data Engineer  Location: Denver, CO  Ty...   \n",
       "3  Job Details: Job Title  : Data Engineer Work L...   \n",
       "4  Mastech Digital provides digital and mainstrea...   \n",
       "\n",
       "                          location  \n",
       "0               Portland, OR, USA   \n",
       "1               New York, NY, USA   \n",
       "2               Glendale, CO, USA   \n",
       "3                Shawnee, KS, USA   \n",
       "4   Remote or Pittsburgh, PA, USA   "
      ]
     },
     "execution_count": 6,
     "metadata": {},
     "output_type": "execute_result"
    }
   ],
   "source": [
    "df_de.head(5)"
   ]
  },
  {
   "cell_type": "code",
   "execution_count": 7,
   "id": "538b2630",
   "metadata": {},
   "outputs": [
    {
     "name": "stdout",
     "output_type": "stream",
     "text": [
      "<class 'pandas.core.frame.DataFrame'>\n",
      "RangeIndex: 1992 entries, 0 to 1991\n",
      "Data columns (total 5 columns):\n",
      " #   Column       Non-Null Count  Dtype \n",
      "---  ------       --------------  ----- \n",
      " 0   Unnamed: 0   1992 non-null   int64 \n",
      " 1   title        1992 non-null   object\n",
      " 2   company      1992 non-null   object\n",
      " 3   description  1992 non-null   object\n",
      " 4   location     1992 non-null   object\n",
      "dtypes: int64(1), object(4)\n",
      "memory usage: 77.9+ KB\n"
     ]
    }
   ],
   "source": [
    "df_de.info()"
   ]
  },
  {
   "cell_type": "code",
   "execution_count": 8,
   "id": "1be2c5f3",
   "metadata": {},
   "outputs": [],
   "source": [
    "df_ds = pd.read_csv('dice_Datascientist_2022.csv')"
   ]
  },
  {
   "cell_type": "code",
   "execution_count": 9,
   "id": "36483ca2",
   "metadata": {},
   "outputs": [
    {
     "data": {
      "text/html": [
       "<div>\n",
       "<style scoped>\n",
       "    .dataframe tbody tr th:only-of-type {\n",
       "        vertical-align: middle;\n",
       "    }\n",
       "\n",
       "    .dataframe tbody tr th {\n",
       "        vertical-align: top;\n",
       "    }\n",
       "\n",
       "    .dataframe thead th {\n",
       "        text-align: right;\n",
       "    }\n",
       "</style>\n",
       "<table border=\"1\" class=\"dataframe\">\n",
       "  <thead>\n",
       "    <tr style=\"text-align: right;\">\n",
       "      <th></th>\n",
       "      <th>Unnamed: 0</th>\n",
       "      <th>title</th>\n",
       "      <th>company</th>\n",
       "      <th>description</th>\n",
       "      <th>location</th>\n",
       "    </tr>\n",
       "  </thead>\n",
       "  <tbody>\n",
       "    <tr>\n",
       "      <th>0</th>\n",
       "      <td>0</td>\n",
       "      <td>Data Science Architect</td>\n",
       "      <td>Randstad Technologies</td>\n",
       "      <td>job summary:  The Data Science Architect works...</td>\n",
       "      <td>North Chicago, IL, USA</td>\n",
       "    </tr>\n",
       "    <tr>\n",
       "      <th>1</th>\n",
       "      <td>1</td>\n",
       "      <td>Data Science Trainee</td>\n",
       "      <td>HStechnologies LLC</td>\n",
       "      <td>HS Technologies, is an Equal Opportunity Emplo...</td>\n",
       "      <td>Remote</td>\n",
       "    </tr>\n",
       "    <tr>\n",
       "      <th>2</th>\n",
       "      <td>2</td>\n",
       "      <td>Data Science</td>\n",
       "      <td>Ventures Unlimited</td>\n",
       "      <td>Position:- Data Science ,   Location:- Austin,...</td>\n",
       "      <td>Austin, TX, USA</td>\n",
       "    </tr>\n",
       "    <tr>\n",
       "      <th>3</th>\n",
       "      <td>3</td>\n",
       "      <td>Urgent Opening | Product Manager Data Science...</td>\n",
       "      <td>SunRay Enterprise Inc</td>\n",
       "      <td>Hi All,Hope you are doing well!  Please see th...</td>\n",
       "      <td>Remote</td>\n",
       "    </tr>\n",
       "    <tr>\n",
       "      <th>4</th>\n",
       "      <td>4</td>\n",
       "      <td>Project Manager (With Data Science Experience )</td>\n",
       "      <td>WB Solutions LLC</td>\n",
       "      <td>Greetings from WB Solutions!   We have the Urg...</td>\n",
       "      <td>Santa Clara, CA, USA</td>\n",
       "    </tr>\n",
       "  </tbody>\n",
       "</table>\n",
       "</div>"
      ],
      "text/plain": [
       "   Unnamed: 0                                              title  \\\n",
       "0           0                            Data Science Architect    \n",
       "1           1                              Data Science Trainee    \n",
       "2           2                                      Data Science    \n",
       "3           3   Urgent Opening | Product Manager Data Science...   \n",
       "4           4   Project Manager (With Data Science Experience )    \n",
       "\n",
       "                   company                                        description  \\\n",
       "0   Randstad Technologies   job summary:  The Data Science Architect works...   \n",
       "1      HStechnologies LLC   HS Technologies, is an Equal Opportunity Emplo...   \n",
       "2      Ventures Unlimited   Position:- Data Science ,   Location:- Austin,...   \n",
       "3   SunRay Enterprise Inc   Hi All,Hope you are doing well!  Please see th...   \n",
       "4        WB Solutions LLC   Greetings from WB Solutions!   We have the Urg...   \n",
       "\n",
       "                   location  \n",
       "0   North Chicago, IL, USA   \n",
       "1                   Remote   \n",
       "2          Austin, TX, USA   \n",
       "3                   Remote   \n",
       "4     Santa Clara, CA, USA   "
      ]
     },
     "execution_count": 9,
     "metadata": {},
     "output_type": "execute_result"
    }
   ],
   "source": [
    "df_ds.head()"
   ]
  },
  {
   "cell_type": "code",
   "execution_count": 10,
   "id": "19d7e94c",
   "metadata": {
    "scrolled": true
   },
   "outputs": [
    {
     "name": "stdout",
     "output_type": "stream",
     "text": [
      "<class 'pandas.core.frame.DataFrame'>\n",
      "RangeIndex: 1990 entries, 0 to 1989\n",
      "Data columns (total 5 columns):\n",
      " #   Column       Non-Null Count  Dtype \n",
      "---  ------       --------------  ----- \n",
      " 0   Unnamed: 0   1990 non-null   int64 \n",
      " 1   title        1990 non-null   object\n",
      " 2   company      1990 non-null   object\n",
      " 3   description  1990 non-null   object\n",
      " 4   location     1990 non-null   object\n",
      "dtypes: int64(1), object(4)\n",
      "memory usage: 77.9+ KB\n"
     ]
    }
   ],
   "source": [
    "df_ds.info()"
   ]
  },
  {
   "cell_type": "markdown",
   "id": "1e335d55",
   "metadata": {},
   "source": [
    "##### All three files have same columns Unnamed: 0, title, company, description, location.\n",
    "##### None of the columns from all three files contains null value."
   ]
  },
  {
   "cell_type": "markdown",
   "id": "9e77a3d3",
   "metadata": {},
   "source": [
    "## Data cleaning"
   ]
  },
  {
   "cell_type": "markdown",
   "id": "f40270e8",
   "metadata": {},
   "source": [
    "###  Checking and dropping any duplicate rows"
   ]
  },
  {
   "cell_type": "code",
   "execution_count": 11,
   "id": "06dd8ea8",
   "metadata": {},
   "outputs": [
    {
     "name": "stdout",
     "output_type": "stream",
     "text": [
      "<class 'pandas.core.frame.DataFrame'>\n",
      "Int64Index: 921 entries, 0 to 920\n",
      "Data columns (total 5 columns):\n",
      " #   Column       Non-Null Count  Dtype \n",
      "---  ------       --------------  ----- \n",
      " 0   Unnamed: 0   921 non-null    int64 \n",
      " 1   title        921 non-null    object\n",
      " 2   company      921 non-null    object\n",
      " 3   description  921 non-null    object\n",
      " 4   location     921 non-null    object\n",
      "dtypes: int64(1), object(4)\n",
      "memory usage: 43.2+ KB\n"
     ]
    }
   ],
   "source": [
    "df_da = df_da.drop_duplicates()\n",
    "df_da.info()"
   ]
  },
  {
   "cell_type": "code",
   "execution_count": 12,
   "id": "93ef0606",
   "metadata": {
    "scrolled": false
   },
   "outputs": [
    {
     "name": "stdout",
     "output_type": "stream",
     "text": [
      "<class 'pandas.core.frame.DataFrame'>\n",
      "Int64Index: 1992 entries, 0 to 1991\n",
      "Data columns (total 5 columns):\n",
      " #   Column       Non-Null Count  Dtype \n",
      "---  ------       --------------  ----- \n",
      " 0   Unnamed: 0   1992 non-null   int64 \n",
      " 1   title        1992 non-null   object\n",
      " 2   company      1992 non-null   object\n",
      " 3   description  1992 non-null   object\n",
      " 4   location     1992 non-null   object\n",
      "dtypes: int64(1), object(4)\n",
      "memory usage: 93.4+ KB\n"
     ]
    }
   ],
   "source": [
    "df_de = df_de.drop_duplicates()\n",
    "df_de.info()"
   ]
  },
  {
   "cell_type": "code",
   "execution_count": 13,
   "id": "dcafd7c1",
   "metadata": {},
   "outputs": [
    {
     "name": "stdout",
     "output_type": "stream",
     "text": [
      "<class 'pandas.core.frame.DataFrame'>\n",
      "Int64Index: 1990 entries, 0 to 1989\n",
      "Data columns (total 5 columns):\n",
      " #   Column       Non-Null Count  Dtype \n",
      "---  ------       --------------  ----- \n",
      " 0   Unnamed: 0   1990 non-null   int64 \n",
      " 1   title        1990 non-null   object\n",
      " 2   company      1990 non-null   object\n",
      " 3   description  1990 non-null   object\n",
      " 4   location     1990 non-null   object\n",
      "dtypes: int64(1), object(4)\n",
      "memory usage: 93.3+ KB\n"
     ]
    }
   ],
   "source": [
    "df_ds = df_ds.drop_duplicates()\n",
    "df_ds.info()"
   ]
  },
  {
   "cell_type": "markdown",
   "id": "b56e094a",
   "metadata": {},
   "source": [
    "##### All datasets are currently having first column **Unmaed: 0** which is just the row number. This column is not needed and also it is the reason we are not able to delete any duplicate rows. So that column needs to be dropped from all 3 dataframes."
   ]
  },
  {
   "cell_type": "markdown",
   "id": "f46301e2",
   "metadata": {},
   "source": [
    "### Merging all the data into one dataframe"
   ]
  },
  {
   "cell_type": "code",
   "execution_count": 14,
   "id": "748fcb00",
   "metadata": {
    "scrolled": true
   },
   "outputs": [
    {
     "name": "stdout",
     "output_type": "stream",
     "text": [
      "<class 'pandas.core.frame.DataFrame'>\n",
      "RangeIndex: 4903 entries, 0 to 4902\n",
      "Data columns (total 5 columns):\n",
      " #   Column       Non-Null Count  Dtype \n",
      "---  ------       --------------  ----- \n",
      " 0   Unnamed: 0   4903 non-null   int64 \n",
      " 1   title        4903 non-null   object\n",
      " 2   company      4903 non-null   object\n",
      " 3   description  4903 non-null   object\n",
      " 4   location     4903 non-null   object\n",
      "dtypes: int64(1), object(4)\n",
      "memory usage: 191.6+ KB\n"
     ]
    }
   ],
   "source": [
    "df_dice = pd.concat([df_da,df_de,df_ds], ignore_index=True)\n",
    "df_dice.info()"
   ]
  },
  {
   "cell_type": "code",
   "execution_count": 15,
   "id": "790d3418",
   "metadata": {},
   "outputs": [
    {
     "data": {
      "text/html": [
       "<div>\n",
       "<style scoped>\n",
       "    .dataframe tbody tr th:only-of-type {\n",
       "        vertical-align: middle;\n",
       "    }\n",
       "\n",
       "    .dataframe tbody tr th {\n",
       "        vertical-align: top;\n",
       "    }\n",
       "\n",
       "    .dataframe thead th {\n",
       "        text-align: right;\n",
       "    }\n",
       "</style>\n",
       "<table border=\"1\" class=\"dataframe\">\n",
       "  <thead>\n",
       "    <tr style=\"text-align: right;\">\n",
       "      <th></th>\n",
       "      <th>Unnamed: 0</th>\n",
       "      <th>title</th>\n",
       "      <th>company</th>\n",
       "      <th>description</th>\n",
       "      <th>location</th>\n",
       "    </tr>\n",
       "  </thead>\n",
       "  <tbody>\n",
       "    <tr>\n",
       "      <th>0</th>\n",
       "      <td>0</td>\n",
       "      <td>Data Analyst</td>\n",
       "      <td>3K Technologies</td>\n",
       "      <td>Data Analyst Eden Prairie, MN (Remote) 1 Year ...</td>\n",
       "      <td>Remote</td>\n",
       "    </tr>\n",
       "    <tr>\n",
       "      <th>1</th>\n",
       "      <td>1</td>\n",
       "      <td>Data Analyst</td>\n",
       "      <td>IDC Technologies</td>\n",
       "      <td>Data Analyst  100% remote Contract   Job Descr...</td>\n",
       "      <td>Remote</td>\n",
       "    </tr>\n",
       "    <tr>\n",
       "      <th>2</th>\n",
       "      <td>2</td>\n",
       "      <td>Data Analyst</td>\n",
       "      <td>AIMIC Inc.</td>\n",
       "      <td>Data Analyst Reston, VA (Remote to start but M...</td>\n",
       "      <td>Remote</td>\n",
       "    </tr>\n",
       "    <tr>\n",
       "      <th>3</th>\n",
       "      <td>3</td>\n",
       "      <td>Data Analyst</td>\n",
       "      <td>Vaco Technology</td>\n",
       "      <td>Job Title: Data Analyst  Location: New York/ R...</td>\n",
       "      <td>New York, NY, USA</td>\n",
       "    </tr>\n",
       "    <tr>\n",
       "      <th>4</th>\n",
       "      <td>4</td>\n",
       "      <td>Data Analyst</td>\n",
       "      <td>Nivid InfoTech Inc.</td>\n",
       "      <td>Data Analyst  Atlanta, GA ( Remote to start ) ...</td>\n",
       "      <td>Remote or Atlanta, GA, USA</td>\n",
       "    </tr>\n",
       "  </tbody>\n",
       "</table>\n",
       "</div>"
      ],
      "text/plain": [
       "   Unnamed: 0           title                company  \\\n",
       "0           0   Data Analyst        3K Technologies    \n",
       "1           1   Data Analyst       IDC Technologies    \n",
       "2           2   Data Analyst             AIMIC Inc.    \n",
       "3           3   Data Analyst        Vaco Technology    \n",
       "4           4   Data Analyst    Nivid InfoTech Inc.    \n",
       "\n",
       "                                         description  \\\n",
       "0  Data Analyst Eden Prairie, MN (Remote) 1 Year ...   \n",
       "1  Data Analyst  100% remote Contract   Job Descr...   \n",
       "2  Data Analyst Reston, VA (Remote to start but M...   \n",
       "3  Job Title: Data Analyst  Location: New York/ R...   \n",
       "4  Data Analyst  Atlanta, GA ( Remote to start ) ...   \n",
       "\n",
       "                       location  \n",
       "0                       Remote   \n",
       "1                       Remote   \n",
       "2                       Remote   \n",
       "3            New York, NY, USA   \n",
       "4   Remote or Atlanta, GA, USA   "
      ]
     },
     "execution_count": 15,
     "metadata": {},
     "output_type": "execute_result"
    }
   ],
   "source": [
    "df_dice.head()"
   ]
  },
  {
   "cell_type": "code",
   "execution_count": 16,
   "id": "69bd04d2",
   "metadata": {},
   "outputs": [
    {
     "data": {
      "text/html": [
       "<div>\n",
       "<style scoped>\n",
       "    .dataframe tbody tr th:only-of-type {\n",
       "        vertical-align: middle;\n",
       "    }\n",
       "\n",
       "    .dataframe tbody tr th {\n",
       "        vertical-align: top;\n",
       "    }\n",
       "\n",
       "    .dataframe thead th {\n",
       "        text-align: right;\n",
       "    }\n",
       "</style>\n",
       "<table border=\"1\" class=\"dataframe\">\n",
       "  <thead>\n",
       "    <tr style=\"text-align: right;\">\n",
       "      <th></th>\n",
       "      <th>Unnamed: 0</th>\n",
       "      <th>title</th>\n",
       "      <th>company</th>\n",
       "      <th>description</th>\n",
       "      <th>location</th>\n",
       "    </tr>\n",
       "  </thead>\n",
       "  <tbody>\n",
       "    <tr>\n",
       "      <th>4898</th>\n",
       "      <td>1985</td>\n",
       "      <td>Lead Flight Engineers</td>\n",
       "      <td>BOEING</td>\n",
       "      <td>Job Description  At Boeing, we innovate and co...</td>\n",
       "      <td>Idledale, CO, USA</td>\n",
       "    </tr>\n",
       "    <tr>\n",
       "      <th>4899</th>\n",
       "      <td>1986</td>\n",
       "      <td>Lead Flight Engineers</td>\n",
       "      <td>BOEING</td>\n",
       "      <td>Job Description  At Boeing, we innovate and co...</td>\n",
       "      <td>Los Angeles, CA, USA</td>\n",
       "    </tr>\n",
       "    <tr>\n",
       "      <th>4900</th>\n",
       "      <td>1987</td>\n",
       "      <td>Lead Flight Engineers</td>\n",
       "      <td>BOEING</td>\n",
       "      <td>Job Description  At Boeing, we innovate and co...</td>\n",
       "      <td>Westminster, CA, USA</td>\n",
       "    </tr>\n",
       "    <tr>\n",
       "      <th>4901</th>\n",
       "      <td>1988</td>\n",
       "      <td>Lead Flight Engineers</td>\n",
       "      <td>BOEING</td>\n",
       "      <td>Job Description  At Boeing, we innovate and co...</td>\n",
       "      <td>Lawndale, CA, USA</td>\n",
       "    </tr>\n",
       "    <tr>\n",
       "      <th>4902</th>\n",
       "      <td>1989</td>\n",
       "      <td>Lead Flight Engineers</td>\n",
       "      <td>BOEING</td>\n",
       "      <td>Job Description  At Boeing, we innovate and co...</td>\n",
       "      <td>Los Angeles, CA, USA</td>\n",
       "    </tr>\n",
       "  </tbody>\n",
       "</table>\n",
       "</div>"
      ],
      "text/plain": [
       "      Unnamed: 0                    title   company  \\\n",
       "4898        1985   Lead Flight Engineers    BOEING    \n",
       "4899        1986   Lead Flight Engineers    BOEING    \n",
       "4900        1987   Lead Flight Engineers    BOEING    \n",
       "4901        1988   Lead Flight Engineers    BOEING    \n",
       "4902        1989   Lead Flight Engineers    BOEING    \n",
       "\n",
       "                                            description  \\\n",
       "4898  Job Description  At Boeing, we innovate and co...   \n",
       "4899  Job Description  At Boeing, we innovate and co...   \n",
       "4900  Job Description  At Boeing, we innovate and co...   \n",
       "4901  Job Description  At Boeing, we innovate and co...   \n",
       "4902  Job Description  At Boeing, we innovate and co...   \n",
       "\n",
       "                    location  \n",
       "4898      Idledale, CO, USA   \n",
       "4899   Los Angeles, CA, USA   \n",
       "4900   Westminster, CA, USA   \n",
       "4901      Lawndale, CA, USA   \n",
       "4902   Los Angeles, CA, USA   "
      ]
     },
     "execution_count": 16,
     "metadata": {},
     "output_type": "execute_result"
    }
   ],
   "source": [
    "df_dice.tail()"
   ]
  },
  {
   "cell_type": "code",
   "execution_count": 17,
   "id": "e0555156",
   "metadata": {
    "scrolled": true
   },
   "outputs": [
    {
     "name": "stdout",
     "output_type": "stream",
     "text": [
      "<class 'pandas.core.frame.DataFrame'>\n",
      "RangeIndex: 3917 entries, 0 to 3916\n",
      "Data columns (total 4 columns):\n",
      " #   Column       Non-Null Count  Dtype \n",
      "---  ------       --------------  ----- \n",
      " 0   title        3917 non-null   object\n",
      " 1   company      3917 non-null   object\n",
      " 2   description  3917 non-null   object\n",
      " 3   location     3917 non-null   object\n",
      "dtypes: object(4)\n",
      "memory usage: 122.5+ KB\n"
     ]
    }
   ],
   "source": [
    "df_dice= df_dice.drop(columns=['Unnamed: 0'])\n",
    "df_dice = df_dice.drop_duplicates(ignore_index=True)\n",
    "df_dice.info()"
   ]
  },
  {
   "cell_type": "code",
   "execution_count": 18,
   "id": "659fb99b",
   "metadata": {
    "scrolled": true
   },
   "outputs": [
    {
     "data": {
      "text/html": [
       "<div>\n",
       "<style scoped>\n",
       "    .dataframe tbody tr th:only-of-type {\n",
       "        vertical-align: middle;\n",
       "    }\n",
       "\n",
       "    .dataframe tbody tr th {\n",
       "        vertical-align: top;\n",
       "    }\n",
       "\n",
       "    .dataframe thead th {\n",
       "        text-align: right;\n",
       "    }\n",
       "</style>\n",
       "<table border=\"1\" class=\"dataframe\">\n",
       "  <thead>\n",
       "    <tr style=\"text-align: right;\">\n",
       "      <th></th>\n",
       "      <th>title</th>\n",
       "      <th>company</th>\n",
       "      <th>description</th>\n",
       "      <th>location</th>\n",
       "    </tr>\n",
       "  </thead>\n",
       "  <tbody>\n",
       "    <tr>\n",
       "      <th>3912</th>\n",
       "      <td>Lead Flight Engineers</td>\n",
       "      <td>BOEING</td>\n",
       "      <td>Job Description  At Boeing, we innovate and co...</td>\n",
       "      <td>Louisville, CO, USA</td>\n",
       "    </tr>\n",
       "    <tr>\n",
       "      <th>3913</th>\n",
       "      <td>Lead Flight Engineers</td>\n",
       "      <td>BOEING</td>\n",
       "      <td>Job Description  At Boeing, we innovate and co...</td>\n",
       "      <td>Arvada, CO, USA</td>\n",
       "    </tr>\n",
       "    <tr>\n",
       "      <th>3914</th>\n",
       "      <td>Lead Flight Engineers</td>\n",
       "      <td>BOEING</td>\n",
       "      <td>Job Description  At Boeing, we innovate and co...</td>\n",
       "      <td>Parker, CO, USA</td>\n",
       "    </tr>\n",
       "    <tr>\n",
       "      <th>3915</th>\n",
       "      <td>Lead Flight Engineers</td>\n",
       "      <td>BOEING</td>\n",
       "      <td>Job Description  At Boeing, we innovate and co...</td>\n",
       "      <td>Idledale, CO, USA</td>\n",
       "    </tr>\n",
       "    <tr>\n",
       "      <th>3916</th>\n",
       "      <td>Lead Flight Engineers</td>\n",
       "      <td>BOEING</td>\n",
       "      <td>Job Description  At Boeing, we innovate and co...</td>\n",
       "      <td>Westminster, CA, USA</td>\n",
       "    </tr>\n",
       "  </tbody>\n",
       "</table>\n",
       "</div>"
      ],
      "text/plain": [
       "                        title   company  \\\n",
       "3912   Lead Flight Engineers    BOEING    \n",
       "3913   Lead Flight Engineers    BOEING    \n",
       "3914   Lead Flight Engineers    BOEING    \n",
       "3915   Lead Flight Engineers    BOEING    \n",
       "3916   Lead Flight Engineers    BOEING    \n",
       "\n",
       "                                            description  \\\n",
       "3912  Job Description  At Boeing, we innovate and co...   \n",
       "3913  Job Description  At Boeing, we innovate and co...   \n",
       "3914  Job Description  At Boeing, we innovate and co...   \n",
       "3915  Job Description  At Boeing, we innovate and co...   \n",
       "3916  Job Description  At Boeing, we innovate and co...   \n",
       "\n",
       "                    location  \n",
       "3912    Louisville, CO, USA   \n",
       "3913        Arvada, CO, USA   \n",
       "3914        Parker, CO, USA   \n",
       "3915      Idledale, CO, USA   \n",
       "3916   Westminster, CA, USA   "
      ]
     },
     "execution_count": 18,
     "metadata": {},
     "output_type": "execute_result"
    }
   ],
   "source": [
    "df_dice.tail()"
   ]
  },
  {
   "cell_type": "markdown",
   "id": "036deb85",
   "metadata": {},
   "source": [
    "##### This dataset does have enough amount of rows to start with initial analysis. But I do see that some job roles and descriptions are same but just change in location created more rows in the dataset. That needs to be investigated more."
   ]
  },
  {
   "cell_type": "code",
   "execution_count": 19,
   "id": "7dc7d216",
   "metadata": {},
   "outputs": [],
   "source": [
    "df_dice['title'] = df_dice['title'].str.lower()\n",
    "df_dice['company'] = df_dice['company'].str.lower()\n",
    "df_dice['description'] = df_dice['description'].str.lower()\n",
    "df_dice['location'] = df_dice['location'].str.lower()"
   ]
  },
  {
   "cell_type": "code",
   "execution_count": 20,
   "id": "f5966fb7",
   "metadata": {},
   "outputs": [
    {
     "data": {
      "text/html": [
       "<div>\n",
       "<style scoped>\n",
       "    .dataframe tbody tr th:only-of-type {\n",
       "        vertical-align: middle;\n",
       "    }\n",
       "\n",
       "    .dataframe tbody tr th {\n",
       "        vertical-align: top;\n",
       "    }\n",
       "\n",
       "    .dataframe thead th {\n",
       "        text-align: right;\n",
       "    }\n",
       "</style>\n",
       "<table border=\"1\" class=\"dataframe\">\n",
       "  <thead>\n",
       "    <tr style=\"text-align: right;\">\n",
       "      <th></th>\n",
       "      <th>title</th>\n",
       "      <th>company</th>\n",
       "      <th>description</th>\n",
       "      <th>location</th>\n",
       "    </tr>\n",
       "  </thead>\n",
       "  <tbody>\n",
       "    <tr>\n",
       "      <th>0</th>\n",
       "      <td>data analyst</td>\n",
       "      <td>3k technologies</td>\n",
       "      <td>data analyst eden prairie, mn (remote) 1 year ...</td>\n",
       "      <td>remote</td>\n",
       "    </tr>\n",
       "    <tr>\n",
       "      <th>1</th>\n",
       "      <td>data analyst</td>\n",
       "      <td>idc technologies</td>\n",
       "      <td>data analyst  100% remote contract   job descr...</td>\n",
       "      <td>remote</td>\n",
       "    </tr>\n",
       "    <tr>\n",
       "      <th>2</th>\n",
       "      <td>data analyst</td>\n",
       "      <td>aimic inc.</td>\n",
       "      <td>data analyst reston, va (remote to start but m...</td>\n",
       "      <td>remote</td>\n",
       "    </tr>\n",
       "    <tr>\n",
       "      <th>3</th>\n",
       "      <td>data analyst</td>\n",
       "      <td>vaco technology</td>\n",
       "      <td>job title: data analyst  location: new york/ r...</td>\n",
       "      <td>new york, ny, usa</td>\n",
       "    </tr>\n",
       "    <tr>\n",
       "      <th>4</th>\n",
       "      <td>data analyst</td>\n",
       "      <td>nivid infotech inc.</td>\n",
       "      <td>data analyst  atlanta, ga ( remote to start ) ...</td>\n",
       "      <td>remote or atlanta, ga, usa</td>\n",
       "    </tr>\n",
       "    <tr>\n",
       "      <th>...</th>\n",
       "      <td>...</td>\n",
       "      <td>...</td>\n",
       "      <td>...</td>\n",
       "      <td>...</td>\n",
       "    </tr>\n",
       "    <tr>\n",
       "      <th>3912</th>\n",
       "      <td>lead flight engineers</td>\n",
       "      <td>boeing</td>\n",
       "      <td>job description  at boeing, we innovate and co...</td>\n",
       "      <td>louisville, co, usa</td>\n",
       "    </tr>\n",
       "    <tr>\n",
       "      <th>3913</th>\n",
       "      <td>lead flight engineers</td>\n",
       "      <td>boeing</td>\n",
       "      <td>job description  at boeing, we innovate and co...</td>\n",
       "      <td>arvada, co, usa</td>\n",
       "    </tr>\n",
       "    <tr>\n",
       "      <th>3914</th>\n",
       "      <td>lead flight engineers</td>\n",
       "      <td>boeing</td>\n",
       "      <td>job description  at boeing, we innovate and co...</td>\n",
       "      <td>parker, co, usa</td>\n",
       "    </tr>\n",
       "    <tr>\n",
       "      <th>3915</th>\n",
       "      <td>lead flight engineers</td>\n",
       "      <td>boeing</td>\n",
       "      <td>job description  at boeing, we innovate and co...</td>\n",
       "      <td>idledale, co, usa</td>\n",
       "    </tr>\n",
       "    <tr>\n",
       "      <th>3916</th>\n",
       "      <td>lead flight engineers</td>\n",
       "      <td>boeing</td>\n",
       "      <td>job description  at boeing, we innovate and co...</td>\n",
       "      <td>westminster, ca, usa</td>\n",
       "    </tr>\n",
       "  </tbody>\n",
       "</table>\n",
       "<p>3917 rows × 4 columns</p>\n",
       "</div>"
      ],
      "text/plain": [
       "                        title                company  \\\n",
       "0               data analyst        3k technologies    \n",
       "1               data analyst       idc technologies    \n",
       "2               data analyst             aimic inc.    \n",
       "3               data analyst        vaco technology    \n",
       "4               data analyst    nivid infotech inc.    \n",
       "...                       ...                    ...   \n",
       "3912   lead flight engineers                 boeing    \n",
       "3913   lead flight engineers                 boeing    \n",
       "3914   lead flight engineers                 boeing    \n",
       "3915   lead flight engineers                 boeing    \n",
       "3916   lead flight engineers                 boeing    \n",
       "\n",
       "                                            description  \\\n",
       "0     data analyst eden prairie, mn (remote) 1 year ...   \n",
       "1     data analyst  100% remote contract   job descr...   \n",
       "2     data analyst reston, va (remote to start but m...   \n",
       "3     job title: data analyst  location: new york/ r...   \n",
       "4     data analyst  atlanta, ga ( remote to start ) ...   \n",
       "...                                                 ...   \n",
       "3912  job description  at boeing, we innovate and co...   \n",
       "3913  job description  at boeing, we innovate and co...   \n",
       "3914  job description  at boeing, we innovate and co...   \n",
       "3915  job description  at boeing, we innovate and co...   \n",
       "3916  job description  at boeing, we innovate and co...   \n",
       "\n",
       "                          location  \n",
       "0                          remote   \n",
       "1                          remote   \n",
       "2                          remote   \n",
       "3               new york, ny, usa   \n",
       "4      remote or atlanta, ga, usa   \n",
       "...                            ...  \n",
       "3912          louisville, co, usa   \n",
       "3913              arvada, co, usa   \n",
       "3914              parker, co, usa   \n",
       "3915            idledale, co, usa   \n",
       "3916         westminster, ca, usa   \n",
       "\n",
       "[3917 rows x 4 columns]"
      ]
     },
     "execution_count": 20,
     "metadata": {},
     "output_type": "execute_result"
    }
   ],
   "source": [
    "df_dice"
   ]
  },
  {
   "cell_type": "code",
   "execution_count": 21,
   "id": "fdd6b96f",
   "metadata": {},
   "outputs": [
    {
     "data": {
      "text/plain": [
       " remote                        638\n",
       " new york, ny, usa             154\n",
       " los angeles, ca, usa          120\n",
       " chicago, il, usa               66\n",
       " atlanta, ga, usa               66\n",
       "                              ... \n",
       " urbandale, ia, usa              1\n",
       " remote or vienna, va, usa       1\n",
       " east moline, il, usa            1\n",
       " gurugram, hr, india             1\n",
       " idledale, co, usa               1\n",
       "Name: location, Length: 888, dtype: int64"
      ]
     },
     "execution_count": 21,
     "metadata": {},
     "output_type": "execute_result"
    }
   ],
   "source": [
    "df_dice['location'].value_counts()"
   ]
  },
  {
   "cell_type": "markdown",
   "id": "af53c606",
   "metadata": {},
   "source": [
    "##### Remote seems to be the most occurring keyword. Also, there are some companies giving options for remote as well as in-person. So to analyze how many in total remote jobs let's create one more column is_remote."
   ]
  },
  {
   "cell_type": "code",
   "execution_count": 22,
   "id": "b999c542",
   "metadata": {
    "scrolled": true
   },
   "outputs": [
    {
     "data": {
      "text/html": [
       "<div>\n",
       "<style scoped>\n",
       "    .dataframe tbody tr th:only-of-type {\n",
       "        vertical-align: middle;\n",
       "    }\n",
       "\n",
       "    .dataframe tbody tr th {\n",
       "        vertical-align: top;\n",
       "    }\n",
       "\n",
       "    .dataframe thead th {\n",
       "        text-align: right;\n",
       "    }\n",
       "</style>\n",
       "<table border=\"1\" class=\"dataframe\">\n",
       "  <thead>\n",
       "    <tr style=\"text-align: right;\">\n",
       "      <th></th>\n",
       "      <th>title</th>\n",
       "      <th>company</th>\n",
       "      <th>description</th>\n",
       "      <th>location</th>\n",
       "      <th>is_remote</th>\n",
       "    </tr>\n",
       "  </thead>\n",
       "  <tbody>\n",
       "    <tr>\n",
       "      <th>0</th>\n",
       "      <td>data analyst</td>\n",
       "      <td>3k technologies</td>\n",
       "      <td>data analyst eden prairie, mn (remote) 1 year ...</td>\n",
       "      <td>remote</td>\n",
       "      <td>1</td>\n",
       "    </tr>\n",
       "    <tr>\n",
       "      <th>1</th>\n",
       "      <td>data analyst</td>\n",
       "      <td>idc technologies</td>\n",
       "      <td>data analyst  100% remote contract   job descr...</td>\n",
       "      <td>remote</td>\n",
       "      <td>1</td>\n",
       "    </tr>\n",
       "    <tr>\n",
       "      <th>2</th>\n",
       "      <td>data analyst</td>\n",
       "      <td>aimic inc.</td>\n",
       "      <td>data analyst reston, va (remote to start but m...</td>\n",
       "      <td>remote</td>\n",
       "      <td>1</td>\n",
       "    </tr>\n",
       "    <tr>\n",
       "      <th>3</th>\n",
       "      <td>data analyst</td>\n",
       "      <td>vaco technology</td>\n",
       "      <td>job title: data analyst  location: new york/ r...</td>\n",
       "      <td>new york, ny, usa</td>\n",
       "      <td>0</td>\n",
       "    </tr>\n",
       "    <tr>\n",
       "      <th>4</th>\n",
       "      <td>data analyst</td>\n",
       "      <td>nivid infotech inc.</td>\n",
       "      <td>data analyst  atlanta, ga ( remote to start ) ...</td>\n",
       "      <td>remote or atlanta, ga, usa</td>\n",
       "      <td>1</td>\n",
       "    </tr>\n",
       "    <tr>\n",
       "      <th>...</th>\n",
       "      <td>...</td>\n",
       "      <td>...</td>\n",
       "      <td>...</td>\n",
       "      <td>...</td>\n",
       "      <td>...</td>\n",
       "    </tr>\n",
       "    <tr>\n",
       "      <th>3912</th>\n",
       "      <td>lead flight engineers</td>\n",
       "      <td>boeing</td>\n",
       "      <td>job description  at boeing, we innovate and co...</td>\n",
       "      <td>louisville, co, usa</td>\n",
       "      <td>0</td>\n",
       "    </tr>\n",
       "    <tr>\n",
       "      <th>3913</th>\n",
       "      <td>lead flight engineers</td>\n",
       "      <td>boeing</td>\n",
       "      <td>job description  at boeing, we innovate and co...</td>\n",
       "      <td>arvada, co, usa</td>\n",
       "      <td>0</td>\n",
       "    </tr>\n",
       "    <tr>\n",
       "      <th>3914</th>\n",
       "      <td>lead flight engineers</td>\n",
       "      <td>boeing</td>\n",
       "      <td>job description  at boeing, we innovate and co...</td>\n",
       "      <td>parker, co, usa</td>\n",
       "      <td>0</td>\n",
       "    </tr>\n",
       "    <tr>\n",
       "      <th>3915</th>\n",
       "      <td>lead flight engineers</td>\n",
       "      <td>boeing</td>\n",
       "      <td>job description  at boeing, we innovate and co...</td>\n",
       "      <td>idledale, co, usa</td>\n",
       "      <td>0</td>\n",
       "    </tr>\n",
       "    <tr>\n",
       "      <th>3916</th>\n",
       "      <td>lead flight engineers</td>\n",
       "      <td>boeing</td>\n",
       "      <td>job description  at boeing, we innovate and co...</td>\n",
       "      <td>westminster, ca, usa</td>\n",
       "      <td>0</td>\n",
       "    </tr>\n",
       "  </tbody>\n",
       "</table>\n",
       "<p>3917 rows × 5 columns</p>\n",
       "</div>"
      ],
      "text/plain": [
       "                        title                company  \\\n",
       "0               data analyst        3k technologies    \n",
       "1               data analyst       idc technologies    \n",
       "2               data analyst             aimic inc.    \n",
       "3               data analyst        vaco technology    \n",
       "4               data analyst    nivid infotech inc.    \n",
       "...                       ...                    ...   \n",
       "3912   lead flight engineers                 boeing    \n",
       "3913   lead flight engineers                 boeing    \n",
       "3914   lead flight engineers                 boeing    \n",
       "3915   lead flight engineers                 boeing    \n",
       "3916   lead flight engineers                 boeing    \n",
       "\n",
       "                                            description  \\\n",
       "0     data analyst eden prairie, mn (remote) 1 year ...   \n",
       "1     data analyst  100% remote contract   job descr...   \n",
       "2     data analyst reston, va (remote to start but m...   \n",
       "3     job title: data analyst  location: new york/ r...   \n",
       "4     data analyst  atlanta, ga ( remote to start ) ...   \n",
       "...                                                 ...   \n",
       "3912  job description  at boeing, we innovate and co...   \n",
       "3913  job description  at boeing, we innovate and co...   \n",
       "3914  job description  at boeing, we innovate and co...   \n",
       "3915  job description  at boeing, we innovate and co...   \n",
       "3916  job description  at boeing, we innovate and co...   \n",
       "\n",
       "                          location  is_remote  \n",
       "0                          remote           1  \n",
       "1                          remote           1  \n",
       "2                          remote           1  \n",
       "3               new york, ny, usa           0  \n",
       "4      remote or atlanta, ga, usa           1  \n",
       "...                            ...        ...  \n",
       "3912          louisville, co, usa           0  \n",
       "3913              arvada, co, usa           0  \n",
       "3914              parker, co, usa           0  \n",
       "3915            idledale, co, usa           0  \n",
       "3916         westminster, ca, usa           0  \n",
       "\n",
       "[3917 rows x 5 columns]"
      ]
     },
     "execution_count": 22,
     "metadata": {},
     "output_type": "execute_result"
    }
   ],
   "source": [
    "import numpy as np\n",
    "\n",
    "df_dice['is_remote'] = np.where(df_dice['location'].str.contains('remote'),1,0)\n",
    "df_dice"
   ]
  },
  {
   "cell_type": "markdown",
   "id": "8c2b9ca3",
   "metadata": {},
   "source": [
    "##### We want to create 2 more columns, 'city' and 'state', to further analyze jobs by state or city."
   ]
  },
  {
   "cell_type": "code",
   "execution_count": 23,
   "id": "e862b494",
   "metadata": {},
   "outputs": [],
   "source": [
    "df_dice['location'] = df_dice['location'].str.strip()\n",
    "df_dice['location'] = df_dice['location'].str.split(',')"
   ]
  },
  {
   "cell_type": "code",
   "execution_count": 24,
   "id": "07f8945d",
   "metadata": {},
   "outputs": [],
   "source": [
    "df_dice['city'] = df_dice['location'].str[0]\n",
    "df_dice['state'] = df_dice['location'].str[1]"
   ]
  },
  {
   "cell_type": "code",
   "execution_count": 25,
   "id": "a2bcfcd4",
   "metadata": {},
   "outputs": [
    {
     "data": {
      "text/html": [
       "<div>\n",
       "<style scoped>\n",
       "    .dataframe tbody tr th:only-of-type {\n",
       "        vertical-align: middle;\n",
       "    }\n",
       "\n",
       "    .dataframe tbody tr th {\n",
       "        vertical-align: top;\n",
       "    }\n",
       "\n",
       "    .dataframe thead th {\n",
       "        text-align: right;\n",
       "    }\n",
       "</style>\n",
       "<table border=\"1\" class=\"dataframe\">\n",
       "  <thead>\n",
       "    <tr style=\"text-align: right;\">\n",
       "      <th></th>\n",
       "      <th>title</th>\n",
       "      <th>company</th>\n",
       "      <th>description</th>\n",
       "      <th>location</th>\n",
       "      <th>is_remote</th>\n",
       "      <th>city</th>\n",
       "      <th>state</th>\n",
       "    </tr>\n",
       "  </thead>\n",
       "  <tbody>\n",
       "    <tr>\n",
       "      <th>0</th>\n",
       "      <td>data analyst</td>\n",
       "      <td>3k technologies</td>\n",
       "      <td>data analyst eden prairie, mn (remote) 1 year ...</td>\n",
       "      <td>[remote]</td>\n",
       "      <td>1</td>\n",
       "      <td>remote</td>\n",
       "      <td>NaN</td>\n",
       "    </tr>\n",
       "    <tr>\n",
       "      <th>1</th>\n",
       "      <td>data analyst</td>\n",
       "      <td>idc technologies</td>\n",
       "      <td>data analyst  100% remote contract   job descr...</td>\n",
       "      <td>[remote]</td>\n",
       "      <td>1</td>\n",
       "      <td>remote</td>\n",
       "      <td>NaN</td>\n",
       "    </tr>\n",
       "    <tr>\n",
       "      <th>2</th>\n",
       "      <td>data analyst</td>\n",
       "      <td>aimic inc.</td>\n",
       "      <td>data analyst reston, va (remote to start but m...</td>\n",
       "      <td>[remote]</td>\n",
       "      <td>1</td>\n",
       "      <td>remote</td>\n",
       "      <td>NaN</td>\n",
       "    </tr>\n",
       "    <tr>\n",
       "      <th>3</th>\n",
       "      <td>data analyst</td>\n",
       "      <td>vaco technology</td>\n",
       "      <td>job title: data analyst  location: new york/ r...</td>\n",
       "      <td>[new york,  ny,  usa]</td>\n",
       "      <td>0</td>\n",
       "      <td>new york</td>\n",
       "      <td>ny</td>\n",
       "    </tr>\n",
       "    <tr>\n",
       "      <th>4</th>\n",
       "      <td>data analyst</td>\n",
       "      <td>nivid infotech inc.</td>\n",
       "      <td>data analyst  atlanta, ga ( remote to start ) ...</td>\n",
       "      <td>[remote or atlanta,  ga,  usa]</td>\n",
       "      <td>1</td>\n",
       "      <td>remote or atlanta</td>\n",
       "      <td>ga</td>\n",
       "    </tr>\n",
       "    <tr>\n",
       "      <th>...</th>\n",
       "      <td>...</td>\n",
       "      <td>...</td>\n",
       "      <td>...</td>\n",
       "      <td>...</td>\n",
       "      <td>...</td>\n",
       "      <td>...</td>\n",
       "      <td>...</td>\n",
       "    </tr>\n",
       "    <tr>\n",
       "      <th>3912</th>\n",
       "      <td>lead flight engineers</td>\n",
       "      <td>boeing</td>\n",
       "      <td>job description  at boeing, we innovate and co...</td>\n",
       "      <td>[louisville,  co,  usa]</td>\n",
       "      <td>0</td>\n",
       "      <td>louisville</td>\n",
       "      <td>co</td>\n",
       "    </tr>\n",
       "    <tr>\n",
       "      <th>3913</th>\n",
       "      <td>lead flight engineers</td>\n",
       "      <td>boeing</td>\n",
       "      <td>job description  at boeing, we innovate and co...</td>\n",
       "      <td>[arvada,  co,  usa]</td>\n",
       "      <td>0</td>\n",
       "      <td>arvada</td>\n",
       "      <td>co</td>\n",
       "    </tr>\n",
       "    <tr>\n",
       "      <th>3914</th>\n",
       "      <td>lead flight engineers</td>\n",
       "      <td>boeing</td>\n",
       "      <td>job description  at boeing, we innovate and co...</td>\n",
       "      <td>[parker,  co,  usa]</td>\n",
       "      <td>0</td>\n",
       "      <td>parker</td>\n",
       "      <td>co</td>\n",
       "    </tr>\n",
       "    <tr>\n",
       "      <th>3915</th>\n",
       "      <td>lead flight engineers</td>\n",
       "      <td>boeing</td>\n",
       "      <td>job description  at boeing, we innovate and co...</td>\n",
       "      <td>[idledale,  co,  usa]</td>\n",
       "      <td>0</td>\n",
       "      <td>idledale</td>\n",
       "      <td>co</td>\n",
       "    </tr>\n",
       "    <tr>\n",
       "      <th>3916</th>\n",
       "      <td>lead flight engineers</td>\n",
       "      <td>boeing</td>\n",
       "      <td>job description  at boeing, we innovate and co...</td>\n",
       "      <td>[westminster,  ca,  usa]</td>\n",
       "      <td>0</td>\n",
       "      <td>westminster</td>\n",
       "      <td>ca</td>\n",
       "    </tr>\n",
       "  </tbody>\n",
       "</table>\n",
       "<p>3917 rows × 7 columns</p>\n",
       "</div>"
      ],
      "text/plain": [
       "                        title                company  \\\n",
       "0               data analyst        3k technologies    \n",
       "1               data analyst       idc technologies    \n",
       "2               data analyst             aimic inc.    \n",
       "3               data analyst        vaco technology    \n",
       "4               data analyst    nivid infotech inc.    \n",
       "...                       ...                    ...   \n",
       "3912   lead flight engineers                 boeing    \n",
       "3913   lead flight engineers                 boeing    \n",
       "3914   lead flight engineers                 boeing    \n",
       "3915   lead flight engineers                 boeing    \n",
       "3916   lead flight engineers                 boeing    \n",
       "\n",
       "                                            description  \\\n",
       "0     data analyst eden prairie, mn (remote) 1 year ...   \n",
       "1     data analyst  100% remote contract   job descr...   \n",
       "2     data analyst reston, va (remote to start but m...   \n",
       "3     job title: data analyst  location: new york/ r...   \n",
       "4     data analyst  atlanta, ga ( remote to start ) ...   \n",
       "...                                                 ...   \n",
       "3912  job description  at boeing, we innovate and co...   \n",
       "3913  job description  at boeing, we innovate and co...   \n",
       "3914  job description  at boeing, we innovate and co...   \n",
       "3915  job description  at boeing, we innovate and co...   \n",
       "3916  job description  at boeing, we innovate and co...   \n",
       "\n",
       "                            location  is_remote               city state  \n",
       "0                           [remote]          1             remote   NaN  \n",
       "1                           [remote]          1             remote   NaN  \n",
       "2                           [remote]          1             remote   NaN  \n",
       "3              [new york,  ny,  usa]          0           new york    ny  \n",
       "4     [remote or atlanta,  ga,  usa]          1  remote or atlanta    ga  \n",
       "...                              ...        ...                ...   ...  \n",
       "3912         [louisville,  co,  usa]          0         louisville    co  \n",
       "3913             [arvada,  co,  usa]          0             arvada    co  \n",
       "3914             [parker,  co,  usa]          0             parker    co  \n",
       "3915           [idledale,  co,  usa]          0           idledale    co  \n",
       "3916        [westminster,  ca,  usa]          0        westminster    ca  \n",
       "\n",
       "[3917 rows x 7 columns]"
      ]
     },
     "execution_count": 25,
     "metadata": {},
     "output_type": "execute_result"
    }
   ],
   "source": [
    "df_dice"
   ]
  },
  {
   "cell_type": "code",
   "execution_count": 26,
   "id": "f8d352ed",
   "metadata": {},
   "outputs": [],
   "source": [
    "df_dice['city'] = df_dice['city'].str.replace('remote', '')\n",
    "df_dice['city'] = df_dice['city'].str.replace('remote or  ', '')\n",
    "df_dice['city'] = df_dice['city'].str.replace(' or ', '')"
   ]
  },
  {
   "cell_type": "code",
   "execution_count": 27,
   "id": "38f9af7b",
   "metadata": {
    "scrolled": true
   },
   "outputs": [
    {
     "data": {
      "text/html": [
       "<div>\n",
       "<style scoped>\n",
       "    .dataframe tbody tr th:only-of-type {\n",
       "        vertical-align: middle;\n",
       "    }\n",
       "\n",
       "    .dataframe tbody tr th {\n",
       "        vertical-align: top;\n",
       "    }\n",
       "\n",
       "    .dataframe thead th {\n",
       "        text-align: right;\n",
       "    }\n",
       "</style>\n",
       "<table border=\"1\" class=\"dataframe\">\n",
       "  <thead>\n",
       "    <tr style=\"text-align: right;\">\n",
       "      <th></th>\n",
       "      <th>title</th>\n",
       "      <th>company</th>\n",
       "      <th>description</th>\n",
       "      <th>location</th>\n",
       "      <th>is_remote</th>\n",
       "      <th>city</th>\n",
       "      <th>state</th>\n",
       "    </tr>\n",
       "  </thead>\n",
       "  <tbody>\n",
       "    <tr>\n",
       "      <th>0</th>\n",
       "      <td>data analyst</td>\n",
       "      <td>3k technologies</td>\n",
       "      <td>data analyst eden prairie, mn (remote) 1 year ...</td>\n",
       "      <td>[remote]</td>\n",
       "      <td>1</td>\n",
       "      <td></td>\n",
       "      <td>NaN</td>\n",
       "    </tr>\n",
       "    <tr>\n",
       "      <th>1</th>\n",
       "      <td>data analyst</td>\n",
       "      <td>idc technologies</td>\n",
       "      <td>data analyst  100% remote contract   job descr...</td>\n",
       "      <td>[remote]</td>\n",
       "      <td>1</td>\n",
       "      <td></td>\n",
       "      <td>NaN</td>\n",
       "    </tr>\n",
       "    <tr>\n",
       "      <th>2</th>\n",
       "      <td>data analyst</td>\n",
       "      <td>aimic inc.</td>\n",
       "      <td>data analyst reston, va (remote to start but m...</td>\n",
       "      <td>[remote]</td>\n",
       "      <td>1</td>\n",
       "      <td></td>\n",
       "      <td>NaN</td>\n",
       "    </tr>\n",
       "    <tr>\n",
       "      <th>3</th>\n",
       "      <td>data analyst</td>\n",
       "      <td>vaco technology</td>\n",
       "      <td>job title: data analyst  location: new york/ r...</td>\n",
       "      <td>[new york,  ny,  usa]</td>\n",
       "      <td>0</td>\n",
       "      <td>new york</td>\n",
       "      <td>ny</td>\n",
       "    </tr>\n",
       "    <tr>\n",
       "      <th>4</th>\n",
       "      <td>data analyst</td>\n",
       "      <td>nivid infotech inc.</td>\n",
       "      <td>data analyst  atlanta, ga ( remote to start ) ...</td>\n",
       "      <td>[remote or atlanta,  ga,  usa]</td>\n",
       "      <td>1</td>\n",
       "      <td>atlanta</td>\n",
       "      <td>ga</td>\n",
       "    </tr>\n",
       "    <tr>\n",
       "      <th>...</th>\n",
       "      <td>...</td>\n",
       "      <td>...</td>\n",
       "      <td>...</td>\n",
       "      <td>...</td>\n",
       "      <td>...</td>\n",
       "      <td>...</td>\n",
       "      <td>...</td>\n",
       "    </tr>\n",
       "    <tr>\n",
       "      <th>3912</th>\n",
       "      <td>lead flight engineers</td>\n",
       "      <td>boeing</td>\n",
       "      <td>job description  at boeing, we innovate and co...</td>\n",
       "      <td>[louisville,  co,  usa]</td>\n",
       "      <td>0</td>\n",
       "      <td>louisville</td>\n",
       "      <td>co</td>\n",
       "    </tr>\n",
       "    <tr>\n",
       "      <th>3913</th>\n",
       "      <td>lead flight engineers</td>\n",
       "      <td>boeing</td>\n",
       "      <td>job description  at boeing, we innovate and co...</td>\n",
       "      <td>[arvada,  co,  usa]</td>\n",
       "      <td>0</td>\n",
       "      <td>arvada</td>\n",
       "      <td>co</td>\n",
       "    </tr>\n",
       "    <tr>\n",
       "      <th>3914</th>\n",
       "      <td>lead flight engineers</td>\n",
       "      <td>boeing</td>\n",
       "      <td>job description  at boeing, we innovate and co...</td>\n",
       "      <td>[parker,  co,  usa]</td>\n",
       "      <td>0</td>\n",
       "      <td>parker</td>\n",
       "      <td>co</td>\n",
       "    </tr>\n",
       "    <tr>\n",
       "      <th>3915</th>\n",
       "      <td>lead flight engineers</td>\n",
       "      <td>boeing</td>\n",
       "      <td>job description  at boeing, we innovate and co...</td>\n",
       "      <td>[idledale,  co,  usa]</td>\n",
       "      <td>0</td>\n",
       "      <td>idledale</td>\n",
       "      <td>co</td>\n",
       "    </tr>\n",
       "    <tr>\n",
       "      <th>3916</th>\n",
       "      <td>lead flight engineers</td>\n",
       "      <td>boeing</td>\n",
       "      <td>job description  at boeing, we innovate and co...</td>\n",
       "      <td>[westminster,  ca,  usa]</td>\n",
       "      <td>0</td>\n",
       "      <td>westminster</td>\n",
       "      <td>ca</td>\n",
       "    </tr>\n",
       "  </tbody>\n",
       "</table>\n",
       "<p>3917 rows × 7 columns</p>\n",
       "</div>"
      ],
      "text/plain": [
       "                        title                company  \\\n",
       "0               data analyst        3k technologies    \n",
       "1               data analyst       idc technologies    \n",
       "2               data analyst             aimic inc.    \n",
       "3               data analyst        vaco technology    \n",
       "4               data analyst    nivid infotech inc.    \n",
       "...                       ...                    ...   \n",
       "3912   lead flight engineers                 boeing    \n",
       "3913   lead flight engineers                 boeing    \n",
       "3914   lead flight engineers                 boeing    \n",
       "3915   lead flight engineers                 boeing    \n",
       "3916   lead flight engineers                 boeing    \n",
       "\n",
       "                                            description  \\\n",
       "0     data analyst eden prairie, mn (remote) 1 year ...   \n",
       "1     data analyst  100% remote contract   job descr...   \n",
       "2     data analyst reston, va (remote to start but m...   \n",
       "3     job title: data analyst  location: new york/ r...   \n",
       "4     data analyst  atlanta, ga ( remote to start ) ...   \n",
       "...                                                 ...   \n",
       "3912  job description  at boeing, we innovate and co...   \n",
       "3913  job description  at boeing, we innovate and co...   \n",
       "3914  job description  at boeing, we innovate and co...   \n",
       "3915  job description  at boeing, we innovate and co...   \n",
       "3916  job description  at boeing, we innovate and co...   \n",
       "\n",
       "                            location  is_remote         city state  \n",
       "0                           [remote]          1                NaN  \n",
       "1                           [remote]          1                NaN  \n",
       "2                           [remote]          1                NaN  \n",
       "3              [new york,  ny,  usa]          0     new york    ny  \n",
       "4     [remote or atlanta,  ga,  usa]          1      atlanta    ga  \n",
       "...                              ...        ...          ...   ...  \n",
       "3912         [louisville,  co,  usa]          0   louisville    co  \n",
       "3913             [arvada,  co,  usa]          0       arvada    co  \n",
       "3914             [parker,  co,  usa]          0       parker    co  \n",
       "3915           [idledale,  co,  usa]          0     idledale    co  \n",
       "3916        [westminster,  ca,  usa]          0  westminster    ca  \n",
       "\n",
       "[3917 rows x 7 columns]"
      ]
     },
     "execution_count": 27,
     "metadata": {},
     "output_type": "execute_result"
    }
   ],
   "source": [
    "df_dice"
   ]
  },
  {
   "cell_type": "markdown",
   "id": "2b5f2d8d",
   "metadata": {},
   "source": [
    "## Data Analysis"
   ]
  },
  {
   "cell_type": "markdown",
   "id": "d7da1d1a",
   "metadata": {},
   "source": [
    "##### Unique cities in the dataset "
   ]
  },
  {
   "cell_type": "code",
   "execution_count": 30,
   "id": "bfeeccc4",
   "metadata": {},
   "outputs": [
    {
     "data": {
      "text/plain": [
       "776"
      ]
     },
     "execution_count": 30,
     "metadata": {},
     "output_type": "execute_result"
    }
   ],
   "source": [
    "df_dice.city.nunique()"
   ]
  },
  {
   "cell_type": "code",
   "execution_count": 32,
   "id": "608c661f",
   "metadata": {
    "scrolled": true
   },
   "outputs": [
    {
     "data": {
      "text/plain": [
       "                 706\n",
       "new york         162\n",
       "los angeles      120\n",
       "washington        83\n",
       "atlanta           72\n",
       "chicago           67\n",
       "san francisco     61\n",
       "dallas            59\n",
       "charlotte         57\n",
       "houston           50\n",
       "mclean            46\n",
       "seattle           45\n",
       "austin            44\n",
       "philadelphia      43\n",
       "denver            39\n",
       "san jose          36\n",
       "hartford          35\n",
       "jersey city       32\n",
       "irving            32\n",
       "durham            31\n",
       "Name: city, dtype: int64"
      ]
     },
     "execution_count": 32,
     "metadata": {},
     "output_type": "execute_result"
    }
   ],
   "source": [
    "df_dice.city.value_counts().head(20)"
   ]
  },
  {
   "cell_type": "markdown",
   "id": "bc704039",
   "metadata": {},
   "source": [
    "##### Total number of remote jobs available "
   ]
  },
  {
   "cell_type": "code",
   "execution_count": 33,
   "id": "51f3b0c8",
   "metadata": {
    "scrolled": false
   },
   "outputs": [
    {
     "data": {
      "text/plain": [
       "0    3130\n",
       "1     787\n",
       "Name: is_remote, dtype: int64"
      ]
     },
     "execution_count": 33,
     "metadata": {},
     "output_type": "execute_result"
    }
   ],
   "source": [
    "df_dice.is_remote.value_counts()"
   ]
  },
  {
   "cell_type": "code",
   "execution_count": 42,
   "id": "fdf8a93c",
   "metadata": {},
   "outputs": [
    {
     "data": {
      "image/png": "[encoded data removed]",
      "text/plain": [
       "<Figure size 432x432 with 1 Axes>"
      ]
     },
     "metadata": {},
     "output_type": "display_data"
    }
   ],
   "source": [
    "separate = [0, 0.05]\n",
    "pie = df_dice['is_remote'].value_counts().plot.pie(\n",
    "            explode=separate,\n",
    "            autopct=(lambda p : '{:.2f}%'.format(p)),\n",
    "            fontsize=20,label='Remote', pctdistance=0.5,\n",
    "            figsize=(6, 6))"
   ]
  },
  {
   "cell_type": "markdown",
   "id": "83a70ad5",
   "metadata": {},
   "source": [
    "##### Total number of jobs per state"
   ]
  },
  {
   "cell_type": "code",
   "execution_count": 34,
   "id": "165188c1",
   "metadata": {},
   "outputs": [
    {
     "data": {
      "text/plain": [
       "54"
      ]
     },
     "execution_count": 34,
     "metadata": {},
     "output_type": "execute_result"
    }
   ],
   "source": [
    "df_dice.state.nunique()"
   ]
  },
  {
   "cell_type": "code",
   "execution_count": 36,
   "id": "ff50c817",
   "metadata": {
    "scrolled": true
   },
   "outputs": [
    {
     "data": {
      "text/plain": [
       " ca        497\n",
       " tx        299\n",
       " va        266\n",
       " md        226\n",
       " wa        210\n",
       " ny        187\n",
       " ga        153\n",
       " co        140\n",
       " nc        131\n",
       " il        122\n",
       " nj        110\n",
       " pa         97\n",
       " fl         82\n",
       " ma         70\n",
       " mo         57\n",
       " az         53\n",
       " mn         47\n",
       " ct         46\n",
       " d.c.       45\n",
       " oh         37\n",
       " al         35\n",
       " dc         35\n",
       " wi         28\n",
       " or         27\n",
       " sc         24\n",
       " mi         19\n",
       " tn         18\n",
       " ut         17\n",
       " ia         15\n",
       " nm         14\n",
       " in         14\n",
       " de         13\n",
       " ok         10\n",
       " ne         10\n",
       " ar          9\n",
       " hi          8\n",
       " ri          7\n",
       " on          5\n",
       " la          4\n",
       " ky          4\n",
       " nv          4\n",
       " ks          4\n",
       " nd          3\n",
       " ns          2\n",
       " me          2\n",
       " nb          1\n",
       " vt          1\n",
       " cdmx        1\n",
       " nh          1\n",
       " hr          1\n",
       " sd          1\n",
       " mexico      1\n",
       " bc          1\n",
       " wv          1\n",
       "Name: state, dtype: int64"
      ]
     },
     "execution_count": 36,
     "metadata": {},
     "output_type": "execute_result"
    }
   ],
   "source": [
    "df_dice.state.value_counts().head(54)"
   ]
  },
  {
   "cell_type": "code",
   "execution_count": 73,
   "id": "e7a4a8f3",
   "metadata": {},
   "outputs": [
    {
     "data": {
      "text/plain": [
       "Text(0, 0.5, '#jobs')"
      ]
     },
     "execution_count": 73,
     "metadata": {},
     "output_type": "execute_result"
    },
    {
     "data": {
      "image/png": "[encoded data removed]",
      "text/plain": [
       "<Figure size 432x288 with 1 Axes>"
      ]
     },
     "metadata": {
      "needs_background": "light"
     },
     "output_type": "display_data"
    }
   ],
   "source": [
    "unstacked = df_dice.groupby(['state','is_remote']).size().unstack()\n",
    "subplot = unstacked.plot(kind='barh', stacked=True,  title='Job distribution by state')\n",
    "subplot.set_ylabel('#jobs')"
   ]
  },
  {
   "cell_type": "code",
   "execution_count": 37,
   "id": "09a166b8",
   "metadata": {},
   "outputs": [
    {
     "data": {
      "text/plain": [
       " guidehouse                           310\n",
       " motion recruitment                   288\n",
       " boeing                               287\n",
       " jobot                                193\n",
       " apex systems                          71\n",
       " kforce technology staffing            70\n",
       " judge group, inc.                     64\n",
       " astrazeneca                           62\n",
       " data systems analysts inc. (dsa)      53\n",
       " ebay inc.                             52\n",
       " pilgrim's                             48\n",
       " state farm                            48\n",
       " randstad technologies                 40\n",
       " spectrum                              40\n",
       " zachary piper solutions, llc          39\n",
       " travelers                             32\n",
       " spectraforce technologies inc.        28\n",
       " eliassen group                        27\n",
       " saic                                  26\n",
       " experis                               25\n",
       "Name: company, dtype: int64"
      ]
     },
     "execution_count": 37,
     "metadata": {},
     "output_type": "execute_result"
    }
   ],
   "source": [
    "df_dice.company.value_counts().head(20)"
   ]
  },
  {
   "cell_type": "code",
   "execution_count": null,
   "id": "9f44c099",
   "metadata": {},
   "outputs": [],
   "source": []
  },
  {
   "cell_type": "code",
   "execution_count": null,
   "id": "3fa1c945",
   "metadata": {},
   "outputs": [],
   "source": []
  },
  {
   "cell_type": "code",
   "execution_count": null,
   "id": "21f4b2fc",
   "metadata": {},
   "outputs": [],
   "source": []
  },
  {
   "cell_type": "code",
   "execution_count": null,
   "id": "c17ff855",
   "metadata": {},
   "outputs": [],
   "source": []
  },
  {
   "cell_type": "code",
   "execution_count": null,
   "id": "abde9f6d",
   "metadata": {},
   "outputs": [],
   "source": []
  },
  {
   "cell_type": "code",
   "execution_count": null,
   "id": "70fc7359",
   "metadata": {},
   "outputs": [],
   "source": []
  },
  {
   "cell_type": "code",
   "execution_count": null,
   "id": "aa73df75",
   "metadata": {},
   "outputs": [],
   "source": []
  },
  {
   "cell_type": "code",
   "execution_count": null,
   "id": "7efb4d22",
   "metadata": {},
   "outputs": [],
   "source": []
  },
  {
   "cell_type": "code",
   "execution_count": null,
   "id": "07fb73ca",
   "metadata": {},
   "outputs": [],
   "source": []
  },
  {
   "cell_type": "code",
   "execution_count": null,
   "id": "f43f13d6",
   "metadata": {},
   "outputs": [],
   "source": []
  },
  {
   "cell_type": "code",
   "execution_count": null,
   "id": "339197d2",
   "metadata": {},
   "outputs": [],
   "source": []
  },
  {
   "cell_type": "code",
   "execution_count": null,
   "id": "d0d90836",
   "metadata": {},
   "outputs": [],
   "source": []
  },
  {
   "cell_type": "code",
   "execution_count": null,
   "id": "4d371b36",
   "metadata": {},
   "outputs": [],
   "source": []
  },
  {
   "cell_type": "code",
   "execution_count": null,
   "id": "21de9a89",
   "metadata": {},
   "outputs": [],
   "source": []
  },
  {
   "cell_type": "code",
   "execution_count": null,
   "id": "2dc9d9c4",
   "metadata": {},
   "outputs": [],
   "source": []
  }
 ],
 "metadata": {
  "kernelspec": {
   "display_name": "Python 3 (ipykernel)",
   "language": "python",
   "name": "python3"
  },
  "language_info": {
   "codemirror_mode": {
    "name": "ipython",
    "version": 3
   },
   "file_extension": ".py",
   "mimetype": "text/x-python",
   "name": "python",
   "nbconvert_exporter": "python",
   "pygments_lexer": "ipython3",
   "version": "3.9.12"
  }
 },
 "nbformat": 4,
 "nbformat_minor": 5
}
