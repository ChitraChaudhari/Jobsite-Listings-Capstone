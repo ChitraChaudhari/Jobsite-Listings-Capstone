{
 "cells": [
  {
   "cell_type": "code",
   "execution_count": 1,
   "id": "541608c7",
   "metadata": {
    "ExecuteTime": {
     "end_time": "2022-09-03T21:44:29.987763Z",
     "start_time": "2022-09-03T21:44:29.609739Z"
    }
   },
   "outputs": [],
   "source": [
    "import pandas as pd \n",
    "import numpy as np\n",
    "import os\n",
    "import pyspark \n",
    "from pyspark.sql import SparkSession"
   ]
  },
  {
   "cell_type": "code",
   "execution_count": 2,
   "id": "361c7282",
   "metadata": {
    "ExecuteTime": {
     "end_time": "2022-09-03T21:44:29.993731Z",
     "start_time": "2022-09-03T21:44:29.989722Z"
    }
   },
   "outputs": [],
   "source": [
    "#replace with correct directory where data files are located \n",
    "os.chdir(r'C:\\Users\\Nicho\\gc-march-2022\\data')"
   ]
  },
  {
   "cell_type": "code",
   "execution_count": 3,
   "id": "de499e6a",
   "metadata": {
    "ExecuteTime": {
     "end_time": "2022-09-03T21:44:30.035599Z",
     "start_time": "2022-09-03T21:44:29.995740Z"
    }
   },
   "outputs": [],
   "source": [
    "da = pd.read_csv('Indeed_DataAnalyst_2022.csv')\n",
    "de = pd.read_csv('Indeed_DataEngineer_2022.csv')\n",
    "ds = pd.read_csv('Indeed_DataScience_2022.csv')"
   ]
  },
  {
   "cell_type": "code",
   "execution_count": 4,
   "id": "42056813",
   "metadata": {
    "ExecuteTime": {
     "end_time": "2022-09-03T21:44:30.063524Z",
     "start_time": "2022-09-03T21:44:30.038591Z"
    }
   },
   "outputs": [
    {
     "name": "stdout",
     "output_type": "stream",
     "text": [
      "<class 'pandas.core.frame.DataFrame'>\n",
      "RangeIndex: 1155 entries, 0 to 1154\n",
      "Data columns (total 6 columns):\n",
      " #   Column       Non-Null Count  Dtype \n",
      "---  ------       --------------  ----- \n",
      " 0   Unnamed: 0   1155 non-null   int64 \n",
      " 1   title        1155 non-null   object\n",
      " 2   company      1153 non-null   object\n",
      " 3   salary       388 non-null    object\n",
      " 4   description  1153 non-null   object\n",
      " 5   location     1153 non-null   object\n",
      "dtypes: int64(1), object(5)\n",
      "memory usage: 54.3+ KB\n",
      "<class 'pandas.core.frame.DataFrame'>\n",
      "RangeIndex: 4504 entries, 0 to 4503\n",
      "Data columns (total 6 columns):\n",
      " #   Column       Non-Null Count  Dtype \n",
      "---  ------       --------------  ----- \n",
      " 0   Unnamed: 0   4504 non-null   int64 \n",
      " 1   title        4504 non-null   object\n",
      " 2   company      4504 non-null   object\n",
      " 3   salary       1256 non-null   object\n",
      " 4   description  4504 non-null   object\n",
      " 5   location     4504 non-null   object\n",
      "dtypes: int64(1), object(5)\n",
      "memory usage: 211.2+ KB\n",
      "<class 'pandas.core.frame.DataFrame'>\n",
      "RangeIndex: 1153 entries, 0 to 1152\n",
      "Data columns (total 6 columns):\n",
      " #   Column       Non-Null Count  Dtype \n",
      "---  ------       --------------  ----- \n",
      " 0   Unnamed: 0   1153 non-null   int64 \n",
      " 1   title        1153 non-null   object\n",
      " 2   company      1153 non-null   object\n",
      " 3   salary       341 non-null    object\n",
      " 4   description  1153 non-null   object\n",
      " 5   location     1153 non-null   object\n",
      "dtypes: int64(1), object(5)\n",
      "memory usage: 54.2+ KB\n"
     ]
    }
   ],
   "source": [
    "da.info()\n",
    "de.info()\n",
    "ds.info()"
   ]
  },
  {
   "cell_type": "markdown",
   "id": "12106447",
   "metadata": {},
   "source": [
    "There is a lot more rows in the engineering data than the other two sites. Only the salary column contains null values."
   ]
  },
  {
   "cell_type": "code",
   "execution_count": 5,
   "id": "b8ff91dc",
   "metadata": {
    "ExecuteTime": {
     "end_time": "2022-09-03T21:44:30.090520Z",
     "start_time": "2022-09-03T21:44:30.064523Z"
    }
   },
   "outputs": [
    {
     "name": "stdout",
     "output_type": "stream",
     "text": [
      "<class 'pandas.core.frame.DataFrame'>\n",
      "Int64Index: 6812 entries, 0 to 1152\n",
      "Data columns (total 6 columns):\n",
      " #   Column       Non-Null Count  Dtype \n",
      "---  ------       --------------  ----- \n",
      " 0   Unnamed: 0   6812 non-null   int64 \n",
      " 1   title        6812 non-null   object\n",
      " 2   company      6810 non-null   object\n",
      " 3   salary       1985 non-null   object\n",
      " 4   description  6810 non-null   object\n",
      " 5   location     6810 non-null   object\n",
      "dtypes: int64(1), object(5)\n",
      "memory usage: 372.5+ KB\n",
      "<class 'pandas.core.frame.DataFrame'>\n",
      "Int64Index: 2210 entries, 0 to 1121\n",
      "Data columns (total 5 columns):\n",
      " #   Column       Non-Null Count  Dtype \n",
      "---  ------       --------------  ----- \n",
      " 0   title        2210 non-null   object\n",
      " 1   company      2208 non-null   object\n",
      " 2   salary       725 non-null    object\n",
      " 3   description  2208 non-null   object\n",
      " 4   location     2208 non-null   object\n",
      "dtypes: object(5)\n",
      "memory usage: 103.6+ KB\n"
     ]
    }
   ],
   "source": [
    "indeed_df = pd.concat([da,de,ds])\n",
    "indeed_df.info()\n",
    "indeed_df = indeed_df[['title','company','salary','description','location']]\n",
    "indeed_df.drop_duplicates(inplace=True)\n",
    "indeed_df.info()"
   ]
  },
  {
   "cell_type": "code",
   "execution_count": 6,
   "id": "451807e9",
   "metadata": {
    "ExecuteTime": {
     "end_time": "2022-09-03T21:44:30.102421Z",
     "start_time": "2022-09-03T21:44:30.091534Z"
    }
   },
   "outputs": [],
   "source": [
    "indeed_df['salary'] = indeed_df['salary'].str.lower()\n",
    "indeed_df['description'] = indeed_df['description'].str.lower()\n",
    "indeed_df['location'] = indeed_df['location'].str.lower()"
   ]
  },
  {
   "cell_type": "code",
   "execution_count": 7,
   "id": "96f11c21",
   "metadata": {
    "ExecuteTime": {
     "end_time": "2022-09-03T21:44:30.120383Z",
     "start_time": "2022-09-03T21:44:30.103454Z"
    }
   },
   "outputs": [
    {
     "data": {
      "text/html": [
       "<div>\n",
       "<style scoped>\n",
       "    .dataframe tbody tr th:only-of-type {\n",
       "        vertical-align: middle;\n",
       "    }\n",
       "\n",
       "    .dataframe tbody tr th {\n",
       "        vertical-align: top;\n",
       "    }\n",
       "\n",
       "    .dataframe thead th {\n",
       "        text-align: right;\n",
       "    }\n",
       "</style>\n",
       "<table border=\"1\" class=\"dataframe\">\n",
       "  <thead>\n",
       "    <tr style=\"text-align: right;\">\n",
       "      <th></th>\n",
       "      <th>title</th>\n",
       "      <th>company</th>\n",
       "      <th>salary</th>\n",
       "      <th>description</th>\n",
       "      <th>location</th>\n",
       "    </tr>\n",
       "  </thead>\n",
       "  <tbody>\n",
       "    <tr>\n",
       "      <th>0</th>\n",
       "      <td>Data Science Analyst- Marketing</td>\n",
       "      <td>Indeed</td>\n",
       "      <td>$100,000 - $140,000 a year</td>\n",
       "      <td>work across a wide range of data engineering t...</td>\n",
       "      <td>remote in texas+1 location</td>\n",
       "    </tr>\n",
       "    <tr>\n",
       "      <th>1</th>\n",
       "      <td>Data Analyst/Statistician</td>\n",
       "      <td>US Department of Veterans Affairs</td>\n",
       "      <td>$51,980 - $103,518 a year</td>\n",
       "      <td>create processes for assessing quality and acc...</td>\n",
       "      <td>hybrid remote in ann arbor, mi 48105</td>\n",
       "    </tr>\n",
       "    <tr>\n",
       "      <th>2</th>\n",
       "      <td>Departmental Analyst 9-P11 - Data Analytics</td>\n",
       "      <td>State of Michigan</td>\n",
       "      <td>NaN</td>\n",
       "      <td>and reporting, including biannual reports to t...</td>\n",
       "      <td>dimondale, mi</td>\n",
       "    </tr>\n",
       "    <tr>\n",
       "      <th>3</th>\n",
       "      <td>CRM Data Analyst</td>\n",
       "      <td>Zeiss Industrial Quality Solutions</td>\n",
       "      <td>$60,000 - $70,000 a year</td>\n",
       "      <td>responsible for maintaining sap/crm business p...</td>\n",
       "      <td>wixom, mi 48393+1 location</td>\n",
       "    </tr>\n",
       "    <tr>\n",
       "      <th>4</th>\n",
       "      <td>Data Analyst</td>\n",
       "      <td>Winwire Technologies</td>\n",
       "      <td>NaN</td>\n",
       "      <td>providing resource to add/delete/amend data wi...</td>\n",
       "      <td>remote</td>\n",
       "    </tr>\n",
       "  </tbody>\n",
       "</table>\n",
       "</div>"
      ],
      "text/plain": [
       "                                         title  \\\n",
       "0              Data Science Analyst- Marketing   \n",
       "1                    Data Analyst/Statistician   \n",
       "2  Departmental Analyst 9-P11 - Data Analytics   \n",
       "3                             CRM Data Analyst   \n",
       "4                                 Data Analyst   \n",
       "\n",
       "                              company                      salary  \\\n",
       "0                              Indeed  $100,000 - $140,000 a year   \n",
       "1   US Department of Veterans Affairs   $51,980 - $103,518 a year   \n",
       "2                   State of Michigan                         NaN   \n",
       "3  Zeiss Industrial Quality Solutions    $60,000 - $70,000 a year   \n",
       "4                Winwire Technologies                         NaN   \n",
       "\n",
       "                                         description  \\\n",
       "0  work across a wide range of data engineering t...   \n",
       "1  create processes for assessing quality and acc...   \n",
       "2  and reporting, including biannual reports to t...   \n",
       "3  responsible for maintaining sap/crm business p...   \n",
       "4  providing resource to add/delete/amend data wi...   \n",
       "\n",
       "                               location  \n",
       "0            remote in texas+1 location  \n",
       "1  hybrid remote in ann arbor, mi 48105  \n",
       "2                         dimondale, mi  \n",
       "3            wixom, mi 48393+1 location  \n",
       "4                                remote  "
      ]
     },
     "execution_count": 7,
     "metadata": {},
     "output_type": "execute_result"
    }
   ],
   "source": [
    "indeed_df.head(5)"
   ]
  },
  {
   "cell_type": "code",
   "execution_count": 8,
   "id": "5093751a",
   "metadata": {
    "ExecuteTime": {
     "end_time": "2022-09-03T21:44:30.136330Z",
     "start_time": "2022-09-03T21:44:30.121370Z"
    }
   },
   "outputs": [
    {
     "name": "stderr",
     "output_type": "stream",
     "text": [
      "C:\\Users\\Nicho\\AppData\\Local\\Temp/ipykernel_24860/3954269124.py:4: FutureWarning: The default value of regex will change from True to False in a future version. In addition, single character regular expressions will *not* be treated as literal strings when regex=True.\n",
      "  indeed_df['salary'] = indeed_df['salary'].str.replace('$',' ')\n",
      "C:\\Users\\Nicho\\AppData\\Local\\Temp/ipykernel_24860/3954269124.py:5: FutureWarning: The default value of regex will change from True to False in a future version.\n",
      "  indeed_df['salary'] = indeed_df['salary'].str.replace(\"[a-z]\",\"\")\n"
     ]
    }
   ],
   "source": [
    "import re\n",
    "indeed_df['salary'] = indeed_df['salary'].str.replace(',','')\n",
    "indeed_df['salary'] = indeed_df['salary'].str.replace('-',' ')\n",
    "indeed_df['salary'] = indeed_df['salary'].str.replace('$',' ')\n",
    "indeed_df['salary'] = indeed_df['salary'].str.replace(\"[a-z]\",\"\")   \n",
    "indeed_df['jobid'] = str(indeed_df['title']) + str(indeed_df['company']) + str(indeed_df['company'])\n"
   ]
  },
  {
   "cell_type": "code",
   "execution_count": 9,
   "id": "82f4a01c",
   "metadata": {
    "ExecuteTime": {
     "end_time": "2022-09-03T21:44:30.150292Z",
     "start_time": "2022-09-03T21:44:30.137334Z"
    }
   },
   "outputs": [],
   "source": [
    "income_split = indeed_df['salary'].str.split(expand = True)\n",
    "indeed_df['salary_lower_range'] =  income_split[0]\n",
    "indeed_df['salary_upper_range'] =  income_split[1]\n",
    "indeed_df.drop('salary',axis = 1,inplace=True)"
   ]
  },
  {
   "cell_type": "code",
   "execution_count": 10,
   "id": "67b0356a",
   "metadata": {
    "ExecuteTime": {
     "end_time": "2022-09-03T21:44:30.164283Z",
     "start_time": "2022-09-03T21:44:30.154282Z"
    }
   },
   "outputs": [],
   "source": [
    "\n",
    "indeed_df['company'].dropna(axis=0,inplace=True)\n",
    "indeed_df['salary_lower_range'].fillna(0,inplace=True)\n",
    "indeed_df['salary_upper_range'].fillna(0,inplace=True)\n",
    "indeed_df['salary_lower_range'] = indeed_df['salary_lower_range'].astype(float)\n",
    "indeed_df['salary_upper_range']  = indeed_df['salary_upper_range'].astype(float)\n",
    "hourly_salaries = indeed_df[indeed_df['salary_lower_range'] < 100]\n",
    "indeed_df = indeed_df[indeed_df['salary_lower_range'] > 100]"
   ]
  },
  {
   "cell_type": "code",
   "execution_count": 11,
   "id": "cb60747c",
   "metadata": {
    "ExecuteTime": {
     "end_time": "2022-09-03T21:44:30.170239Z",
     "start_time": "2022-09-03T21:44:30.165253Z"
    }
   },
   "outputs": [],
   "source": [
    "hourly_salaries['salary_lower_range']  = (hourly_salaries['salary_lower_range'] * 40) * 52\n",
    "hourly_salaries['salary_upper_range'] = (hourly_salaries['salary_upper_range'] * 40) * 52"
   ]
  },
  {
   "cell_type": "code",
   "execution_count": 12,
   "id": "f405874c",
   "metadata": {
    "ExecuteTime": {
     "end_time": "2022-09-03T21:44:30.177546Z",
     "start_time": "2022-09-03T21:44:30.171236Z"
    }
   },
   "outputs": [],
   "source": [
    "indeed_df = pd.concat([hourly_salaries,indeed_df])"
   ]
  },
  {
   "cell_type": "code",
   "execution_count": 13,
   "id": "52685973",
   "metadata": {
    "ExecuteTime": {
     "end_time": "2022-09-03T21:44:30.190223Z",
     "start_time": "2022-09-03T21:44:30.178217Z"
    }
   },
   "outputs": [],
   "source": [
    "indeed_df['is_remote'] = np.where(indeed_df['description'].str.contains('remote'),1,0)\n",
    "indeed_df['location'] = indeed_df['location'].str.replace('remote','')\n",
    "indeed_df['location'] = indeed_df['location'].str.replace('in','')"
   ]
  },
  {
   "cell_type": "code",
   "execution_count": 14,
   "id": "7a186a46",
   "metadata": {
    "ExecuteTime": {
     "end_time": "2022-09-03T21:44:30.202216Z",
     "start_time": "2022-09-03T21:44:30.191220Z"
    }
   },
   "outputs": [
    {
     "data": {
      "text/html": [
       "<div>\n",
       "<style scoped>\n",
       "    .dataframe tbody tr th:only-of-type {\n",
       "        vertical-align: middle;\n",
       "    }\n",
       "\n",
       "    .dataframe tbody tr th {\n",
       "        vertical-align: top;\n",
       "    }\n",
       "\n",
       "    .dataframe thead th {\n",
       "        text-align: right;\n",
       "    }\n",
       "</style>\n",
       "<table border=\"1\" class=\"dataframe\">\n",
       "  <thead>\n",
       "    <tr style=\"text-align: right;\">\n",
       "      <th></th>\n",
       "      <th>title</th>\n",
       "      <th>company</th>\n",
       "      <th>description</th>\n",
       "      <th>location</th>\n",
       "      <th>jobid</th>\n",
       "      <th>salary_lower_range</th>\n",
       "      <th>salary_upper_range</th>\n",
       "    </tr>\n",
       "    <tr>\n",
       "      <th>is_remote</th>\n",
       "      <th></th>\n",
       "      <th></th>\n",
       "      <th></th>\n",
       "      <th></th>\n",
       "      <th></th>\n",
       "      <th></th>\n",
       "      <th></th>\n",
       "    </tr>\n",
       "  </thead>\n",
       "  <tbody>\n",
       "    <tr>\n",
       "      <th>0</th>\n",
       "      <td>2189</td>\n",
       "      <td>2189</td>\n",
       "      <td>2189</td>\n",
       "      <td>2189</td>\n",
       "      <td>2189</td>\n",
       "      <td>2189</td>\n",
       "      <td>2189</td>\n",
       "    </tr>\n",
       "    <tr>\n",
       "      <th>1</th>\n",
       "      <td>21</td>\n",
       "      <td>19</td>\n",
       "      <td>19</td>\n",
       "      <td>19</td>\n",
       "      <td>21</td>\n",
       "      <td>21</td>\n",
       "      <td>21</td>\n",
       "    </tr>\n",
       "  </tbody>\n",
       "</table>\n",
       "</div>"
      ],
      "text/plain": [
       "           title  company  description  location  jobid  salary_lower_range  \\\n",
       "is_remote                                                                     \n",
       "0           2189     2189         2189      2189   2189                2189   \n",
       "1             21       19           19        19     21                  21   \n",
       "\n",
       "           salary_upper_range  \n",
       "is_remote                      \n",
       "0                        2189  \n",
       "1                          21  "
      ]
     },
     "execution_count": 14,
     "metadata": {},
     "output_type": "execute_result"
    }
   ],
   "source": [
    "indeed_df.groupby('is_remote').count()"
   ]
  },
  {
   "cell_type": "code",
   "execution_count": 15,
   "id": "43539744",
   "metadata": {
    "ExecuteTime": {
     "end_time": "2022-09-03T21:44:30.224096Z",
     "start_time": "2022-09-03T21:44:30.203150Z"
    }
   },
   "outputs": [
    {
     "name": "stderr",
     "output_type": "stream",
     "text": [
      "C:\\Users\\Nicho\\AppData\\Local\\Temp/ipykernel_24860/730417472.py:1: FutureWarning: The default value of regex will change from True to False in a future version.\n",
      "  indeed_df['zipcode'] = indeed_df['location'].str.replace(r'\\D+','')\n"
     ]
    }
   ],
   "source": [
    "indeed_df['zipcode'] = indeed_df['location'].str.replace(r'\\D+','')\n",
    "indeed_df['zipcode'] = np.where(indeed_df['zipcode'] == '',0,indeed_df['zipcode'])\n",
    "indeed_df['zipcode'] = indeed_df['zipcode'].fillna(0)\n",
    "indeed_df['zipcode'] = indeed_df['zipcode'].astype('int')\n",
    "indeed_df['zipcode'] = np.where(indeed_df['zipcode'] < 1000,0,indeed_df['zipcode'])\n",
    "indeed_df.drop_duplicates(inplace = True)"
   ]
  },
  {
   "cell_type": "code",
   "execution_count": 16,
   "id": "9c57f625",
   "metadata": {
    "ExecuteTime": {
     "end_time": "2022-09-03T21:44:30.234068Z",
     "start_time": "2022-09-03T21:44:30.226090Z"
    },
    "scrolled": true
   },
   "outputs": [
    {
     "name": "stderr",
     "output_type": "stream",
     "text": [
      "C:\\Users\\Nicho\\AppData\\Local\\Temp/ipykernel_24860/1525615495.py:1: FutureWarning: The default value of regex will change from True to False in a future version.\n",
      "  indeed_df['location'] = indeed_df['location'].str.replace(\"[0-9]\",'')\n"
     ]
    }
   ],
   "source": [
    "indeed_df['location'] = indeed_df['location'].str.replace(\"[0-9]\",'')"
   ]
  },
  {
   "cell_type": "code",
   "execution_count": 17,
   "id": "deec1c7e",
   "metadata": {
    "ExecuteTime": {
     "end_time": "2022-09-03T21:44:30.244042Z",
     "start_time": "2022-09-03T21:44:30.235066Z"
    }
   },
   "outputs": [],
   "source": [
    "indeed_df['location'] = indeed_df['location'].str.strip()\n",
    "indeed_df['location'] = indeed_df['location'].str.split(',')"
   ]
  },
  {
   "cell_type": "code",
   "execution_count": 18,
   "id": "ba8acdcd",
   "metadata": {
    "ExecuteTime": {
     "end_time": "2022-09-03T21:44:30.263991Z",
     "start_time": "2022-09-03T21:44:30.245040Z"
    }
   },
   "outputs": [
    {
     "name": "stderr",
     "output_type": "stream",
     "text": [
      "C:\\Users\\Nicho\\AppData\\Local\\Temp/ipykernel_24860/3846399863.py:2: FutureWarning: The default value of regex will change from True to False in a future version.\n",
      "  indeed_df['city'] = indeed_df['city'].str.replace(\"[0-9+()-]\",' ')\n",
      "C:\\Users\\Nicho\\AppData\\Local\\Temp/ipykernel_24860/3846399863.py:6: FutureWarning: The default value of regex will change from True to False in a future version.\n",
      "  indeed_df['state'] = indeed_df['state'].str.replace(\"[0-9+()-]\",'')\n"
     ]
    }
   ],
   "source": [
    "indeed_df['city'] = indeed_df['location'].str[0]\n",
    "indeed_df['city'] = indeed_df['city'].str.replace(\"[0-9+()-]\",' ')\n",
    "indeed_df['state'] = indeed_df['location'].str[1]\n",
    "indeed_df['state'] = indeed_df['state'].str.split()\n",
    "indeed_df['state'] = indeed_df['state'].str[0]\n",
    "indeed_df['state'] = indeed_df['state'].str.replace(\"[0-9+()-]\",'')"
   ]
  },
  {
   "cell_type": "code",
   "execution_count": 19,
   "id": "3cff51d6",
   "metadata": {
    "ExecuteTime": {
     "end_time": "2022-09-03T21:44:30.279948Z",
     "start_time": "2022-09-03T21:44:30.264986Z"
    }
   },
   "outputs": [],
   "source": [
    "indeed_df['city'] = np.where(indeed_df['city'].str.contains('location'),'Remote',indeed_df['city'])\n",
    "indeed_df.groupby('state').count()\n",
    "indeed_df.groupby('city').count()           \n",
    "indeed_df.drop('location',axis = 1,inplace=True)"
   ]
  },
  {
   "cell_type": "code",
   "execution_count": 20,
   "id": "034ca0b3",
   "metadata": {
    "ExecuteTime": {
     "end_time": "2022-09-03T21:44:38.168993Z",
     "start_time": "2022-09-03T21:44:38.149047Z"
    }
   },
   "outputs": [
    {
     "data": {
      "text/html": [
       "<div>\n",
       "<style scoped>\n",
       "    .dataframe tbody tr th:only-of-type {\n",
       "        vertical-align: middle;\n",
       "    }\n",
       "\n",
       "    .dataframe tbody tr th {\n",
       "        vertical-align: top;\n",
       "    }\n",
       "\n",
       "    .dataframe thead th {\n",
       "        text-align: right;\n",
       "    }\n",
       "</style>\n",
       "<table border=\"1\" class=\"dataframe\">\n",
       "  <thead>\n",
       "    <tr style=\"text-align: right;\">\n",
       "      <th></th>\n",
       "      <th>title</th>\n",
       "      <th>company</th>\n",
       "      <th>description</th>\n",
       "      <th>jobid</th>\n",
       "      <th>salary_lower_range</th>\n",
       "      <th>salary_upper_range</th>\n",
       "      <th>is_remote</th>\n",
       "      <th>zipcode</th>\n",
       "      <th>city</th>\n",
       "      <th>state</th>\n",
       "    </tr>\n",
       "  </thead>\n",
       "  <tbody>\n",
       "    <tr>\n",
       "      <th>2</th>\n",
       "      <td>Departmental Analyst 9-P11 - Data Analytics</td>\n",
       "      <td>State of Michigan</td>\n",
       "      <td>and reporting, including biannual reports to t...</td>\n",
       "      <td>0                         Data Science Analyst...</td>\n",
       "      <td>0.0</td>\n",
       "      <td>0.0</td>\n",
       "      <td>0</td>\n",
       "      <td>0</td>\n",
       "      <td>dimondale</td>\n",
       "      <td>mi</td>\n",
       "    </tr>\n",
       "    <tr>\n",
       "      <th>4</th>\n",
       "      <td>Data Analyst</td>\n",
       "      <td>Winwire Technologies</td>\n",
       "      <td>providing resource to add/delete/amend data wi...</td>\n",
       "      <td>0                         Data Science Analyst...</td>\n",
       "      <td>0.0</td>\n",
       "      <td>0.0</td>\n",
       "      <td>0</td>\n",
       "      <td>0</td>\n",
       "      <td></td>\n",
       "      <td>NaN</td>\n",
       "    </tr>\n",
       "    <tr>\n",
       "      <th>5</th>\n",
       "      <td>Junior Data Analyst - DAL22-033349999999</td>\n",
       "      <td>Evergreen Technologies, LLC.</td>\n",
       "      <td>experience with data wrangling, data cleaning ...</td>\n",
       "      <td>0                         Data Science Analyst...</td>\n",
       "      <td>0.0</td>\n",
       "      <td>0.0</td>\n",
       "      <td>0</td>\n",
       "      <td>0</td>\n",
       "      <td>detroit</td>\n",
       "      <td>mi</td>\n",
       "    </tr>\n",
       "    <tr>\n",
       "      <th>6</th>\n",
       "      <td>Junior Data Analyst</td>\n",
       "      <td>Teamson</td>\n",
       "      <td>at least two years of experience as an analyst...</td>\n",
       "      <td>0                         Data Science Analyst...</td>\n",
       "      <td>0.0</td>\n",
       "      <td>0.0</td>\n",
       "      <td>0</td>\n",
       "      <td>0</td>\n",
       "      <td></td>\n",
       "      <td>NaN</td>\n",
       "    </tr>\n",
       "    <tr>\n",
       "      <th>8</th>\n",
       "      <td>Senior Data Analyst, IT Remote</td>\n",
       "      <td>U.S. Medical Management</td>\n",
       "      <td>perform data cleansing to identify erroneous d...</td>\n",
       "      <td>0                         Data Science Analyst...</td>\n",
       "      <td>0.0</td>\n",
       "      <td>0.0</td>\n",
       "      <td>0</td>\n",
       "      <td>48084</td>\n",
       "      <td>troy</td>\n",
       "      <td>mi</td>\n",
       "    </tr>\n",
       "    <tr>\n",
       "      <th>...</th>\n",
       "      <td>...</td>\n",
       "      <td>...</td>\n",
       "      <td>...</td>\n",
       "      <td>...</td>\n",
       "      <td>...</td>\n",
       "      <td>...</td>\n",
       "      <td>...</td>\n",
       "      <td>...</td>\n",
       "      <td>...</td>\n",
       "      <td>...</td>\n",
       "    </tr>\n",
       "    <tr>\n",
       "      <th>1088</th>\n",
       "      <td>Software Engineering Manager</td>\n",
       "      <td>CyberCoders</td>\n",
       "      <td>lead, manage, mentor and develop teams of soft...</td>\n",
       "      <td>0                         Data Science Analyst...</td>\n",
       "      <td>170000.0</td>\n",
       "      <td>200000.0</td>\n",
       "      <td>0</td>\n",
       "      <td>90066</td>\n",
       "      <td>los angeles</td>\n",
       "      <td>ca</td>\n",
       "    </tr>\n",
       "    <tr>\n",
       "      <th>1095</th>\n",
       "      <td>Bi Architect</td>\n",
       "      <td>CyberCoders</td>\n",
       "      <td>this data-first strategy has enabled data and ...</td>\n",
       "      <td>0                         Data Science Analyst...</td>\n",
       "      <td>150000.0</td>\n",
       "      <td>200000.0</td>\n",
       "      <td>0</td>\n",
       "      <td>72761</td>\n",
       "      <td>siloam sprgs</td>\n",
       "      <td>ar</td>\n",
       "    </tr>\n",
       "    <tr>\n",
       "      <th>1100</th>\n",
       "      <td>Software Engineering Manager</td>\n",
       "      <td>CyberCoders</td>\n",
       "      <td>to meet business and consumer needs, we utiliz...</td>\n",
       "      <td>0                         Data Science Analyst...</td>\n",
       "      <td>170000.0</td>\n",
       "      <td>200000.0</td>\n",
       "      <td>0</td>\n",
       "      <td>90066</td>\n",
       "      <td>los angeles</td>\n",
       "      <td>ca</td>\n",
       "    </tr>\n",
       "    <tr>\n",
       "      <th>1102</th>\n",
       "      <td>Director of Regional Insights and Analytics</td>\n",
       "      <td>Michael Page</td>\n",
       "      <td>academic background in statistics, data scienc...</td>\n",
       "      <td>0                         Data Science Analyst...</td>\n",
       "      <td>150000.0</td>\n",
       "      <td>160000.0</td>\n",
       "      <td>1</td>\n",
       "      <td>0</td>\n",
       "      <td>jersey city</td>\n",
       "      <td>nj</td>\n",
       "    </tr>\n",
       "    <tr>\n",
       "      <th>1121</th>\n",
       "      <td>Senior Director, DAS Valuation Specialist l Fo...</td>\n",
       "      <td>FTI Consulting, Inc.</td>\n",
       "      <td>organizes information to facilitate effective ...</td>\n",
       "      <td>0                         Data Science Analyst...</td>\n",
       "      <td>140000.0</td>\n",
       "      <td>281000.0</td>\n",
       "      <td>0</td>\n",
       "      <td>60606</td>\n",
       "      <td>chicago</td>\n",
       "      <td>il</td>\n",
       "    </tr>\n",
       "  </tbody>\n",
       "</table>\n",
       "<p>2210 rows × 10 columns</p>\n",
       "</div>"
      ],
      "text/plain": [
       "                                                  title  \\\n",
       "2           Departmental Analyst 9-P11 - Data Analytics   \n",
       "4                                          Data Analyst   \n",
       "5              Junior Data Analyst - DAL22-033349999999   \n",
       "6                                   Junior Data Analyst   \n",
       "8                        Senior Data Analyst, IT Remote   \n",
       "...                                                 ...   \n",
       "1088                       Software Engineering Manager   \n",
       "1095                                       Bi Architect   \n",
       "1100                       Software Engineering Manager   \n",
       "1102        Director of Regional Insights and Analytics   \n",
       "1121  Senior Director, DAS Valuation Specialist l Fo...   \n",
       "\n",
       "                           company  \\\n",
       "2                State of Michigan   \n",
       "4             Winwire Technologies   \n",
       "5     Evergreen Technologies, LLC.   \n",
       "6                          Teamson   \n",
       "8          U.S. Medical Management   \n",
       "...                            ...   \n",
       "1088                   CyberCoders   \n",
       "1095                   CyberCoders   \n",
       "1100                   CyberCoders   \n",
       "1102                  Michael Page   \n",
       "1121          FTI Consulting, Inc.   \n",
       "\n",
       "                                            description  \\\n",
       "2     and reporting, including biannual reports to t...   \n",
       "4     providing resource to add/delete/amend data wi...   \n",
       "5     experience with data wrangling, data cleaning ...   \n",
       "6     at least two years of experience as an analyst...   \n",
       "8     perform data cleansing to identify erroneous d...   \n",
       "...                                                 ...   \n",
       "1088  lead, manage, mentor and develop teams of soft...   \n",
       "1095  this data-first strategy has enabled data and ...   \n",
       "1100  to meet business and consumer needs, we utiliz...   \n",
       "1102  academic background in statistics, data scienc...   \n",
       "1121  organizes information to facilitate effective ...   \n",
       "\n",
       "                                                  jobid  salary_lower_range  \\\n",
       "2     0                         Data Science Analyst...                 0.0   \n",
       "4     0                         Data Science Analyst...                 0.0   \n",
       "5     0                         Data Science Analyst...                 0.0   \n",
       "6     0                         Data Science Analyst...                 0.0   \n",
       "8     0                         Data Science Analyst...                 0.0   \n",
       "...                                                 ...                 ...   \n",
       "1088  0                         Data Science Analyst...            170000.0   \n",
       "1095  0                         Data Science Analyst...            150000.0   \n",
       "1100  0                         Data Science Analyst...            170000.0   \n",
       "1102  0                         Data Science Analyst...            150000.0   \n",
       "1121  0                         Data Science Analyst...            140000.0   \n",
       "\n",
       "      salary_upper_range  is_remote  zipcode          city state  \n",
       "2                    0.0          0        0     dimondale    mi  \n",
       "4                    0.0          0        0                 NaN  \n",
       "5                    0.0          0        0       detroit    mi  \n",
       "6                    0.0          0        0                 NaN  \n",
       "8                    0.0          0    48084          troy    mi  \n",
       "...                  ...        ...      ...           ...   ...  \n",
       "1088            200000.0          0    90066   los angeles    ca  \n",
       "1095            200000.0          0    72761  siloam sprgs    ar  \n",
       "1100            200000.0          0    90066   los angeles    ca  \n",
       "1102            160000.0          1        0   jersey city    nj  \n",
       "1121            281000.0          0    60606       chicago    il  \n",
       "\n",
       "[2210 rows x 10 columns]"
      ]
     },
     "execution_count": 20,
     "metadata": {},
     "output_type": "execute_result"
    }
   ],
   "source": [
    "indeed_df"
   ]
  },
  {
   "cell_type": "code",
   "execution_count": null,
   "id": "844a0a51",
   "metadata": {},
   "outputs": [],
   "source": []
  }
 ],
 "metadata": {
  "kernelspec": {
   "display_name": "Python 3 (ipykernel)",
   "language": "python",
   "name": "python3"
  },
  "language_info": {
   "codemirror_mode": {
    "name": "ipython",
    "version": 3
   },
   "file_extension": ".py",
   "mimetype": "text/x-python",
   "name": "python",
   "nbconvert_exporter": "python",
   "pygments_lexer": "ipython3",
   "version": "3.9.7"
  }
 },
 "nbformat": 4,
 "nbformat_minor": 5
}
